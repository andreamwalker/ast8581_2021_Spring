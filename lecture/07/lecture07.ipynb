{
 "cells": [
  {
   "cell_type": "code",
   "execution_count": 1,
   "metadata": {
    "slideshow": {
     "slide_type": "skip"
    }
   },
   "outputs": [],
   "source": [
    "from notebook.services.config import ConfigManager\n",
    "cm = ConfigManager()\n",
    "cm.update('livereveal', {\n",
    "        'width': 1920,\n",
    "        'height': 1080,\n",
    "        'scroll': True,\n",
    "})\n",
    "%config InlineBackend.figure_format = 'retina'"
   ]
  },
  {
   "cell_type": "markdown",
   "metadata": {
    "slideshow": {
     "slide_type": "slide"
    }
   },
   "source": [
    "# Lecture 07 (Wednesday), AST 8581 / PHYS 8581 / CSCI 8581: Big Data in Astrophysics\n",
    "\n",
    "### Michael Coughlin <cough052@umn.edu>, Michael Steinbach <stei0062@umn.edu>, Nico Adams adams900@umn.edu\n",
    "\n",
    "\n",
    "With contributions totally ripped off from Gautham Narayan (UIUC) and Chris Fonnesbeck's PyData course here: https://github.com/fonnesbeck/mcmc_pydata_london_2019"
   ]
  },
  {
   "cell_type": "markdown",
   "metadata": {
    "slideshow": {
     "slide_type": "slide"
    }
   },
   "source": [
    "* Simple MC with uniform sampling of parameter space **does not solve curse of dimensionality (too many useless samples in low likelihood region)** \n",
    "* What if, instead of sampling the parameter space uniformly, you could sample the posterior directly\n",
    "    * Possible outcomes would be **simulated with a frequency proportional to the probability**\n",
    "    * *Note: sample in the parameter space that has an underlying distribution similar to the distribution you are interested in, rather than randomly.*\n",
    "    \n",
    "<table>\n",
    "    <tr>\n",
    "        <td><img src=\"figures/Likelihood_Surface.png\" width=100%></td>\n",
    "    </tr>\n",
    "</table>"
   ]
  },
  {
   "cell_type": "markdown",
   "metadata": {
    "slideshow": {
     "slide_type": "slide"
    }
   },
   "source": [
    "There are a couple of approaches to this:\n",
    " \n",
    "### 1. Rejection sampling\n",
    "For this method, we need to define an *envelope function* which everywhere exceeds the target PDF, $p(x)$, and can be sampled. Let this be $Ag(x)$ where $A$ is a scaling factor and $g(x)$ is a PDF we know.\n",
    "\n",
    "Then the algorithm is\n",
    "```\n",
    "while we want more samples\n",
    "    draw a random value for x from some distribution g in the variable x\n",
    "    draw u from Uniform(0,1)\n",
    "    if u <= p(x)/(A*g(x)), keep the sample x\n",
    "    otherwise, reject x\n",
    "```"
   ]
  },
  {
   "cell_type": "markdown",
   "metadata": {
    "slideshow": {
     "slide_type": "subslide"
    }
   },
   "source": [
    "Visually, this corresponds to drawing points that uniformly fill in the space under $p(x)$.\n",
    "\n",
    "<table>\n",
    "    <tr>\n",
    "        <td><img src=\"figures/mc1_rejection.png\" width=100%></td>\n",
    "    </tr>\n",
    "</table>\n",
    "Courtesy: Phil Marshall\n",
    "\n",
    "*Note: Why do this? This helps us in the sampling problem; we may have good knowledge of the underlying probability distribution p(x), but it could be quite complex and difficult to sample from, or sample from in a way such that the samples (x values) drawn from the probability distribution are distributed according to the overall distribution, i.e. I have more samples from the interesting part of the distribution, rather than having high density in the less probable regions.*"
   ]
  },
  {
   "cell_type": "markdown",
   "metadata": {
    "slideshow": {
     "slide_type": "subslide"
    }
   },
   "source": [
    "\n",
    "# This also does not solve the problem posed by the curse of dimensionality \n",
    "\n",
    "# But this approach is general and works for any function "
   ]
  },
  {
   "cell_type": "markdown",
   "metadata": {
    "slideshow": {
     "slide_type": "slide"
    }
   },
   "source": [
    "The second approach you've already seen and used a lot:\n",
    "\n",
    "### 2. The Inverse Transform \n",
    "\n",
    "The definition of the CDF (and it's inverse, $F^{-1}$, the quantile function - i.e. `ppf()` in `scipy.stats`) \n",
    "\n",
    "$F(x) = P(X \\leq x) = \\int_{-\\infty}^x p(x')\\,dx'$\n",
    "\n",
    "By this definition, quantiles of $X$ are uniformly distributed on [0,1]. If $F^{-1}$ is easy to evaluate, we can use this straightforwardly:\n",
    "\n",
    "```\n",
    "draw u from Uniform(0,1)\n",
    "compute x = F_inverse(u)\n",
    "```\n",
    "\n"
   ]
  },
  {
   "cell_type": "markdown",
   "metadata": {
    "slideshow": {
     "slide_type": "subslide"
    }
   },
   "source": [
    "<table>\n",
    "    <tr>\n",
    "        <td>PDF<img src=\"figures/mc1_invtrans0.png\" width=100%></td>\n",
    "        <td></td>\n",
    "        <td>CDF<img src=\"figures/mc1_invtrans1.png\" width=100%></td>\n",
    "    </tr>\n",
    "</table>\n",
    "\n",
    "Courtesy: Phil Marshall"
   ]
  },
  {
   "cell_type": "markdown",
   "metadata": {
    "slideshow": {
     "slide_type": "subslide"
    }
   },
   "source": [
    "# In class warm-up: The PIT with exponential distributions:\n",
    "\n",
    "This distribution has $p(x)=\\lambda e^{-\\lambda x}$ and $F(x)=1-e^{-\\lambda x}$ for $x\\geq0$.\n",
    "\n",
    "The quantile function is, therefore, $F^{-1}(P) = -\\ln(1-P)/\\lambda$."
   ]
  },
  {
   "cell_type": "code",
   "execution_count": 15,
   "metadata": {
    "slideshow": {
     "slide_type": "subslide"
    }
   },
   "outputs": [
    {
     "data": {
      "image/png": "[encoded data removed]",
      "text/plain": [
       "<Figure size 432x288 with 1 Axes>"
      ]
     },
     "metadata": {
      "needs_background": "light"
     },
     "output_type": "display_data"
    }
   ],
   "source": [
    "# Here's some code for the inverse tranform\n",
    "\n",
    "import numpy as np\n",
    "import matplotlib\n",
    "import matplotlib.pyplot as plt\n",
    "%matplotlib inline\n",
    "\n",
    "\n",
    "def inv_trans_demo(x, lam):\n",
    "    hist = plt.hist(x, bins=50, density=True)\n",
    "    xs = np.linspace(0.0, 10.0/lam, 100)\n",
    "    pdf = lam * np.exp(-lam*xs)\n",
    "    pdfline = plt.plot(xs, pdf, 'r', lw=2)\n",
    "    plt.xlabel(r'x', fontsize=22)\n",
    "    plt.ylabel(r'P(x)', fontsize=22);\n",
    "    \n",
    "def p(x,l):\n",
    "    return l * np.exp(-l*x)\n",
    "\n",
    "'''\n",
    "lbda = 1\n",
    "samp = np.random.uniform(1000) # samples from the distribution p(x)\n",
    "P = p(samp,lbda)\n",
    "plt.hist(P, density=True)\n",
    "f_inv = inv_trans_demo(P,lbda)\n",
    "'''\n",
    "'''\n",
    "#others' solution\n",
    "u = np.random.uniform(0,1,1000) \n",
    "f_inv = -np.log(1-u) \n",
    "inv_trans_demo(f_inv,1) \n",
    "'''\n",
    "lbda = 1\n",
    "# samples from the distribution p(x); this follows / obeys the Cumulative distribution function given by F(x)\n",
    "samp = np.random.uniform(1000) \n",
    "#to obtain the quantile function we have to apply the inverse function given above by F^-1\n",
    "f_inv = -np.log(1-u)/lbda \n",
    "inv_trans_demo(f_inv,lbda)"
   ]
  },
  {
   "cell_type": "markdown",
   "metadata": {},
   "source": [
    "* for lam = 1., draw a 1000 random samples from a uniform distribution between 0-1 (np.random.rand should do)\n",
    "* use inverse CDF $F^{-1}(P)$ to convert to samples from a exponential distribution\n",
    "* then use the demo code to histogram your samples and overplot the distribution."
   ]
  },
  {
   "cell_type": "code",
   "execution_count": 1,
   "metadata": {
    "slideshow": {
     "slide_type": "subslide"
    }
   },
   "outputs": [],
   "source": [
    "# YOUR CODE HERE"
   ]
  },
  {
   "cell_type": "markdown",
   "metadata": {
    "slideshow": {
     "slide_type": "subslide"
    }
   },
   "source": [
    "\n",
    "* This does solve the problem posed by the curse of dimensionality \n",
    "\n",
    "* No sample is rejected! \n",
    "\n",
    "* The con is that you have to know what p(x) looks like in advance\n",
    "\n",
    "* If p(x) is your posterior, then you not only need to be able to solve for it analytically (including the evidence - the denominator of Bayes' theorem) but then you've got to figure out how to invert it... even harder.\n",
    "    \n",
    "* There is a place for the PIT, but we started down this road because our functions weren't generally going to be nice, so lets deal with rejection sampling some more"
   ]
  },
  {
   "cell_type": "markdown",
   "metadata": {
    "slideshow": {
     "slide_type": "slide"
    }
   },
   "source": [
    "# We want a couple of properties\n",
    "\n",
    "* We want to sample the full distribution\n",
    "* We want the frequency of samples between $x$ and $x+dx$ to be proportional to $p(x)dx$\n",
    "\n",
    "What if, instead of drawing i.i.d samples, we drew samples such that they are correlated with each other."
   ]
  },
  {
   "cell_type": "markdown",
   "metadata": {
    "slideshow": {
     "slide_type": "subslide"
    }
   },
   "source": [
    "You have already seen examples of processes where samples are correlated with each other - Brownian motion/random walks/Wiener processes - all of these are examples of **stochastic** processes\n",
    "<table>\n",
    "    <tr>\n",
    "        <td><img src=\"figures/Wiener_process_3d.png\" width=100%></td>\n",
    "    </tr>\n",
    "</table>"
   ]
  },
  {
   "cell_type": "markdown",
   "metadata": {
    "slideshow": {
     "slide_type": "subslide"
    }
   },
   "source": [
    " What if we chose our samples to be correlated in a very specific way:\n",
    "   * decide how many samples you want\n",
    "   * start somewhere - we'll call our current position in k-dimensional parameter space $x$\n",
    "   * while you want samples:\n",
    "       * perturb $x$ to $x'$ by some random vector drawn from a fixed distribution   \n",
    "           * i.e. the samples are correlated\n",
    "       * evaluate your function at $x'$ and $x$\n",
    "       * if the function is higher at $x'$ than at $x$ *Note: you are walking **up** your pbty distribution - taking a sample in the highest part of the distribution*\n",
    "           * then yay! Accept it, and set the position $x'$ to the current position $x$\n",
    "       * else if the function is lower at $x'$ than at $x$ *Note: you may have valid / useful data at locations where there is a lower probability, so with a small (ex 25% chance), accept a sample with lower pbty*\n",
    "           * well maybe that's bad, or maybe we're just unlucky and there's good samples to be had near here\n",
    "           * How do we decide? Well let's draw a random number and check if our function ratio is better or worse\n",
    "               * if it's better, accept and set the position $x'$ to the current position $x$\n",
    "               * else reject and update the current position to be the same \n",
    "       * stick the current position after you did this into a list of samples \n",
    "    \n",
    "This sequence/list of all accepted samples is a **chain**"
   ]
  },
  {
   "cell_type": "markdown",
   "metadata": {
    "slideshow": {
     "slide_type": "subslide"
    }
   },
   "source": [
    "This is just our **rejection sampling** strategy (recall):\n",
    "\n",
    "```\n",
    "while we want more samples\n",
    "    draw a random value for x from some distribution g in the variable x\n",
    "    draw u from Uniform(0,1)\n",
    "    if u <= p(x)/(A*g(x)), keep the sample x\n",
    "    otherwise, reject x\n",
    "```"
   ]
  },
  {
   "cell_type": "markdown",
   "metadata": {
    "slideshow": {
     "slide_type": "subslide"
    }
   },
   "source": [
    "# Markov Chains:\n",
    "\n",
    "If we can construct a sequence of samples/chain this way, it will be **ergodic** - i.e. given enough time, the full distribution will be sampled\n",
    "\n",
    "This chain is from some n-dimensional parameter space, with a distribution that is asymptotically proportional to $p(x)$. \n",
    "\n",
    "The constant of proportionality is not important in the first class of problems we will look at. \n",
    "\n",
    "In model comparison problems, the proportionality constant must be known. We've glossed over that so far, so we will blithely push forward."
   ]
  },
  {
   "cell_type": "markdown",
   "metadata": {
    "slideshow": {
     "slide_type": "slide"
    }
   },
   "source": [
    "With our particular strategy, every n+1 th position on the chain depends **only** on the nth position:\n",
    "\n",
    "*note: thus we can start at any location in parameter space and still sample our parameter space because each subsequent point is not directly dependent on any but the immediate previous sample*\n",
    "\n",
    "<table>\n",
    "    <tr>\n",
    "        <td><img src=\"figures/MarkovChain.png\" width=100%></td>\n",
    "    </tr>\n",
    "</table>\n",
    "\n",
    "Chains that have this property are called **Markov Chains**.\n",
    "\n",
    "The **state space** of this stochastic process is the set of all possible values"
   ]
  },
  {
   "cell_type": "markdown",
   "metadata": {
    "slideshow": {
     "slide_type": "slide"
    }
   },
   "source": [
    "The particular algorithm for generating new samples (more properly detailed in HW4) is called **Metropolis-Hastings** after the folks that came up with it.\n",
    "\n",
    "In summary, the Metropolis-Hastings algorithm consists of these steps:\n",
    "\n",
    "1. given $x$ and $T(x'|x)$, draw a proposed value for $x'$\n",
    "\n",
    "2. compute acceptance probability $p_{\\rm acc}(x,x')$.\n",
    "\n",
    "3. draw a random number between 0 and 1 from a uniform distribution; if it smaller than $p_{\\rm acc}(x,x')$, then accept $x'$.\n",
    "\n",
    "4. if $x'$ is accepted added it to the chain, if not, add $x'$ to the chain.\n",
    "\n",
    "See below for why it works!"
   ]
  },
  {
   "cell_type": "markdown",
   "metadata": {
    "slideshow": {
     "slide_type": "slide"
    }
   },
   "source": [
    "How far should we step (small steps in parameter space or large). This impacts the efficiency of the process but not if we will reach equilibrium.\n",
    "\n",
    "<table>\n",
    "    <tr>\n",
    "        <td><img src=\"figures/sampling.png\" width=100%></td>\n",
    "    </tr>\n",
    "</table>\n",
    "\n",
    "*note: the size of the step is important in achieving an effective set of samples / accurately recover the underlying probability distribution, in an efficient manner.*"
   ]
  },
  {
   "cell_type": "markdown",
   "metadata": {},
   "source": [
    "# WHY DOES Metropolis-Hastings work?"
   ]
  },
  {
   "cell_type": "markdown",
   "metadata": {
    "slideshow": {
     "slide_type": "slide"
    }
   },
   "source": [
    "This process is NOT **stationary**. \n",
    "\n",
    "#### Why does it work?\n",
    "The probability of an arbitrary point from such a chain being located at $x'$ is (marginalizing over the possible immediately preceding points)\n",
    "\n",
    "## $$p(x') = \\int dx \\, p(x) \\, T(x'|x)$$\n",
    "\n",
    "where $T(x'|x)$ is the transition probability of a step from $x$ to $x'$.\n",
    "\n",
    "If we have detailed balance, \n",
    "\n",
    "## $$p(x)T(x'|x) = p(x')T(x|x')$$"
   ]
  },
  {
   "cell_type": "markdown",
   "metadata": {
    "slideshow": {
     "slide_type": "slide"
    }
   },
   "source": [
    "rearranging:\n",
    "\n",
    "## $$ \\frac{T(x'|x)}{T(x|x')} = \\frac{p(x')}{p(x)} $$\n",
    "\n",
    "The basic trick to connect this with rejection sampling is to break the transition into two steps:\n",
    "1. A proposal, g(x'| x)\n",
    "and \n",
    "2. Acceptance ratio, A(x'|x)\n",
    "\n",
    "i.e. \n",
    "\n",
    "## $$ T(x'|x) = A(x'|x) g(x'| x) $$ \n",
    "\n",
    "rearranging again :\n",
    "\n",
    "## $$ \\frac{A(x'|x)}{A(x|x')} = \\frac{p(x')g(x|x')}{p(x)g(x'|x) }$$"
   ]
  },
  {
   "cell_type": "markdown",
   "metadata": {
    "slideshow": {
     "slide_type": "slide"
    }
   },
   "source": [
    "Notice that the probability of accepting a step  (once it's proposed) is\n",
    "\n",
    "## $$A(x',x) = \\mathrm{min}\\left[1, \\frac{p(x')g(x|x')}{p(x)g(x'|x)}\\right]$$\n",
    "\n",
    "Let's look again at the requirement of detailed balance\n",
    "\n",
    "> the probability of being at $x$ and moving to $y$ must equal the probability of being at $x'$ and moving to $x$"
   ]
  },
  {
   "cell_type": "markdown",
   "metadata": {
    "slideshow": {
     "slide_type": "slide"
    }
   },
   "source": [
    "The first of these is $p(x)g(x'|x)A(x',x)$, where\n",
    "\n",
    "* $p(x)$ is the posterior density (probability of *being* at $x$, if we're sampling $P$ properly)\n",
    "\n",
    "* $g(x'|x)$ is the proposal distribution (probability of attempting a move to $x'$ from $x$)\n",
    "\n",
    "* $A(x',x)$ is the probability of accepting the proposed move\n",
    "\n",
    "With this definition of $A$, detailed balance is automatically satisfied!\n",
    "\n",
    "## $$p(x)g(x'|x)A(x',x) \\equiv p(x')g(x|x')A(x,x')$$\n",
    "\n",
    "Note that **even if a step is rejected, we still keep a sample** (the original state, without moving). The difficulty of finding a temptingly better point is important information!"
   ]
  },
  {
   "cell_type": "markdown",
   "metadata": {
    "slideshow": {
     "slide_type": "slide"
    }
   },
   "source": [
    "## Speeding things up\n",
    "\n",
    "Broadly speaking, we can try to\n",
    "1. tailor algorithms to specific classes of PDF\n",
    "2. look for ways to make the general samplers more intelligent\n",
    "\n",
    "We can also use different samplers for different subsets of parameters - the only rule is that every parameter must get updated somehow."
   ]
  },
  {
   "cell_type": "markdown",
   "metadata": {
    "slideshow": {
     "slide_type": "slide"
    }
   },
   "source": [
    "In these cases, when we were talking about optimizers (as opposed to samplers) that used gradient descent, we found that local optimizers got stuck\n",
    "\n",
    "<table>\n",
    "    <tr>\n",
    "        <td>\n",
    "            Some spectral model<br>\n",
    "            <img src=\"figures/global_vs_local.png\" width=100%>\n",
    "        </td>\n",
    "    </tr>\n",
    "</table>\n",
    "\n",
    "We talked about **simulated annealing** and **basin hopping** as examples of *global optimizers* that can get out of these local minima.\n",
    "\n",
    "With MH, you'd have to make a large step size, but that has a major downside - your acceptance ratio goes down and your autocorrelation time goes up.\n",
    "\n",
    "So, it's reasonable to ask if there's an analog for MCMC."
   ]
  },
  {
   "cell_type": "markdown",
   "metadata": {
    "slideshow": {
     "slide_type": "slide"
    }
   },
   "source": [
    "## Tempering\n",
    "\n",
    "*note: means of sampling better, more widely w/o being stuck in local / global minima*\n",
    "Consider the function $[p(x)]^{1/T}$, where $p(x)$ is the target PDF.\n",
    "* We say a chain sampling this function has temperature $T$. For $T>1$, $p^{1/T}$ is smoothed out compared with $p$.\n",
    "    * This is the same sort of thing that we saw with **simulated annealing** - start with sampling at a high temperature and then gradually lower the temperature with some schedule\n",
    "* This allows chains to move among multiple peaks more easily.\n",
    "* Of course, we're only actually interested in $T=1$..."
   ]
  },
  {
   "cell_type": "markdown",
   "metadata": {
    "slideshow": {
     "slide_type": "slide"
    }
   },
   "source": [
    "### Parallel tempering\n",
    "\n",
    "With parallel tempering, we run one chain with $T=1$ and several more chains with $T>1$. A modified Metropolis-Hastings update occasionally allows the chains to exchange positions, giving the $T=1$ chain a mechanism for sampling regions of parameter space it might otherwise have low probability of proposing. Samples from the $T=1$ chain can be used for inference."
   ]
  },
  {
   "cell_type": "markdown",
   "metadata": {
    "slideshow": {
     "slide_type": "slide"
    }
   },
   "source": [
    "## Coping with multiple modes\n",
    "\n",
    "Multiple, well separated posterior modes are a serious challenge for many samplers.\n",
    "* In general, the only way to discover that they exist is by exploring the parameter space with many widely dispersed chains.\n",
    "* To do inference, our chains need to be able to efficiently transition between modes - so far the most reliable general method we've seen for this is parallel tempering. "
   ]
  },
  {
   "cell_type": "markdown",
   "metadata": {
    "slideshow": {
     "slide_type": "slide"
    }
   },
   "source": [
    "## Implementations of other samplers that are commonly used in research:\n",
    "\n",
    "1. Gibbs Sampling ([pymc3](https://docs.pymc.io/))\n",
    "2. Parallel Tempering (now in [ptemcee](https://pypi.org/project/ptemcee/))\n",
    "3. Hamiltonian Monte Carlo/No U-turn Sampling (also [pymc3](https://docs.pymc.io/))\n",
    "\n",
    "And this is also a sampler, but is not actually a Markov Chain method (Monte Carlo is logically separate from Markov Chain Monte Carlo)\n",
    "4. Nested Sampling ([dynesty](https://dynesty.readthedocs.io/en/latest/index.html) or [Multinest](https://johannesbuchner.github.io/PyMultiNest/))\n",
    "\n",
    "\n",
    "We can't cover all of these, but you should have a good idea on how to start with any of them by now, and which one to pick for a particular problem."
   ]
  },
  {
   "cell_type": "markdown",
   "metadata": {
    "slideshow": {
     "slide_type": "slide"
    }
   },
   "source": [
    "## In Class warm-up: think\n",
    "\n",
    "Recall the ugly PDF features we were motivated by, namely strong/nonlinear degeneracies and multiple modes.\n",
    "For each of the methods above, do you expect an improvement compared with standard Metropolis in these situations. \n",
    "\n",
    "Why and for which methods?\n",
    "\n",
    "<table>\n",
    "    <tr>\n",
    "        <td>\n",
    "            <img src=\"figures/mc2_rosenbrock.png\" width=80%>\n",
    "        </td>\n",
    "        <td></td>\n",
    "        <td>\n",
    "            <img src=\"figures/mc2_eggbox.png\" width=80%>\n",
    "        </td>\n",
    "    </tr>\n",
    "</table>"
   ]
  },
  {
   "cell_type": "markdown",
   "metadata": {
    "slideshow": {
     "slide_type": "slide"
    }
   },
   "source": [
    "# In Class warm-up:\n",
    "\n",
    "Here are some simple functions. Use my MH sampling code to sample them, and compare to what you get on a grid of x, y"
   ]
  },
  {
   "cell_type": "code",
   "execution_count": 1,
   "metadata": {
    "slideshow": {
     "slide_type": "slide"
    }
   },
   "outputs": [],
   "source": [
    "import numpy as np\n",
    "\n",
    "def Rosenbrock_lnP(x, y, a=1.0, b=100.0):\n",
    "    if y < 0.0: return -np.inf\n",
    "    return -( (a-x)**2 + b*(y-x**2)**2 )\n",
    "\n",
    "def eggbox_lnP(x, y):\n",
    "    return (2.0 + np.cos(0.5*x)*np.cos(0.5*y))**3\n",
    "\n",
    "def sphshell_lnP(x, y, s=0.1):\n",
    "    return -(np.sqrt(x**2+y**2) - 1)**2/(2.0*s**2)\n"
   ]
  },
  {
   "cell_type": "code",
   "execution_count": 2,
   "metadata": {
    "slideshow": {
     "slide_type": "slide"
    }
   },
   "outputs": [],
   "source": [
    "def metropolis_hastings(p, x0, sigma, *args, nsamp=1000):\n",
    "    \n",
    "    ndim = len(x0)\n",
    "    try:\n",
    "        test_val = p(*x0, *args)\n",
    "        if not np.isfinite(test_val):\n",
    "            raise ValueError('Function at starting position is not finite')\n",
    "        \n",
    "        if test_val == 0.:\n",
    "             raise ValueError('Function at starting position must be non-zero')\n",
    "                \n",
    "    except Exception as e:\n",
    "        message = f'{e}\\nCannot initialize sampler at this position'\n",
    "        raise ValueError(message)\n",
    "    \n",
    "        \n",
    "    # we need something to save the samples we want\n",
    "    samples = np.zeros((nsamp, ndim))    \n",
    "\n",
    "    x = np.array(x0)\n",
    "    sigma = np.array(sigma)\n",
    "    \n",
    "    # the position and step size arrays had better be the same \n",
    "    assert x.shape == sigma.shape, 'Shape of x and shape of sigma must be the same'\n",
    "    \n",
    "    # while we want more samples\n",
    "    for i in range(nsamp):\n",
    "\n",
    "        # now we adjust the initial position a little\n",
    "        # instead of explictly definition g(x|x') and g(x'|x)\n",
    "        # we can recognize that a Gaussian is a stationary kernel\n",
    "        # as we discussed in class, this is nice because \n",
    "        # all that matters is the absolute difference between x' and x\n",
    "        # and if that's the case, then g(x'|x) = g(x|x')\n",
    "        x_prime = x + sigma*np.random.randn(ndim)\n",
    "\n",
    "\n",
    "        if np.random.rand() < (p(*x_prime, *args) / p(*x, *args)):\n",
    "            x = x_prime\n",
    "            \n",
    "        # we save the sample to the chain\n",
    "        samples[i] = x\n",
    "    return samples\n",
    "\n",
    "\n",
    "\n",
    "\n",
    "def mh_demo(p, x0, sigma, nsamp=1000):\n",
    "    samples = metropolis_hastings(p, x0, sigma, nsamp=nsamp)\n",
    "\n",
    "    \n",
    "    # create some axes\n",
    "    fig, axs = plt.subplots(nrows=1, ncols=3, figsize=(12, 4))\n",
    "    ax0, ax1, ax2 = axs\n",
    "    \n",
    "    # plot all the data in grey\n",
    "    ax0.scatter(samples[:, 0], samples[:, 1], color='grey', alpha=0.1, marker='.')\n",
    "    ax1.plot(samples[:, 0], marker='.', color='grey', alpha=0.1, ls='-')\n",
    "    ax2.plot(samples[:, 1], marker='.', color='grey', alpha=0.1, ls='-')\n",
    "    return fig\n",
    "    "
   ]
  },
  {
   "cell_type": "code",
   "execution_count": 23,
   "metadata": {
    "slideshow": {
     "slide_type": "slide"
    }
   },
   "outputs": [
    {
     "name": "stderr",
     "output_type": "stream",
     "text": [
      "<ipython-input-23-bcd5b77da7be>:24: MatplotlibDeprecationWarning: shading='flat' when X and Y have the same dimensions as C is deprecated since 3.3.  Either specify the corners of the quadrilaterals with X and Y, or pass shading='auto', 'nearest' or 'gouraud', or set rcParams['pcolor.shading'].  This will become an error two minor releases later.\n",
      "  ax1.pcolormesh(X,Y,eggbox)\n"
     ]
    },
    {
     "data": {
      "image/png": "[encoded data removed]",
      "text/plain": [
       "<Figure size 432x432 with 1 Axes>"
      ]
     },
     "metadata": {
      "needs_background": "light"
     },
     "output_type": "display_data"
    }
   ],
   "source": [
    "# Your code here\n",
    "import numpy as np\n",
    "import matplotlib.pyplot as plt\n",
    "\n",
    "\n",
    "x = np.linspace(0.01,10,1000)\n",
    "y = np.linspace(0.01,10,1000)\n",
    "x,y = np.meshgrid(x,y)\n",
    "\n",
    "#rosenbrock = Rosenbrock_lnP(x, y, a=1.0, b=100.0)\n",
    "eggbox =  eggbox_lnP(x, y)\n",
    "#eggbox = np.array(eggbox).reshape((1000,1000))\n",
    "#print(eggbox)\n",
    "spherical_shell =  sphshell_lnP(x, y, s=0.1)\n",
    "\n",
    "egg_mh = metropolis_hastings(eggbox_lnP, (5,5), sigma=(1,1), nsamp=1000)\n",
    "\n",
    "#########\n",
    "\n",
    "\n",
    "\n",
    "fig = plt.figure(figsize=(6, 6))\n",
    "ax1 = fig.add_subplot(111, title='Chi Squared for A & B grid',xlabel='A',ylabel=\"$B$\")\n",
    "ax1.pcolormesh(X,Y,eggbox)\n",
    "#ax1.scatter(egg_mh.T[0],egg_mh.T[1],c='w')\n",
    "plt.show()\n",
    "\n"
   ]
  },
  {
   "cell_type": "markdown",
   "metadata": {},
   "source": [
    "# In class Exercise:\n",
    "\n",
    "Now let's try fitting our line from HW 2."
   ]
  },
  {
   "cell_type": "code",
   "execution_count": 24,
   "metadata": {},
   "outputs": [],
   "source": [
    "%matplotlib inline\n",
    "import numpy as np\n",
    "from matplotlib import pyplot as plt\n",
    "import scipy.optimize\n",
    "import statsmodels.api as sm\n",
    "from astropy.stats import sigma_clip\n",
    "from astroML.datasets import fetch_hogg2010test\n",
    "\n",
    "# this just makes plots a bit easier on my laptop - disable as needed\n",
    "%config InlineBackend.figure_format='retina'\n",
    "\n",
    "#------------------------------------------------------------\n",
    "# Get data: this includes outliers\n",
    "data = fetch_hogg2010test()\n",
    "x = data['x']\n",
    "y = data['y']\n",
    "dy = data['sigma_y']\n",
    "\n",
    "keep = np.ones(len(x), dtype='bool')\n",
    "keep[0:4] = False\n",
    "x, y, dy = x[keep], y[keep], dy[keep]"
   ]
  },
  {
   "cell_type": "code",
   "execution_count": 25,
   "metadata": {},
   "outputs": [
    {
     "data": {
      "text/plain": [
       "Text(0, 0.5, 'y')"
      ]
     },
     "execution_count": 25,
     "metadata": {},
     "output_type": "execute_result"
    },
    {
     "data": {
      "image/png": "[encoded data removed]",
      "text/plain": [
       "<Figure size 720x360 with 1 Axes>"
      ]
     },
     "metadata": {
      "image/png": {
       "height": 320,
       "width": 616
      },
      "needs_background": "light"
     },
     "output_type": "display_data"
    }
   ],
   "source": [
    "fig = plt.figure(figsize=(10, 5))\n",
    "ax = fig.add_subplot(111)\n",
    "\n",
    "# plot the data\n",
    "ax.errorbar(x, y, yerr=dy, color='k', marker='o', linestyle='None', label='All data')\n",
    "plt.plot(x, 80 + 2*x, 'r--')\n",
    "\n",
    "ax.set_xlabel('x', fontsize='x-large')\n",
    "ax.set_ylabel('y', fontsize='x-large')\n"
   ]
  },
  {
   "cell_type": "markdown",
   "metadata": {},
   "source": [
    "This function calculates the joint log-posterior, conditional on values for each parameter:"
   ]
  },
  {
   "cell_type": "markdown",
   "metadata": {},
   "source": [
    "a\n",
    "\n",
    "\n",
    "b\n",
    "b\n",
    "b\n",
    "b\n",
    "b\n",
    "b\n",
    "b\n",
    "b\n",
    "b"
   ]
  },
  {
   "cell_type": "code",
   "execution_count": 31,
   "metadata": {},
   "outputs": [],
   "source": [
    "from scipy.stats import norm\n",
    "dnorm = norm.logpdf\n",
    "\n",
    "def calc_posterior(a, b, y=y, x=x, dy=dy):\n",
    "    # Calculate joint posterior, given values for a and b\n",
    "    \n",
    "\n",
    "    # YOUR CODE HERE\n",
    "    # Priors on a,b\n",
    "    a_prior = norm.logpdf(a,0,1000)\n",
    "    b_prior = norm.logpdf(b,0,1000)\n",
    "    \n",
    "    # Calculate mu\n",
    "    #sum of chi squareds; number of total standard deviations all points are away from true\n",
    "    #chi_squared = np.sqrt(np.sum(np.square(y-(ax+b))/dy))#scaled squared losses(<-> residuals)\n",
    "    mu = a*x+b\n",
    "    \n",
    "    # Data likelihood (I suggest norm.logpdf...)\n",
    "    #logp = norm.logpdf(a*x+b,mu,stdev)\n",
    "    log_likelihood = norm.logpdf(y,mu,dy)\n",
    "    \n",
    "    logp = a_prior+b_prior+log_likelihood\n",
    "    \n",
    "    return logp\n",
    "\n",
    "#Nico's code\n",
    "#logModelLikelihood = st.norm(loc=0, scale=1).logpdf(mu) "
   ]
  },
  {
   "cell_type": "markdown",
   "metadata": {},
   "source": [
    "So many metropolis implementations out there..."
   ]
  },
  {
   "cell_type": "code",
   "execution_count": 29,
   "metadata": {},
   "outputs": [],
   "source": [
    "import numpy as np\n",
    "\n",
    "rnorm = np.random.normal\n",
    "runif = np.random.rand\n",
    "np.random.seed(42)\n",
    "\n",
    "def metropolis(n_iterations, initial_values, prop_var=1):\n",
    "\n",
    "    n_params = len(initial_values)\n",
    "            \n",
    "    # Initial proposal standard deviations\n",
    "    prop_sd = [prop_var]*n_params\n",
    "    \n",
    "    # Initialize trace for parameters\n",
    "    trace = np.empty((n_iterations+1, n_params))\n",
    "    \n",
    "    # Set initial values\n",
    "    trace[0] = initial_values\n",
    "        \n",
    "    # Calculate joint posterior for initial values\n",
    "    current_log_prob = calc_posterior(*trace[0])\n",
    "    \n",
    "    # Initialize acceptance counts\n",
    "    accepted = [0]*n_params\n",
    "    \n",
    "    for i in range(n_iterations):\n",
    "    \n",
    "        if not i%1000: print('Iteration %i' % i)\n",
    "    \n",
    "        # Grab current parameter values\n",
    "        current_params = trace[i]\n",
    "    \n",
    "        for j in range(n_params):\n",
    "    \n",
    "            # Get current value for parameter j\n",
    "            p = trace[i].copy()\n",
    "    \n",
    "            # Propose new value\n",
    "            if j==2:\n",
    "                # Ensure tau is positive\n",
    "                theta = np.exp(rnorm(np.log(current_params[j]), prop_sd[j]))\n",
    "            else:\n",
    "                theta = rnorm(current_params[j], prop_sd[j])\n",
    "            \n",
    "            # Insert new value \n",
    "            p[j] = theta\n",
    "    \n",
    "            # Calculate log posterior with proposed value\n",
    "            proposed_log_prob = calc_posterior(*p)\n",
    "    \n",
    "            # Log-acceptance rate\n",
    "            alpha = proposed_log_prob - current_log_prob\n",
    "    \n",
    "            # Sample a uniform random variate\n",
    "            u = runif()\n",
    "    \n",
    "            # Test proposed value\n",
    "            if np.log(u) < alpha:\n",
    "                # Accept\n",
    "                trace[i+1,j] = theta\n",
    "                current_log_prob = proposed_log_prob\n",
    "                accepted[j] += 1\n",
    "            else:\n",
    "                # Reject\n",
    "                trace[i+1,j] = trace[i,j]\n",
    "                \n",
    "    return trace, accepted"
   ]
  },
  {
   "cell_type": "markdown",
   "metadata": {},
   "source": [
    "Try running the MH algorithm with a small proposal variance, say: 0.001:"
   ]
  },
  {
   "cell_type": "code",
   "execution_count": 6,
   "metadata": {},
   "outputs": [],
   "source": [
    "n_iter = 5000\n",
    "\n",
    "# YOUR CODE HERE\n",
    "# trace, acc = metropolis( ..."
   ]
  },
  {
   "cell_type": "markdown",
   "metadata": {},
   "source": [
    "We can see that the acceptance rate is way too high... why?!"
   ]
  },
  {
   "cell_type": "code",
   "execution_count": 19,
   "metadata": {},
   "outputs": [
    {
     "data": {
      "text/plain": [
       "array([0.9996, 0.9904])"
      ]
     },
     "execution_count": 19,
     "metadata": {},
     "output_type": "execute_result"
    }
   ],
   "source": [
    "np.array(acc, float)/n_iter"
   ]
  },
  {
   "cell_type": "markdown",
   "metadata": {},
   "source": [
    "We can also plot the samples to watch the algorithm."
   ]
  },
  {
   "cell_type": "code",
   "execution_count": null,
   "metadata": {},
   "outputs": [],
   "source": [
    "for param, samples in zip(['intercept', 'slope', 'precision'], trace.T):\n",
    "    fig, axes = plt.subplots(1, 2, figsize=(8, 2))\n",
    "    axes[0].plot(samples)\n",
    "    axes[0].set_ylabel(param)\n",
    "    axes[1].hist(samples[int(n_iter/2):])"
   ]
  },
  {
   "cell_type": "markdown",
   "metadata": {},
   "source": [
    "Try plotting the fits on top of the data to see how it looks... what do you notice?"
   ]
  },
  {
   "cell_type": "code",
   "execution_count": 7,
   "metadata": {},
   "outputs": [],
   "source": [
    "# YOUR CODE HERE"
   ]
  },
  {
   "cell_type": "markdown",
   "metadata": {},
   "source": [
    "Now, try with a very large proposal variance (10):"
   ]
  },
  {
   "cell_type": "code",
   "execution_count": 8,
   "metadata": {},
   "outputs": [],
   "source": [
    "# YOUR CODE HERE\n",
    "# trace_hivar, acc = metropolis( ..."
   ]
  },
  {
   "cell_type": "code",
   "execution_count": 22,
   "metadata": {},
   "outputs": [
    {
     "data": {
      "text/plain": [
       "array([0.5054, 0.0036])"
      ]
     },
     "execution_count": 22,
     "metadata": {},
     "output_type": "execute_result"
    }
   ],
   "source": [
    "np.array(acc, float)/n_iter"
   ]
  },
  {
   "cell_type": "code",
   "execution_count": null,
   "metadata": {},
   "outputs": [],
   "source": [
    "for param, samples in zip(['intercept', 'slope', 'precision'], trace_hivar.T):\n",
    "    fig, axes = plt.subplots(1, 2, figsize=(8, 2))\n",
    "    axes[0].plot(samples)\n",
    "    axes[0].set_ylabel(param)\n",
    "    axes[1].hist(samples[int(n_iter/2):])"
   ]
  },
  {
   "cell_type": "markdown",
   "metadata": {},
   "source": [
    "Try plotting the fits on top of the data to see how it looks... what do you notice?"
   ]
  },
  {
   "cell_type": "code",
   "execution_count": 10,
   "metadata": {},
   "outputs": [],
   "source": [
    "# YOUR CODE HERE"
   ]
  },
  {
   "cell_type": "markdown",
   "metadata": {},
   "source": [
    "Can you find a variance that gives you ~25%?"
   ]
  },
  {
   "cell_type": "code",
   "execution_count": 24,
   "metadata": {},
   "outputs": [],
   "source": [
    "# YOUR CODE HERE"
   ]
  },
  {
   "cell_type": "markdown",
   "metadata": {},
   "source": [
    "In order to avoid having to set the proposal variance by trial-and-error, we can add some tuning logic to the algorithm. \n",
    "\n",
    "## Auto-tuning Metropolis-Hastings\n",
    "\n",
    "We can modify the Metropolis-Hastings algorithm above by adding logic to automatically change the proposal scale depending on the acceptance rate of the chain. "
   ]
  },
  {
   "cell_type": "code",
   "execution_count": 26,
   "metadata": {},
   "outputs": [],
   "source": [
    "def metropolis_tuned(n_iterations, initial_values, prop_var=1, \n",
    "                     tune_for=None, tune_interval=100):\n",
    "     \n",
    "    n_params = len(initial_values)\n",
    "             \n",
    "    # Initial proposal standard deviations\n",
    "    prop_sd = [prop_var] * n_params\n",
    "     \n",
    "    # Initialize trace for parameters\n",
    "    trace = np.empty((n_iterations+1, n_params))\n",
    "     \n",
    "    # Set initial values\n",
    "    trace[0] = initial_values\n",
    "    # Initialize acceptance counts\n",
    "    accepted = [0]*n_params\n",
    "     \n",
    "    # Calculate joint posterior for initial values\n",
    "    current_log_prob = calc_posterior(*trace[0])\n",
    "     \n",
    "    if tune_for is None:\n",
    "        tune_for = n_iterations/2\n",
    "     \n",
    "    for i in range(n_iterations):\n",
    "     \n",
    "        if not i%1000: print('Iteration %i' % i)\n",
    "     \n",
    "        # Grab current parameter values\n",
    "        current_params = trace[i]\n",
    "     \n",
    "        for j in range(n_params):\n",
    "     \n",
    "            # Get current value for parameter j\n",
    "            p = trace[i].copy()\n",
    "     \n",
    "            # Propose new value\n",
    "            if j==2:\n",
    "                # Ensure tau is positive\n",
    "                theta = np.exp(rnorm(np.log(current_params[j]), prop_sd[j]))\n",
    "            else:\n",
    "                theta = rnorm(current_params[j], prop_sd[j])\n",
    "             \n",
    "            # Insert new value \n",
    "            p[j] = theta\n",
    "     \n",
    "            # Calculate log posterior with proposed value\n",
    "            proposed_log_prob = calc_posterior(*p)\n",
    "     \n",
    "            # Log-acceptance rate\n",
    "            alpha = proposed_log_prob - current_log_prob\n",
    "     \n",
    "            # Sample a uniform random variate\n",
    "            u = runif()\n",
    "     \n",
    "            # Test proposed value\n",
    "            if np.log(u) < alpha:\n",
    "                # Accept\n",
    "                trace[i+1,j] = theta\n",
    "                current_log_prob = proposed_log_prob\n",
    "                accepted[j] += 1\n",
    "            else:\n",
    "                # Reject\n",
    "                trace[i+1,j] = trace[i,j]\n",
    "                 \n",
    "            # Tune every 100 iterations\n",
    "            if (not (i+1) % tune_interval) and (i < tune_for):\n",
    "         \n",
    "                # Calculate aceptance rate\n",
    "                acceptance_rate = (1.*accepted[j])/tune_interval\n",
    "                if acceptance_rate<0.2:\n",
    "                    prop_sd[j] *= 0.9\n",
    "                elif acceptance_rate>0.4:\n",
    "                    prop_sd[j] *= 1.1\n",
    "                accepted[j] = 0\n",
    "                 \n",
    "    return trace[tune_for:], accepted"
   ]
  },
  {
   "cell_type": "code",
   "execution_count": 11,
   "metadata": {},
   "outputs": [],
   "source": [
    "# YOUR CODE HERE\n",
    "# trace_tuned, acc = metropolis_tuned(...\n",
    "#trace_tuned, acc = metropolis_tuned(10000, (80,2), tune_for=5000)"
   ]
  },
  {
   "cell_type": "code",
   "execution_count": null,
   "metadata": {},
   "outputs": [],
   "source": [
    "np.array(acc, float)/5000"
   ]
  },
  {
   "cell_type": "code",
   "execution_count": null,
   "metadata": {},
   "outputs": [],
   "source": [
    "for param, samples in zip(['intercept', 'slope', 'precision'], trace_tuned.T):\n",
    "    fig, axes = plt.subplots(1, 2, figsize=(8, 2))\n",
    "    axes[0].plot(samples)\n",
    "    axes[0].set_ylabel(param)\n",
    "    axes[1].hist(samples[int(len(samples)/2):])"
   ]
  },
  {
   "cell_type": "markdown",
   "metadata": {},
   "source": [
    "And now to see how it performs:"
   ]
  },
  {
   "cell_type": "code",
   "execution_count": 12,
   "metadata": {},
   "outputs": [],
   "source": [
    "# YOUR CODE HERE"
   ]
  },
  {
   "cell_type": "markdown",
   "metadata": {},
   "source": [
    "# Appendix: Hamiltonian Monte Carlo\n",
    "\n",
    "While flexible and easy to implement, Metropolis-Hastings sampling is a random walk\n",
    "sampler that might not be statistically efficient for many models. Specifically, for models of high dimension, random walk jumping algorithms do not perform well. It is not enough to simply guess at the next sample location; we need to make each iteration a useful draw from the posterior whenever we can, in order to have an efficient sampler for bigger models.\n",
    "\n",
    "![from Hoffman and Gelman 2014](http://d.pr/i/RAA+)\n",
    "\n",
    "(*image: Hoffman and Gelman, 2014*)\n",
    "\n",
    "Since Bayesian inference is all about calculating expectations over posteriors, what we seek is an algorithm that samples from the area of the parameter space that contains most of the non-zero probability. This region is called the **typical set**."
   ]
  },
  {
   "cell_type": "markdown",
   "metadata": {},
   "source": [
    "### What's a Typical Set?\n",
    "\n",
    "The typical set is where most of the probability lies in a particular volume associated with the distribution. As the dimension of a model increases, this set moves progressively further from the mode, and becomes more singular, as the result of concentration of measure.\n",
    "\n",
    "The typical set is a product of both the density, which is highest at the mode, and volume (that we integrate over), which increasingly becomes larger away from the mode as dimensionality increases. In fact, at high dimensions, the region around the mode contributes almost nothing to the expectation. We need an algorithm that will find this narrow region and explore it efficiently.\n",
    "\n",
    "![](figures/typical_set_.png)\n",
    "\n",
    "(image: Betancourt 2017)\n",
    "\n",
    "In this context, and when sampling from continuous variables, Hamiltonian (or Hybrid) Monte\n",
    "Carlo (HMC) can prove to be a powerful tool. It avoids\n",
    "random walk behavior by simulating a physical system governed by\n",
    "Hamiltonian dynamics, potentially avoiding tricky conditional\n",
    "distributions in the process."
   ]
  },
  {
   "cell_type": "markdown",
   "metadata": {},
   "source": [
    "### Simulating Hamiltonian Dynamics\n",
    "\n",
    "In HMC, model samples are obtained by simulating a physical system,\n",
    "where particles move about a high-dimensional landscape, subject to\n",
    "potential and kinetic energies. Adapting the notation from [Neal (1993)](http://www.cs.toronto.edu/~radford/review.abstract.html),\n",
    "particles are characterized by a position vector or state\n",
    "$s \\in \\mathcal{R}^D$ and velocity vector $\\phi \\in \\mathcal{R}^D$. The\n",
    "combined state of a particle is denoted as $\\chi=(s,\\phi)$. \n",
    "\n",
    "The joint **canonical distribution** of the position and velocity can be expressed as a product of the marginal position (which is of interest) and the conditional distribution of the velocity:\n",
    "\n",
    "$$\\pi(s, \\phi) = \\pi(\\phi | s) \\pi(s)$$\n",
    "\n",
    "This joint probability can also be written in terms of an invariant **Hamiltonian function**:\n",
    "\n",
    "$$\\pi(s, \\phi) \\propto \\exp(-H(s,\\phi))$$\n",
    "\n",
    "The Hamiltonian is then defined as the sum of potential energy $E(s)$ and kinetic energy\n",
    "$K(\\phi)$, as follows:\n",
    "\n",
    "$$\\mathcal{H}(s,\\phi) = E(s) + K(\\phi)\n",
    "= E(s) + \\frac{1}{2} \\sum_i \\phi_i^2$$\n",
    "\n",
    "Instead of sampling $p(s)$ directly, HMC operates by sampling from the canonical distribution.\n",
    "\n",
    "$$p(s,\\phi) = \\frac{1}{Z} \\exp(-\\mathcal{H}(s,\\phi))=p(s)p(\\phi)$$.\n",
    "\n",
    "If we choose a momentum that is independent of position, marginalizing over $\\phi$ is\n",
    "trivial and recovers the original distribution of interest.\n",
    "\n",
    "The Hamiltonian $\\mathcal{H}$ is independent of the parameterization of the model, and therefore, captures the geometry of the phase space distribution, including typical set. "
   ]
  },
  {
   "cell_type": "markdown",
   "metadata": {},
   "source": [
    "**Hamiltonian Dynamics**\n",
    "\n",
    "State $s$ and velocity $\\phi$ are modified such that\n",
    "$\\mathcal{H}(s,\\phi)$ remains constant throughout the simulation. The\n",
    "differential equations are given by:\n",
    "\n",
    "$$\\begin{aligned}\\frac{ds_i}{dt} &= \\frac{\\partial \\mathcal{H}}{\\partial \\phi_i} = \\phi_i \\\\\n",
    "\\frac{d\\phi_i}{dt} &= - \\frac{\\partial \\mathcal{H}}{\\partial s_i}\n",
    "= - \\frac{\\partial E}{\\partial s_i}\n",
    "\\end{aligned}$$\n",
    "\n",
    "As shown in [Neal (1993)](http://www.cs.toronto.edu/~radford/review.abstract.html), \n",
    "the above transformation preserves volume and is\n",
    "reversible. The above dynamics can thus be used as transition operators\n",
    "of a Markov chain and will leave $p(s,\\phi)$ invariant. That chain by\n",
    "itself is not ergodic however, since simulating the dynamics maintains a\n",
    "fixed Hamiltonian $\\mathcal{H}(s,\\phi)$. HMC thus alternates Hamiltonian\n",
    "dynamic steps, with Gibbs sampling of the velocity. Because $p(s)$ and\n",
    "$p(\\phi)$ are independent, sampling $\\phi_{new} \\sim p(\\phi|s)$ is\n",
    "trivial since $p(\\phi|s)=p(\\phi)$, where $p(\\phi)$ is often taken to be\n",
    "the univariate Gaussian.\n",
    "\n",
    "![](images/skate_park.jpg)\n",
    "\n",
    "**The Leap-Frog Algorithm**\n",
    "\n",
    "In practice, we cannot simulate Hamiltonian dynamics exactly because of\n",
    "the problem of time discretization. There are several ways one can do\n",
    "this. To maintain invariance of the Markov chain however, care must be\n",
    "taken to preserve the properties of *volume conservation* and *time\n",
    "reversibility*. The **leap-frog algorithm** maintains these properties\n",
    "and operates in 3 steps:\n",
    "\n",
    "$$\\begin{aligned}\n",
    "\\phi_i(t + \\epsilon/2) &= \\phi_i(t) - \\frac{\\epsilon}{2} \\frac{\\partial{}}{\\partial s_i} E(s(t)) \\\\\n",
    "s_i(t + \\epsilon) &= s_i(t) + \\epsilon \\phi_i(t + \\epsilon/2) \\\\\n",
    "\\phi_i(t + \\epsilon) &= \\phi_i(t + \\epsilon/2) - \\frac{\\epsilon}{2} \\frac{\\partial{}}{\\partial s_i} E(s(t + \\epsilon)) \n",
    "\\end{aligned}$$\n",
    "\n",
    "We thus perform a half-step update of the velocity at time\n",
    "$t+\\epsilon/2$, which is then used to compute $s(t + \\epsilon)$ and\n",
    "$\\phi(t + \\epsilon)$.\n",
    "\n",
    "**Accept / Reject**\n",
    "\n",
    "In practice, using finite stepsizes $\\epsilon$ will not preserve\n",
    "$\\mathcal{H}(s,\\phi)$ exactly and will introduce bias in the simulation.\n",
    "Also, rounding errors due to the use of floating point numbers means\n",
    "that the above transformation will not be perfectly reversible.\n",
    "\n",
    "HMC cancels these effects **exactly** by adding a Metropolis\n",
    "accept/reject stage, after $n$ leapfrog steps. The new state\n",
    "$\\chi' = (s',\\phi')$ is accepted with probability $p_{acc}(\\chi,\\chi')$,\n",
    "defined as:\n",
    "\n",
    "$$p_{acc}(\\chi,\\chi') = min \\left( 1, \\frac{\\exp(-\\mathcal{H}(s',\\phi')}{\\exp(-\\mathcal{H}(s,\\phi)} \\right)$$\n",
    "\n",
    "**HMC Algorithm**\n",
    "\n",
    "We obtain a new HMC sample as follows:\n",
    "\n",
    "1.  sample a new velocity from a univariate Gaussian distribution\n",
    "2.  perform $n$ leapfrog steps to obtain the new state $\\chi'$\n",
    "3.  perform accept/reject move of $\\chi'$"
   ]
  },
  {
   "cell_type": "markdown",
   "metadata": {},
   "source": [
    "## Example: Normal mixture\n",
    "\n",
    "HMC as implemented in PyMC3 is heavily automated. To provide some innsight into how the components of HMC work, let's look at a simpler implementation provided by [`minimc`](https://github.com/ColCarroll/minimc), a package created by Colin Carroll. This can be used to illustrate leapfrog integration and the paths taken for HMC sampling.\n",
    "\n",
    "The example we will employ here is a mixture of three bivariate normal distribution, each with its own location and covariance. "
   ]
  },
  {
   "cell_type": "code",
   "execution_count": 7,
   "metadata": {},
   "outputs": [
    {
     "data": {
      "text/plain": [
       "<matplotlib.image.AxesImage at 0x7fd0e435ee90>"
      ]
     },
     "execution_count": 7,
     "metadata": {},
     "output_type": "execute_result"
    },
    {
     "data": {
      "image/png": "[encoded data removed]",
      "text/plain": [
       "<Figure size 432x288 with 1 Axes>"
      ]
     },
     "metadata": {
      "needs_background": "light"
     },
     "output_type": "display_data"
    }
   ],
   "source": [
    "# pip install git+git://github.com/colcarroll/minimc.git\n",
    "%matplotlib inline\n",
    "import matplotlib.pyplot as plt\n",
    "\n",
    "from autograd import grad\n",
    "import autograd.numpy as np\n",
    "from minimc import mixture, neg_log_mvnormal\n",
    "\n",
    "# Plotting helper function\n",
    "def neg_log_p_to_img(neg_log_p, extent=None, num=100):\n",
    "    if extent is None:\n",
    "        extent = (-3, 3, -3, 3)\n",
    "    X, Y = np.meshgrid(np.linspace(*extent[:2], num), np.linspace(*extent[2:], num))\n",
    "    Z = np.array([np.exp(-neg_log_p(j)) for j in np.array((X.ravel(), Y.ravel())).T]).reshape(X.shape)\n",
    "    return Z, extent\n",
    "\n",
    "np.random.seed(7)\n",
    "\n",
    "mu1 = np.ones(2)\n",
    "cov1 = 0.5 * np.array([[1., 0.7],\n",
    "                       [0.7, 1.]])\n",
    "mu2 = -mu1\n",
    "cov2 = 0.2 * np.array([[1., -0.6],\n",
    "                       [-0.6, 1.]])\n",
    "\n",
    "mu3 = np.array([-1., 2.])\n",
    "cov3 = 0.3 * np.eye(2)\n",
    "\n",
    "neg_log_p = mixture([neg_log_mvnormal(mu1, cov1), \n",
    "                     neg_log_mvnormal(mu2, cov2), \n",
    "                     neg_log_mvnormal(mu3, cov3)], [0.3, 0.3, 0.4])\n",
    "\n",
    "Z, extent = neg_log_p_to_img(neg_log_p, (-3, 4, -3, 4), num=200)\n",
    "\n",
    "plt.imshow(Z, alpha=0.9, extent=extent, cmap='afmhot_r', origin='lower')"
   ]
  },
  {
   "cell_type": "markdown",
   "metadata": {},
   "source": [
    "Though simple, this would be very challenging for a Metropolis sampler, which would have a great deal of difficulty crossing the areas of low probabilities between the peaks. Most of the time, you would end up with an estimate of one of the three components, leaving the others entirely unexplored."
   ]
  },
  {
   "cell_type": "markdown",
   "metadata": {},
   "source": [
    "### Leapfrog Integration\n",
    "\n",
    "We can explore the paths taken by HMC samplers by simulating from a leapfrog integrator, which varies by the amount of momentum and the size and number of steps taken."
   ]
  },
  {
   "cell_type": "code",
   "execution_count": 8,
   "metadata": {},
   "outputs": [],
   "source": [
    "from minimc.minimc_slow import leapfrog, hamiltonian_monte_carlo\n",
    "from minimc import neg_log_mvnormal\n",
    "\n",
    "dVdq = grad(neg_log_p)\n",
    "\n",
    "steps = slice(None, None, 40)\n",
    "\n",
    "positions, momentums = [], []\n",
    "for _ in range(3):\n",
    "    q, p = np.random.randn(2, 2)\n",
    "    _, _, position, momentum, _ = leapfrog(q, p, dVdq, 4 * np.pi, 0.01)\n",
    "    positions.append(position)\n",
    "    momentums.append(momentum)"
   ]
  },
  {
   "cell_type": "code",
   "execution_count": 9,
   "metadata": {},
   "outputs": [
    {
     "data": {
      "image/png": "[encoded data removed]",
      "text/plain": [
       "<Figure size 1512x504 with 3 Axes>"
      ]
     },
     "metadata": {
      "needs_background": "light"
     },
     "output_type": "display_data"
    }
   ],
   "source": [
    "fig, axes = plt.subplots(ncols=len(positions), figsize=(7 * len(positions), 7))\n",
    "\n",
    "steps = slice(None, None, 40)\n",
    "\n",
    "Z, extent = neg_log_p_to_img(neg_log_p, (-3, 4, -3, 4), num=200)\n",
    "\n",
    "for idx, (ax, q, p) in enumerate(zip(axes.ravel(), positions, momentums)):\n",
    "    ax.imshow(Z, alpha=0.9, extent=extent, cmap='afmhot_r', origin='lower')\n",
    "\n",
    "    ax.quiver(q[steps, 0], q[steps, 1], p[steps, 0], p[steps, 1], headwidth=6, \n",
    "              scale=60, headlength=7, alpha=0.8, color='C0')\n",
    "    ax.plot(q[:, 0], q[:, 1], '-', lw=3, color='C0')"
   ]
  },
  {
   "cell_type": "markdown",
   "metadata": {
    "slideshow": {
     "slide_type": "slide"
    }
   },
   "source": [
    "# Appendix: Gibbs Sampling\n",
    "is a specialization of Metropolis-Hastings:\n",
    "* Instead of making a general proposal in all dimensions, we cycle through the parameters proposing changes to **one at a time**\n",
    "* A proposal for $\\theta_i$ is into the **fully conditional posterior** $p(\\theta_i|\\theta_{-i},x)$, where $-i$ means all subscripts other than $i$."
   ]
  },
  {
   "cell_type": "markdown",
   "metadata": {
    "slideshow": {
     "slide_type": "slide"
    }
   },
   "source": [
    "Gibbs sampling:\n",
    "```\n",
    "while we want more samples\n",
    "    propose theta1 | theta2, theta3, ..., data\n",
    "    accept/reject theta1\n",
    "    propose theta2 | theta1, theta3, ..., data\n",
    "    accept/reject theta2\n",
    "    ...\n",
    "```"
   ]
  },
  {
   "cell_type": "markdown",
   "metadata": {
    "slideshow": {
     "slide_type": "slide"
    }
   },
   "source": [
    "### Example: normal PDF\n",
    "\n",
    "25 Metropolis iterations (left) vs. 25 Gibbs transitions (right)\n",
    "\n",
    "Color goes blue$\\rightarrow$red with time (step number)\n",
    "\n",
    "<table>\n",
    "    <tr>\n",
    "        <td>\n",
    "            <img src=\"figures/mc2_metro.png\" width=100%>\n",
    "        </td>\n",
    "        <td></td>\n",
    "        <td>\n",
    "            <img src=\"figures/mc2_gibbs.png\" width=100%>\n",
    "        </td>\n",
    "    </tr>\n",
    "</table>"
   ]
  },
  {
   "cell_type": "markdown",
   "metadata": {
    "slideshow": {
     "slide_type": "slide"
    }
   },
   "source": [
    "In general, this is not obviously an improvement to proposing changes to all $\\theta$ simultaneously.\n",
    "\n",
    "Why is a random drunk walking in one specific direction at a time better than just taking a random step???"
   ]
  },
  {
   "cell_type": "markdown",
   "metadata": {
    "slideshow": {
     "slide_type": "slide"
    }
   },
   "source": [
    "Something interesting happens if the fully conditional likelihood and prior are **conjugate** \n",
    "\n",
    "For some likelihood functions, if you choose a certain prior, *the posterior ends up being in the same distribution as the prior.* Such a prior then is called a **Conjugate Prior.**\n",
    "\n",
    "i.e. \n",
    "\n",
    "# $$ P(\\theta) \\mathrm{\\; such\\; that\\; } P(\\theta|D) = P(\\theta) $$\n",
    "\n",
    "\n",
    "i.e. we know the conditional posterior exactly!"
   ]
  },
  {
   "cell_type": "markdown",
   "metadata": {
    "slideshow": {
     "slide_type": "slide"
    }
   },
   "source": [
    "If we use independent samples of the conditional posterior as proposals, then the Metropolis-Hastings acceptance ratio becomes\n",
    "\n",
    "## $$\\frac{p(x')g(x|x')}{p(x)g(x'|x)} = \\frac{p(x')p(x)}{p(x)p(x')} = 1$$\n",
    "\n",
    "**and every proposal is automatically accepted!**"
   ]
  },
  {
   "cell_type": "markdown",
   "metadata": {
    "slideshow": {
     "slide_type": "slide"
    }
   },
   "source": [
    "Conjugate Gibbs Sampling:\n",
    "```\n",
    "while we want more samples\n",
    "    draw th1 from p(th1|th2,th3,...,data)\n",
    "    draw th2 from p(th2|th1,th3,...,data)\n",
    "    ...\n",
    "```"
   ]
  },
  {
   "cell_type": "markdown",
   "metadata": {
    "slideshow": {
     "slide_type": "slide"
    }
   },
   "source": [
    "* Beta posterior\n",
    "\n",
    "    * Beta prior * Bernoulli likelihood → Beta posterior\n",
    "    * Beta prior * Binomial likelihood → Beta posterior\n",
    "    * Beta prior * Negative Binomial likelihood → Beta posterior\n",
    "    * Beta prior * Geometric likelihood → Beta posterior\n",
    "\n",
    "* Gamma posterior\n",
    "   * Gamma prior * Poisson likelihood → Gamma posterior\n",
    "   * Gamma prior * Exponential likelihood → Gamma posterior\n",
    "\n",
    "* Normal posterior\n",
    "    * Normal prior * Normal likelihood (mean) → Normal posterior"
   ]
  },
  {
   "cell_type": "markdown",
   "metadata": {
    "slideshow": {
     "slide_type": "slide"
    }
   },
   "source": [
    "Gibbs Sampling Pros:\n",
    "* No cycles \"wasted\" on rejected proposals\n",
    "* No pesky tuning of the proposal scale\n",
    "\n",
    "Gibbs Sampling Cons:    \n",
    "* Only works for conjugate or partially conjugate models (hence must choose conjugate priors)\n",
    "* Occasionally still slower than proposing multi-parameter Metropolis updates (e.g. when degeneracies are strong)"
   ]
  },
  {
   "cell_type": "markdown",
   "metadata": {
    "slideshow": {
     "slide_type": "slide"
    }
   },
   "source": [
    "Some multiple modes:\n",
    "<table>\n",
    "    <tr>\n",
    "        <td>\n",
    "            Some spectral model<br>\n",
    "            <img src=\"figures/mc2_multimode_eg2.png\" width=100%>\n",
    "        </td>\n",
    "        <td></td>\n",
    "        <td>\n",
    "            The eggbox function<br>\n",
    "            <img src=\"figures/mc2_eggbox.png\" width=100%>\n",
    "        </td>\n",
    "    </tr>\n",
    "</table>"
   ]
  }
 ],
 "metadata": {
  "anaconda-cloud": {},
  "kernelspec": {
   "display_name": "astro",
   "language": "python",
   "name": "astro"
  },
  "language_info": {
   "codemirror_mode": {
    "name": "ipython",
    "version": 3
   },
   "file_extension": ".py",
   "mimetype": "text/x-python",
   "name": "python",
   "nbconvert_exporter": "python",
   "pygments_lexer": "ipython3",
   "version": "3.8.5"
  },
  "livereveal": {
   "scroll": true,
   "start_slideshow_at": "selected"
  }
 },
 "nbformat": 4,
 "nbformat_minor": 1
}
