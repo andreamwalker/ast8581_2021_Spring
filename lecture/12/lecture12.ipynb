{
 "cells": [
  {
   "cell_type": "code",
   "execution_count": 1,
   "metadata": {
    "scrolled": false,
    "slideshow": {
     "slide_type": "skip"
    }
   },
   "outputs": [],
   "source": [
    "from notebook.services.config import ConfigManager\n",
    "cm = ConfigManager()\n",
    "cm.update('livereveal', {\n",
    "        'width': 1024,\n",
    "        'height': 768,\n",
    "        'scroll': True,\n",
    "})\n",
    "%config InlineBackend.figure_format = 'retina'\n",
    "from IPython.lib.display import YouTubeVideo"
   ]
  },
  {
   "cell_type": "markdown",
   "metadata": {
    "slideshow": {
     "slide_type": "slide"
    }
   },
   "source": [
    "# Week 07 (Monday), AST 8581 / PHYS 8581 / CSCI 8581: Big Data in Astrophysics\n",
    "\n",
    "### Michael Coughlin <cough052@umn.edu>, Michael Steinbach <stei0062@umn.edu>, Nico Adams adams900@umn.edu\n",
    "\n",
    "\n",
    "with contributions totally ripped off from Gautham Narayan (UIUC)"
   ]
  },
  {
   "cell_type": "markdown",
   "metadata": {},
   "source": [
    "# Where do we stand?\n",
    "\n",
    "Foundations of Data and Probability -> Statistical frameworks (Frequentist vs Bayesian) -> Estimating underlying distributions -> Analysis of Time series (periodicity) -> Analysis of Time series (variability) -> Analysis of Time series (stochastic processes) -> Gaussian Processes"
   ]
  },
  {
   "cell_type": "markdown",
   "metadata": {
    "collapsed": true
   },
   "source": [
    "# Last Class: Stochastic Processes and Correlation Functions"
   ]
  },
  {
   "cell_type": "markdown",
   "metadata": {
    "slideshow": {
     "slide_type": "slide"
    }
   },
   "source": [
    "# Today: so if you have a correlation function, how do you get to $y(t)$? Gaussian Processes!\n",
    "\n",
    "\n",
    "A stochastic process is collection of variables drawn from _a probability distribution over functions_.\n",
    "\n",
    "In other words, if our function of interest is $y(t)$, a stochastic process assigns probabilities $P\\left[y(t)\\right]$."
   ]
  },
  {
   "cell_type": "markdown",
   "metadata": {
    "slideshow": {
     "slide_type": "subslide"
    }
   },
   "source": [
    "### Gaussian Processes\n",
    "\n",
    "A Gaussian process has the property that\n",
    "\n",
    "$P\\left[y(x) | y(x_1), y(x_2), \\ldots\\right]$\n",
    "\n",
    "is a Gaussian depending on the $x_i$ and $y(x_i)$. The process is specified by a \"mean function\" $\\mu(x)$ and a \"covariance function\" $C(x)$, or \"kernel,\" which determines how quickly $y(x)$ can vary."
   ]
  },
  {
   "cell_type": "markdown",
   "metadata": {
    "slideshow": {
     "slide_type": "slide"
    }
   },
   "source": [
    "### Gaussian Processes in Data Analysis\n",
    "\n",
    "A draw from $P[y(x^*)]$ would represent a prior prediction for the function value $y(x^*)$\n",
    "\n",
    "Typically we are more interested in the posterior prediction, drawn from $P[y(x^*)\\vert y^{\\rm obs}(x_{\\rm obs})]$\n",
    "\n",
    "$$ \\log L = - \\log | \\Sigma| - |y -u|^T \\Sigma^{-1} |y-u|$$\n",
    "\n",
    "\n",
    "$$ \\Sigma = (n x n)\\text{ matrix}$$ \n",
    "\n",
    "with \n",
    "\n",
    "$$ \\Sigma_{i,j} = \\text{Cov}(y(t_i), y(t_j)) = \\int_{-\\infty}^{\\infty} \\text{PSD} e^{2\\pi if |t_i - t_j|} \\,df $$\n"
   ]
  },
  {
   "cell_type": "markdown",
   "metadata": {
    "slideshow": {
     "slide_type": "slide"
    }
   },
   "source": [
    "The posterior PDF for $y(x^*)$ is a Gaussian, whose mean and standard deviation can be computed algebraically, and which is constrained by _all the previously observed $y(x)$_.\n",
    "\n",
    "\n",
    "<img src=\"figures/mfm_gp_example.png\"> "
   ]
  },
  {
   "cell_type": "markdown",
   "metadata": {
    "slideshow": {
     "slide_type": "slide"
    }
   },
   "source": [
    "### Gaussian Process (GP) Regression\n",
    "\n",
    "GP's provide a natural way to achieve high flexibility (and uncertainty) when _interpolating_ data. \n",
    "\n",
    "With the appropriate assumptions (e.g. Gaussian measurement errors), the calculation of the posterior for $y(x)$ is an _algebraic_ operation (no Monte Carlo required).\n",
    "\n",
    "Marginalization over the GP hyperparameters (the width of the kernel, for example) is more computationally expensive (involving the determinants of the matrices), but [fast methods have been developed](http://dan.iel.fm/george/current/user/hyper/)."
   ]
  },
  {
   "cell_type": "markdown",
   "metadata": {
    "slideshow": {
     "slide_type": "slide"
    }
   },
   "source": [
    "## Gaussian Processes are examples of Model \"free\" models - aka \"non-parametric models\"\n",
    "\n",
    "\n",
    "Sometimes we simply don't have a good first-principles model for what's going on in our data, but we're also confident that making a simple assumption (e.g. Gaussian scatter) is dead wrong.\n",
    "\n",
    "### What does \"model-free\" mean?\n",
    "\n",
    "In these situations, we're motivated to avoid strong modeling assumptions and instead be more empirical.\n",
    "\n",
    "Common adjectives:\n",
    "* non-parametric\n",
    "* model-independent\n",
    "* data-driven\n",
    "* empirical\n",
    "\n",
    "(Strictly speaking, these tend to correspond to models with very many parameters, but the terminology persists.)\n",
    "\n",
    "Gaussian processes appear to be \"non-parametric\" because the algebraic evaluation of the posterior PDF includes analytic marginalization over all the (nuisance) parameters in the model (the true values of $y$ at each $x_{\\rm obs}$).\n",
    "\n",
    "As with all non-parametric models, GPs are not \"assumption-free\" or \"model-independent\": they are just not _simply_ or _physically_ parametrized, and so involve different _types_ of assumptions.\n",
    "\n",
    "The trade-off between simply-parametrized and non-parametric models is between _interpretability_ (typically high for simply-parametrized physical models) and _prediction accuracy_ (typically high for non-parametric models)."
   ]
  },
  {
   "cell_type": "markdown",
   "metadata": {
    "slideshow": {
     "slide_type": "slide"
    }
   },
   "source": [
    "During the first half of the semester, you got famililar with observations drawn from a distribution e.g. $y_1$, drawn from a Gaussian distribution with mean $\\mu$ and variance $\\sigma^2$:\n",
    "\n",
    "\\begin{align}\n",
    "p(y_1 | \\mu, \\sigma) = \\frac{1}{\\sqrt{2 \\pi} \\sigma} \\exp \\left[ - \\frac{(y_1-\\mu)^2}{2 \\sigma^2} \\right] \n",
    "\\end{align}\n",
    "\n",
    "i.e.\n",
    "\n",
    "### $$y_1 \\sim \\mathcal{N}(\\mu,\\sigma^2)$$"
   ]
  },
  {
   "cell_type": "markdown",
   "metadata": {
    "slideshow": {
     "slide_type": "subslide"
    }
   },
   "source": [
    "If pair of variables $y_1$ and $y_2$, drawn from a *bivariate Gaussian distribution*. The *joint probability density* for $y_1$ and $y_2$ is:\n",
    "\n",
    "### $$\n",
    "\\left[ \\begin{array}{l} y_1 \\\\ y_2 \\end{array} \\right] \\sim \\mathcal{N} \\left(\n",
    "\\left[ \\begin{array}{l} \\mu_1 \\\\ \\mu_2 \\end{array}  \\right] , \n",
    "\\left[ \\begin{array}{ll} \n",
    "\\sigma_1^2 & C \\\\\n",
    "C & \\sigma_2^2 \n",
    "\\end{array}  \\right] \n",
    "\\right),\n",
    "$$\n",
    "\n",
    "where \n",
    "\n",
    "### $$C = {\\rm cov}(y_1,y_2)$$ \n",
    "\n",
    "is the *covariance* between $y_1$ and $y_2$."
   ]
  },
  {
   "cell_type": "markdown",
   "metadata": {
    "slideshow": {
     "slide_type": "subslide"
    }
   },
   "source": [
    "In the first half of the semester, we dealt with independent variables i.e.\n",
    "\n",
    "### $$P(y_1 \\cap y_2) = P(y_1) \\cdot P(y_2) $$\n",
    "\n",
    "and consequently\n",
    "\n",
    "\n",
    "\\begin{align}\n",
    "P(y_2|y_1) = \\frac{P(y_1 \\cap y_2)}{P(y_1)} = P(y_2)\n",
    "\\end{align}\n",
    "\n",
    "If two variables are independent, then $C = 0$ (remember converse isn't true). \n",
    "\n",
    "The observations are *uncorrelated* so measuring $y_1$ doesn't teach us anything about $y_2$.\n",
    "\n",
    "(If in addition $\\mu_1 = \\mu_2$ and $\\sigma_1 = \\sigma_2$ the variables are i.i.d)"
   ]
  },
  {
   "cell_type": "markdown",
   "metadata": {
    "slideshow": {
     "slide_type": "subslide"
    }
   },
   "source": [
    "### With time-series, $C \\ne 0$ \n",
    "\n",
    "If we know the value of $y_1$, the probability density for $y_2$ collapses to the the *conditional distribution* of $y_2$ given $y_1$:\n",
    "\n",
    "### $$\n",
    "p(y_2 \\mid y_1) = \\mathcal{N} \\left( \\mu_2 + C (y_1-\\mu_1)/\\sigma_1^2, \\sigma_2^2-C^2\\sigma_1^2 \\right).\n",
    "$$\n",
    "\n",
    "### Now consider $N$ variables drawn from a multivariate Gaussian distribution:\n",
    "\n",
    "### $$\n",
    "\\boldsymbol{y} \\sim \\mathcal{N} (\\boldsymbol{\\mu},\\boldsymbol{\\Sigma})\n",
    "$$\n",
    "\n",
    "where \n",
    "\n",
    "### $$\\boldsymbol{y} = (y_1,y_2,\\ldots,y_N)^T$$\n",
    "\n",
    "### $$\\boldsymbol{\\mu} = (\\mu_1,\\mu_2,\\ldots,\\mu_N)^T$$ \n",
    "\n",
    "\n",
    "is the *mean vector*, and $\\boldsymbol{\\Sigma}$ is an $N \\times N$ positive semi-definite *covariance matrix*, with elements \n",
    "\n",
    "### $$\\Sigma_{ij}={\\rm cov}(y_i,y_j)$$\n",
    "\n",
    "### And then the likelihood generalizes from 1D:\n",
    "\n",
    "\\begin{align}\n",
    "p(y_1 | \\mu, \\sigma) = \\frac{1}{\\sqrt{2 \\pi} \\sigma} \\exp \\left[ - \\frac{(y_1-\\mu)^2}{2 \\sigma^2} \\right] \n",
    "\\end{align}\n",
    "\n",
    "### to ND:\n",
    "\n",
    "\n",
    "\\begin{align}\n",
    "p(\\boldsymbol{y} | \\boldsymbol{\\mu}, \\boldsymbol{\\Sigma}) = \\frac{1}{\\sqrt{2 \\pi^N |\\Sigma|} } \\exp \\left[ -\\frac{1}{2} (\\boldsymbol{y} - \\boldsymbol{\\mu})^T \\Sigma^{-1} (\\boldsymbol{y} - \\boldsymbol{\\mu}) \\right] \n",
    "\\end{align}\n"
   ]
  },
  {
   "cell_type": "markdown",
   "metadata": {
    "slideshow": {
     "slide_type": "subslide"
    }
   },
   "source": [
    "This works because:\n",
    "\n",
    "<img src=\"figures/gaussians_all_the_way_down.jpg\">"
   ]
  },
  {
   "cell_type": "markdown",
   "metadata": {
    "slideshow": {
     "slide_type": "subslide"
    }
   },
   "source": [
    "## A Gaussian process is an extension of this concept to infinite $N$.\n",
    "\n",
    "This gives rise to a probability distribution over functions, rather than finite $N$ samples. \n",
    "\n",
    "<img src=\"figures/gp.png\">\n",
    "\n",
    "Informally - infinitely long vector ~ function"
   ]
  },
  {
   "cell_type": "markdown",
   "metadata": {
    "slideshow": {
     "slide_type": "slide"
    }
   },
   "source": [
    "Again, for finite number of $y$ drawn from a multivariate normal distribution:\n",
    "\n",
    "### $$\n",
    "\\boldsymbol{y} \\sim \\mathcal{N} (\\boldsymbol{\\mu},\\boldsymbol{\\Sigma})\n",
    "$$\n",
    "\n",
    "This clearly doesn't make sense for infinite $N$, but the essential feature remains the same:\n",
    "### A Gaussian process is completely specified by its *mean function* and *covariance function*.  "
   ]
  },
  {
   "cell_type": "markdown",
   "metadata": {
    "slideshow": {
     "slide_type": "slide"
    }
   },
   "source": [
    "### Incorporating observational error is similar to what you did in the past as well:\n",
    "\n",
    "### $$ y \\sim f(t) + \\epsilon$$ \n",
    "\n",
    "### with deviations from the truth related to the observational uncertainties\n",
    "\n",
    "### $$ \\epsilon \\sim \\mathcal{N}(0, \\sigma_y^2) $$\n",
    "\n",
    "\n",
    "### except now, $f(t)$ is a function not of some parameters, but rather of functions themselves:\n",
    "\n",
    "###  $$ f(t) \\sim \\mathcal{GP}(m(t), k(t,t'))$$\n",
    "\n",
    "### where I'm switching from $\\mu$ to $m(t)$ and $\\Sigma$ to $k(t, t')$ just to make explicit that these are not vectors.\n",
    "\n",
    "I'm using $k$ because this function that describes the covariance between time $t$ and $t'$ is called a **kernel** function. "
   ]
  },
  {
   "cell_type": "markdown",
   "metadata": {
    "slideshow": {
     "slide_type": "subslide"
    }
   },
   "source": [
    "## Thankfully, in the real world, we only have a finite number of observations\n",
    "\n",
    "Previously, we saw:\n",
    "\n",
    "### $$\\Sigma_{ij}={\\rm cov}(y_i,y_j)$$\n",
    "\n",
    "We don't have a parameteric model for $y$ anymore, but that's OK, we can write down a parametric model for the covariance itself, i.e.:\n",
    "\n",
    "### $$\n",
    "\\mathrm{cov}(y(t),y(t'))=k(t,t') $$\n",
    "\n",
    "\n",
    "That's helpful to do, because with finite observations:\n",
    "\n",
    "### $$\n",
    "\\mathrm{cov}(y_i,y_j)=k(t_i,t_j)\n",
    "$$"
   ]
  },
  {
   "cell_type": "markdown",
   "metadata": {
    "slideshow": {
     "slide_type": "slide"
    }
   },
   "source": [
    "## So we don't have parametrized model, but do have parametrized covariance - what can we do with this thing?"
   ]
  },
  {
   "cell_type": "markdown",
   "metadata": {
    "slideshow": {
     "slide_type": "slide"
    }
   },
   "source": [
    "## The prior\n",
    "\n",
    "Now consider a finite set of observations: inputs $\\boldsymbol{t}$, with corresponding outputs $\\boldsymbol{y}$."
   ]
  },
  {
   "cell_type": "markdown",
   "metadata": {
    "slideshow": {
     "slide_type": "fragment"
    }
   },
   "source": [
    "The *joint distribution* of $\\boldsymbol{y}$ given $\\boldsymbol{t}$, $m$ and $k$ is\n",
    "\n",
    "### $$\n",
    "\\mathrm{p}(\\boldsymbol{y} \\mid \\boldsymbol{t},m,k) = \\mathcal{N}( \\boldsymbol{m},K),\n",
    "$$"
   ]
  },
  {
   "cell_type": "markdown",
   "metadata": {
    "slideshow": {
     "slide_type": "fragment"
    }
   },
   "source": [
    "where again, $\\boldsymbol{m}=m(\\boldsymbol{t})$ is the *mean vector* \n",
    "\n",
    "and $K$ is the *covariance matrix*, with elements $K_{ij} = k(t_i,t_j)$.\n",
    "\n",
    "Note, there isn't one single function, but infinitely many for a specific choice of $m$, $k$. We marginalize over them to find the posterior mean. The parameters of $m$ and $k$ are called \"hyper parameters\". The interesting bit here is the covariance function/kernel, $k$ (we can always recenter the data to have mean = 0)."
   ]
  },
  {
   "cell_type": "markdown",
   "metadata": {
    "slideshow": {
     "slide_type": "slide"
    }
   },
   "source": [
    "## Test and training sets\n",
    "\n",
    "Suppose we have an (observed) *training set* $(\\boldsymbol{t},\\boldsymbol{y})$. \n",
    "\n",
    "We are interested in some other *test set* of inputs $\\boldsymbol{t}_*$."
   ]
  },
  {
   "cell_type": "markdown",
   "metadata": {
    "slideshow": {
     "slide_type": "fragment"
    }
   },
   "source": [
    "The joint distribution over the training and test sets is\n",
    "### $$\n",
    "\\mathrm{p} \\left( \\left[ \\begin{array}{l} \\boldsymbol{y} \\\\ \\boldsymbol{y}_* \\end{array} \\right] \\right) \n",
    "= \\mathcal{N} \\left( \\left[ \\begin{array}{l} \\boldsymbol{m} \\\\ \\boldsymbol{m}_* \\end{array} \\right], \n",
    "\\left[ \\begin{array}{ll} K & K_* \\\\ K_*^T & K_{**} \\end{array} \\right] \\right),\n",
    "$$"
   ]
  },
  {
   "cell_type": "markdown",
   "metadata": {
    "slideshow": {
     "slide_type": "fragment"
    }
   },
   "source": [
    "where $\\boldsymbol{m}_* = m(\\boldsymbol{x}_*)$, $K_{**,ij} = k(t_{*,i},t_{*,j})$ and $K_{*,ij} = k(t_i,t_{*,j})$. "
   ]
  },
  {
   "cell_type": "markdown",
   "metadata": {
    "slideshow": {
     "slide_type": "fragment"
    }
   },
   "source": [
    "This is not really any different from when we just had two observations:\n",
    "\n",
    "### $$\n",
    "\\left[ \\begin{array}{l} y_1 \\\\ y_2 \\end{array} \\right] \\sim \\mathcal{N} \\left(\n",
    "\\left[ \\begin{array}{l} \\mu_1 \\\\ \\mu_2 \\end{array}  \\right] , \n",
    "\\left[ \\begin{array}{ll} \n",
    "\\sigma_1^2 & C \\\\\n",
    "C & \\sigma_2^2 \n",
    "\\end{array}  \\right] \n",
    "\\right),\n",
    "$$"
   ]
  },
  {
   "cell_type": "markdown",
   "metadata": {
    "slideshow": {
     "slide_type": "subslide"
    }
   },
   "source": [
    "# For notational brevity I'm going to set the mean to 0."
   ]
  },
  {
   "cell_type": "markdown",
   "metadata": {
    "slideshow": {
     "slide_type": "slide"
    }
   },
   "source": [
    "## The conditional distribution\n",
    "\n",
    "The *conditional distribution* for the test set given the training set is:\n",
    "\n",
    "### $$ \n",
    "\\mathrm{p} ( \\boldsymbol{y}_* \\mid \\boldsymbol{y},k) = \\mathcal{N} ( \n",
    "K_*^T K^{-1} \\boldsymbol{y}, K_{**} - K_*^T K^{-1} K_* ).\n",
    "$$"
   ]
  },
  {
   "cell_type": "markdown",
   "metadata": {
    "slideshow": {
     "slide_type": "fragment"
    }
   },
   "source": [
    "This is also just a straight forward generalization from what we had with just two points:\n",
    "\n",
    "### $$\n",
    "p(y_2 \\mid y_1) = \\mathcal{N} \\left( \\mu_2 + C (y_1-\\mu_1)/\\sigma_1^2, \\sigma_2^2-C^2\\sigma_1^2 \\right).\n",
    "$$"
   ]
  },
  {
   "cell_type": "markdown",
   "metadata": {
    "slideshow": {
     "slide_type": "fragment"
    }
   },
   "source": [
    "This is called the **predictive distribution**, because it can be use to predict future (or past) observations. "
   ]
  },
  {
   "cell_type": "markdown",
   "metadata": {
    "slideshow": {
     "slide_type": "fragment"
    }
   },
   "source": [
    "More generally, it can be used for *interpolating* the observations to any desired set of inputs. "
   ]
  },
  {
   "cell_type": "markdown",
   "metadata": {
    "slideshow": {
     "slide_type": "fragment"
    }
   },
   "source": [
    "This is one of the most widespread applications of GPs in some fields (e.g. kriging in geology, economic forecasting, ...)"
   ]
  },
  {
   "cell_type": "markdown",
   "metadata": {
    "slideshow": {
     "slide_type": "slide"
    }
   },
   "source": [
    "## Real observations always contain a component of *white noise*\n",
    "\n",
    "We need to account for this, but don't necessarily want to include in the predictions. \n",
    "\n",
    "\n",
    "If the white noise variance $\\sigma^2$ is constant, we can write \n",
    "\n",
    "### $$\n",
    "\\mathrm{cov}(y_i,y_j)=k(t_i,t_j)+\\delta_{ij} \\sigma^2,\n",
    "$$\n"
   ]
  },
  {
   "cell_type": "markdown",
   "metadata": {
    "slideshow": {
     "slide_type": "fragment"
    }
   },
   "source": [
    "and the conditional distribution becomes\n",
    "\n",
    "\n",
    "### $$ \n",
    "\\mathrm{p} ( \\boldsymbol{y}_* \\mid \\boldsymbol{y},k) = \\mathcal{N} ( \n",
    "K_*^T (K + \\sigma^2 \\mathbb{I})^{-1} \\boldsymbol{y}, K_{**} - K_*^T (K + \\sigma^2 \\mathbb{I})^{-1} K_* ).\n",
    "$$\n",
    "\n",
    "\n",
    "We assumed constant white noise, but it's trivial to allow for different $\\sigma$ for each data point.\n",
    "\n",
    "You could also add some intrinsic dispersion as you often have to do. \n",
    "\n",
    "In real life, we may need to learn $\\sigma_{\\text{int}}$ from the data, alongside the other contribution to the covariance matrix."
   ]
  },
  {
   "cell_type": "markdown",
   "metadata": {
    "slideshow": {
     "slide_type": "slide"
    }
   },
   "source": [
    "## Single-point prediction\n",
    "\n",
    "Let us look more closely at the predictive distribution for a single test point $t_*$."
   ]
  },
  {
   "cell_type": "markdown",
   "metadata": {
    "slideshow": {
     "slide_type": "fragment"
    }
   },
   "source": [
    "It is a Gaussian with mean:\n",
    "### $$\n",
    "\\overline{y}_* = \\boldsymbol{k}_*^T (K + \\sigma^2 \\mathbb{I})^{-1} \\boldsymbol{y}\n",
    "$$\n",
    "\n",
    "and variance\n",
    "### $$\n",
    "\\mathbb{V}[y_*] = k(t_*,t_*) - \\boldsymbol{k}_*^T (K + \\sigma^2 \\mathbb{I})^{-1} \\boldsymbol{k}_*,\n",
    "$$\n",
    "where $\\boldsymbol{k}_*$ is the vector of covariances between the test point and the training points."
   ]
  },
  {
   "cell_type": "markdown",
   "metadata": {
    "slideshow": {
     "slide_type": "fragment"
    }
   },
   "source": [
    "Notice the mean is a linear combination of the observations: the GP is a *linear predictor*."
   ]
  },
  {
   "cell_type": "markdown",
   "metadata": {
    "slideshow": {
     "slide_type": "subslide"
    }
   },
   "source": [
    "It is also a linear combination of covariance functions, each centred on a training point:\n",
    "\n",
    "### $$\n",
    "\\overline{y}_* = \\sum_{i=1}^N \\alpha_i k(x_i,x_*),\n",
    "$$\n",
    "where $\\alpha_i = (K + \\sigma^2 \\mathbb{I})^{-1} y_i$"
   ]
  },
  {
   "cell_type": "markdown",
   "metadata": {
    "slideshow": {
     "slide_type": "slide"
    }
   },
   "source": [
    "## The likelihood\n",
    "\n",
    "The *likelihood* of the data under the GP model is simply:\n",
    "\n",
    "### $$\n",
    "\\mathrm{p}(\\boldsymbol{y} \\,|\\, \\boldsymbol{t}) = \\mathcal{N}(\\boldsymbol{y} \\, | \\, \\boldsymbol{0},K + \\sigma^2 \\mathbb{I}).\n",
    "$$\n",
    "\n",
    "This is a measure of how well the model explains, or predicts, the training set.\n",
    "\n",
    "i.e. **The observed $\\boldsymbol{y}$ are noisy realisations of a latent (unobserved) Gaussian process $\\boldsymbol{f}$.**"
   ]
  },
  {
   "cell_type": "markdown",
   "metadata": {
    "slideshow": {
     "slide_type": "subslide"
    }
   },
   "source": [
    "We are marginalizing over the function values $\\boldsymbol{f}$:\n",
    "### $$\n",
    "\\mathrm{p}(\\boldsymbol{y} \\,|\\, \\boldsymbol{t}) = \\int \\mathrm{p}(\\boldsymbol{y} \\,|\\, \\boldsymbol{f},\\boldsymbol{t}) \\, \\mathrm{p}(\\boldsymbol{f} \\,|\\, \\boldsymbol{t}) \\, \\mathrm{d}\\boldsymbol{f},\n",
    "$$\n",
    "\n",
    "where \n",
    "\n",
    "\n",
    "### $$\n",
    "\\mathrm{p}(\\boldsymbol{f} \\,|\\, \\boldsymbol{t}) = \\mathcal{N}(\\boldsymbol{f} \\, | \\, \\boldsymbol{0},K)\n",
    "$$\n",
    "\n",
    "\n",
    "is the *prior*, and \n",
    "\n",
    "\n",
    "### $$\n",
    "\\mathrm{p}(\\boldsymbol{y} \\,|\\, \\boldsymbol{f},\\boldsymbol{t}) = \\mathcal{N}(\\boldsymbol{y} \\, | \\, \\boldsymbol{0},\\sigma^2 \\mathbb{I})\n",
    "$$\n",
    "is the *likelihood*."
   ]
  },
  {
   "cell_type": "markdown",
   "metadata": {
    "slideshow": {
     "slide_type": "subslide"
    }
   },
   "source": [
    "# You \"condition\" the hyperparameters on some observed data\n",
    "\n",
    "i.e. evaluate the conditional (or predictive) distribution for a given covariance matrix (i.e. covariance function and hyper-parameters), and training set."
   ]
  },
  {
   "cell_type": "markdown",
   "metadata": {
    "slideshow": {
     "slide_type": "subslide"
    }
   },
   "source": [
    "## *Training* the GP...\n",
    "\n",
    "...means maximising the *likelihood* of the model with respect to the hyperparameters."
   ]
  },
  {
   "cell_type": "markdown",
   "metadata": {
    "slideshow": {
     "slide_type": "skip"
    }
   },
   "source": [
    "## The kernel trick\n",
    "\n",
    "Consider a linear basis model with arbitrarily many *basis functions*, or *features*, $\\Phi(x)$, and a (Gaussian) prior $\\Sigma_{\\mathrm{p}}$ over the basis function weights. "
   ]
  },
  {
   "cell_type": "markdown",
   "metadata": {
    "slideshow": {
     "slide_type": "skip"
    }
   },
   "source": [
    "You end up with exactly the same expressions for the predictive distribution and the likelihood so long as:\n",
    "### $$\n",
    "k(\\boldsymbol{x},\\boldsymbol{x'}) = \\Phi(\\boldsymbol{x})^{\\mathrm{T}} \\Sigma_{\\mathrm{p}} \\Phi(\\boldsymbol{x'}),\n",
    "$$\n",
    "\n",
    "\n",
    "or, writing $\\Psi(\\boldsymbol{x}) = \\Sigma_{\\mathrm{p}}^{1/2} \\Phi(\\boldsymbol{x})$,\n",
    "\n",
    "\n",
    "### $$\n",
    "k(\\boldsymbol{x},\\boldsymbol{x'}) = \\Psi(\\boldsymbol{x}) \\cdot \\Psi(\\boldsymbol{x'}),\n",
    "$$"
   ]
  },
  {
   "cell_type": "markdown",
   "metadata": {
    "slideshow": {
     "slide_type": "skip"
    }
   },
   "source": [
    "Thus the covariance function $k$ enables us to go from a (finite) *input space* to a (potentially infinite) *feature space*. This is known as the *kernel trick* and the covariance function is often referred to as the *kernel*."
   ]
  },
  {
   "cell_type": "markdown",
   "metadata": {},
   "source": [
    "# In-class warm-up: a worked Gaussian Process example"
   ]
  },
  {
   "cell_type": "markdown",
   "metadata": {},
   "source": [
    "### Let's start by considering a simple function: $f(x) = x * \\sin(x)$"
   ]
  },
  {
   "cell_type": "code",
   "execution_count": 1,
   "metadata": {
    "scrolled": false
   },
   "outputs": [],
   "source": [
    "import numpy as np\n",
    "import matplotlib.pyplot as plt\n",
    "import sklearn.metrics\n",
    "\n",
    "np.random.seed(2)\n",
    "def f(x):\n",
    "    \"\"\"The function to predict.\"\"\"\n",
    "    return x * np.sin(x)"
   ]
  },
  {
   "cell_type": "code",
   "execution_count": 2,
   "metadata": {
    "scrolled": false
   },
   "outputs": [
    {
     "data": {
      "text/plain": [
       "<ErrorbarContainer object of 3 artists>"
      ]
     },
     "execution_count": 2,
     "metadata": {},
     "output_type": "execute_result"
    },
    {
     "data": {
      "image/png": "[encoded data removed]",
      "text/plain": [
       "<Figure size 432x288 with 1 Axes>"
      ]
     },
     "metadata": {
      "needs_background": "light"
     },
     "output_type": "display_data"
    }
   ],
   "source": [
    "xmax = 10\n",
    "X_space = np.linspace(0.001, xmax - 0.001, 1000)\n",
    "\n",
    "# Get the \"real\" value\n",
    "y_real = f(X_space)\n",
    "\n",
    "n = 10\n",
    "# Uniform sampling and add Gaussian noise\n",
    "x_sample = np.random.random(n)*10\n",
    "\n",
    "sigma = 1.0\n",
    "noise = np.random.normal(0, sigma, n)\n",
    "y_meas = f(x_sample) + noise\n",
    "\n",
    "plt.plot(X_space,y_real,\"r\")\n",
    "plt.errorbar(x_sample,y_meas,yerr=sigma,fmt=\"bo\")"
   ]
  },
  {
   "cell_type": "markdown",
   "metadata": {},
   "source": [
    "In the real world we just have the data and we want to predict a new value (in this case, at $x_p$ = 5).\n"
   ]
  },
  {
   "cell_type": "code",
   "execution_count": 3,
   "metadata": {
    "scrolled": false
   },
   "outputs": [
    {
     "data": {
      "image/png": "[encoded data removed]",
      "text/plain": [
       "<Figure size 432x288 with 1 Axes>"
      ]
     },
     "metadata": {
      "needs_background": "light"
     },
     "output_type": "display_data"
    }
   ],
   "source": [
    "sigma = 1.0\n",
    "y_p = 0.0\n",
    "x_p = 5.0\n",
    "plt.plot(x_sample,y_meas,\"bo\",label=\"$\\mathbf{y}$\")\n",
    "plt.errorbar(x_p,y_p,yerr=sigma,fmt=\"ro\",label=\"$\\hat{y}$\",alpha=0.5)\n",
    "plt.legend()\n",
    "plt.xlim(0,10)\n",
    "ylim=plt.ylim()"
   ]
  },
  {
   "cell_type": "code",
   "execution_count": 4,
   "metadata": {
    "scrolled": false
   },
   "outputs": [],
   "source": [
    "x_comb = np.append(x_p,x_sample)"
   ]
  },
  {
   "cell_type": "markdown",
   "metadata": {},
   "source": [
    "From last class, we model the random vector (a priori) as $$\\begin{bmatrix}\\hat{Y} \\\\ \\mathbf{Y} \\end{bmatrix} \\sim Pr\\left(\\begin{bmatrix}\\hat{Y} \\\\ \\mathbf{Y} \\end{bmatrix} = \\begin{bmatrix}\\hat{y} \\\\ \\mathbf{y} \\end{bmatrix}\\right) = \\mathcal{N}\\left(\\begin{bmatrix}0 \\\\ \\mathbf{0} \\end{bmatrix}, \\begin{bmatrix} K(\\hat{x},\\hat{x}) & K(\\hat{x},\\mathbf{x}) \\\\ K(\\mathbf{x},\\hat{x}) & K(\\mathbf{x},\\mathbf{x}) \\end{bmatrix}\\right) = \\mathcal{N}\\left(\\begin{bmatrix}0 \\\\ \\mathbf{0} \\end{bmatrix}, \\begin{bmatrix} a & \\mathbf{b}^T \\\\  \\mathbf{b} & C \\end{bmatrix}\\right) $$"
   ]
  },
  {
   "cell_type": "code",
   "execution_count": 5,
   "metadata": {
    "scrolled": false
   },
   "outputs": [
    {
     "data": {
      "text/plain": [
       "(-5.570975251039949, 2.7362768371568604)"
      ]
     },
     "execution_count": 5,
     "metadata": {},
     "output_type": "execute_result"
    },
    {
     "data": {
      "image/png": "[encoded data removed]",
      "text/plain": [
       "<Figure size 432x288 with 1 Axes>"
      ]
     },
     "metadata": {
      "needs_background": "light"
     },
     "output_type": "display_data"
    }
   ],
   "source": [
    "plt.errorbar(x_sample,np.zeros((n,1)),fmt=\"bo\",label=\"$\\mathbf{y}$\",yerr=sigma)\n",
    "plt.errorbar(x_p,0,yerr=sigma,fmt=\"ro\",label=\"$\\hat{y}$\")\n",
    "plt.legend()\n",
    "plt.xlim(0,10)\n",
    "plt.ylim(ylim)"
   ]
  },
  {
   "cell_type": "markdown",
   "metadata": {},
   "source": [
    "What we want to do is to do is to **update** this model with our data:\n",
    "\n",
    "$$\\hat{y} \\sim Pr(\\hat{Y}=\\hat{y}| \\mathbf{Y} = \\mathbf{y}) = \\mathcal{N}\\left(\\hat{y};\\mathbf{b}^T C^{-1} \\mathbf{y},  a - \\mathbf{b}^T C^{-1} \\mathbf{b} \\right)$$"
   ]
  },
  {
   "cell_type": "code",
   "execution_count": 8,
   "metadata": {
    "scrolled": false
   },
   "outputs": [
    {
     "data": {
      "text/plain": [
       "<matplotlib.colorbar.Colorbar at 0x7f40bc1ab730>"
      ]
     },
     "execution_count": 8,
     "metadata": {},
     "output_type": "execute_result"
    },
    {
     "data": {
      "image/png": "[encoded data removed]",
      "text/plain": [
       "<Figure size 432x288 with 2 Axes>"
      ]
     },
     "metadata": {
      "needs_background": "light"
     },
     "output_type": "display_data"
    }
   ],
   "source": [
    "l = 1.0\n",
    "X = np.atleast_2d(x_comb).T\n",
    "M=sklearn.metrics.pairwise_distances(X,X)\n",
    "S=sigma*sigma*np.exp(M*M/(-2*l*l))\n",
    "plt.imshow(S)\n",
    "plt.colorbar()"
   ]
  },
  {
   "cell_type": "code",
   "execution_count": 11,
   "metadata": {
    "scrolled": false
   },
   "outputs": [
    {
     "data": {
      "text/plain": [
       "[<matplotlib.lines.Line2D at 0x7f40bbb9bd60>]"
      ]
     },
     "execution_count": 11,
     "metadata": {},
     "output_type": "execute_result"
    },
    {
     "data": {
      "image/png": "[encoded data removed]",
      "text/plain": [
       "<Figure size 432x288 with 1 Axes>"
      ]
     },
     "metadata": {
      "needs_background": "light"
     },
     "output_type": "display_data"
    }
   ],
   "source": [
    "a = S[0,0]\n",
    "b = S[0,1:]\n",
    "C = S[1:,1:]\n",
    "Cinv = np.linalg.inv(C)\n",
    "mu_p = b.T @ Cinv @ y_meas # b^T C^{-1} y\n",
    "sig_p = a - b.T @ Cinv @ b# a - b^T C^{-1} b\n",
    "plt.plot(x_sample,y_meas,\"bo\",label=\"$\\mathbf{y}$\")\n",
    "plt.errorbar(x_p,mu_p,yerr=sig_p,fmt=\"ro\",label=\"$\\hat{y}$\")\n",
    "plt.legend()\n",
    "plt.xlim(0,10)\n",
    "ylim=plt.ylim()\n",
    "plt.plot(X_space,y_real,\"r--\",alpha=0.5)"
   ]
  },
  {
   "cell_type": "markdown",
   "metadata": {},
   "source": [
    "### THIS LOOKS AWFUL! But why? Make a plot of $C^{-1}$"
   ]
  },
  {
   "cell_type": "code",
   "execution_count": 12,
   "metadata": {
    "scrolled": false
   },
   "outputs": [
    {
     "data": {
      "text/plain": [
       "<matplotlib.image.AxesImage at 0x7f40bbb19a30>"
      ]
     },
     "execution_count": 12,
     "metadata": {},
     "output_type": "execute_result"
    },
    {
     "data": {
      "image/png": "[encoded data removed]",
      "text/plain": [
       "<Figure size 432x288 with 1 Axes>"
      ]
     },
     "metadata": {
      "needs_background": "light"
     },
     "output_type": "display_data"
    }
   ],
   "source": [
    "# YOUR CODE HERE\n",
    "plt.imshow(Cinv)"
   ]
  },
  {
   "cell_type": "code",
   "execution_count": 14,
   "metadata": {
    "scrolled": false
   },
   "outputs": [
    {
     "data": {
      "text/plain": [
       "<matplotlib.image.AxesImage at 0x7f40bbae3b50>"
      ]
     },
     "execution_count": 14,
     "metadata": {},
     "output_type": "execute_result"
    },
    {
     "data": {
      "image/png": "[encoded data removed]",
      "text/plain": [
       "<Figure size 432x288 with 1 Axes>"
      ]
     },
     "metadata": {
      "needs_background": "light"
     },
     "output_type": "display_data"
    }
   ],
   "source": [
    "### Try adding a small number (0.01) to the diagonal C and recompute $C^{-1}$\n",
    "C = C + 0.01*np.identity(C.shape[0])\n",
    "Cinv = np.linalg.inv(C)\n",
    "plt.imshow(Cinv)"
   ]
  },
  {
   "cell_type": "code",
   "execution_count": 15,
   "metadata": {
    "scrolled": false
   },
   "outputs": [
    {
     "data": {
      "text/plain": [
       "[<matplotlib.lines.Line2D at 0x7f40bba4be50>]"
      ]
     },
     "execution_count": 15,
     "metadata": {},
     "output_type": "execute_result"
    },
    {
     "data": {
      "image/png": "[encoded data removed]",
      "text/plain": [
       "<Figure size 432x288 with 1 Axes>"
      ]
     },
     "metadata": {
      "needs_background": "light"
     },
     "output_type": "display_data"
    }
   ],
   "source": [
    "lamb = 0.01\n",
    "#Cinv = #np.linalg.inv(...\n",
    "mu_p = b.T @ Cinv @ y_meas # b^T C^{-1} y\n",
    "sig_p = a - b.T @ Cinv @ b# a - b^T C^{-1} b\n",
    "#mu_p = # b^T C^{-1} y\n",
    "#sig_p = # a - b^T C^{-1} b\n",
    "plt.plot(x_sample,y_meas,\"bo\",label=\"$\\mathbf{y}$\")\n",
    "plt.errorbar(x_p,mu_p,yerr=sig_p,fmt=\"ro\",label=\"$\\hat{y}$\")\n",
    "plt.legend()\n",
    "plt.xlim(0,10)\n",
    "ylim=plt.ylim()\n",
    "plt.plot(X_space,y_real,\"r--\",alpha=0.5)"
   ]
  },
  {
   "cell_type": "markdown",
   "metadata": {},
   "source": [
    "### THIS LOOKS BETTER But why? Make a plot of $C^{-1}$"
   ]
  },
  {
   "cell_type": "code",
   "execution_count": 16,
   "metadata": {
    "scrolled": false
   },
   "outputs": [
    {
     "data": {
      "text/plain": [
       "<matplotlib.image.AxesImage at 0x7f40bb9cb610>"
      ]
     },
     "execution_count": 16,
     "metadata": {},
     "output_type": "execute_result"
    },
    {
     "data": {
      "image/png": "[encoded data removed]",
      "text/plain": [
       "<Figure size 432x288 with 1 Axes>"
      ]
     },
     "metadata": {
      "needs_background": "light"
     },
     "output_type": "display_data"
    }
   ],
   "source": [
    "# YOUR CODE HERE\n",
    "plt.imshow(Cinv)"
   ]
  },
  {
   "cell_type": "markdown",
   "metadata": {},
   "source": [
    "Now consider that we want to do the same but for a vector of $\\mathbf{\\hat{y}}$ values for the $\\mathbf{\\hat{x}}$ points.\n",
    "\n",
    "$$\\begin{bmatrix}\\mathbf{\\hat{Y}} \\\\ \\mathbf{Y} \\end{bmatrix} \\sim Pr\\left(\\begin{bmatrix}\\mathbf{\\hat{Y}} \\\\ \\mathbf{Y} \\end{bmatrix} = \\begin{bmatrix}\\mathbf{\\hat{y}} \\\\ \\mathbf{y} \\end{bmatrix}\\right) = \\mathcal{N}\\left(\\begin{bmatrix}\\mathbf{0} \\\\ \\mathbf{0} \\end{bmatrix}, \\begin{bmatrix} K(\\mathbf{\\hat{x}},\\mathbf{\\hat{x}}) & K(\\mathbf{\\hat{x}},\\mathbf{x}) \\\\ K(\\mathbf{x},\\mathbf{\\hat{x}}) & K(\\mathbf{x},\\mathbf{x}) + \\lambda I \\end{bmatrix}\\right) = \\mathcal{N}\\left(\\begin{bmatrix}\\mathbf{0} \\\\ \\mathbf{0} \\end{bmatrix}, \\begin{bmatrix} A & B^T \\\\  B & C \\end{bmatrix}\\right) $$\n",
    "\n",
    "Now\n",
    "$$\\mathbf{\\hat{y}} \\sim Pr(\\mathbf{\\hat{Y}}=\\mathbf{\\hat{y}}| \\mathbf{Y} = \\mathbf{y}) = \\mathcal{N}\\left(\\mathbf{\\hat{y}} ; B^T C^{-1} \\mathbf{y},  A - B^T C^{-1} B \\right)$$\n",
    "\n",
    "\n"
   ]
  },
  {
   "cell_type": "markdown",
   "metadata": {},
   "source": [
    "We need to adopt a Kernel function (we will go through more of these next week...). We will use an Exponential Quadratic Kernel here:\n",
    "$$ \\Sigma_{ij} = K(x_j,x_i) = \\sigma^2 \\exp\\left(-\\frac{(x_j - x_i)^2}{2\\mathcal{l}^2} \\right)$$\n",
    "\n",
    "What does this metric look like in space?"
   ]
  },
  {
   "cell_type": "code",
   "execution_count": 17,
   "metadata": {
    "scrolled": false
   },
   "outputs": [],
   "source": [
    "X = np.atleast_2d(x_sample).T"
   ]
  },
  {
   "cell_type": "code",
   "execution_count": 20,
   "metadata": {
    "scrolled": false
   },
   "outputs": [],
   "source": [
    "from ipywidgets import interact\n",
    "X_space = np.linspace(0.1, 9.9, 1000)\n",
    "X_space = np.atleast_2d(X_space).T\n",
    "\n",
    "def gen_data(n = 10,sigma =1.0):\n",
    "    # Get the \"real\" value\n",
    "    x_sample = np.random.random(n)*10\n",
    "    noise = np.random.normal(0, sigma, n)\n",
    "    y_meas = f(x_sample) + noise\n",
    "    X = np.atleast_2d(x_sample).T\n",
    "    return(X,y_meas)\n",
    "\n",
    "def predict_GMM_plot(lamb=0.1,sigma=1.0,l=1.0,bars=False,instances=False):\n",
    "    dA=sklearn.metrics.pairwise_distances(X_space,X_space)\n",
    "    dB=sklearn.metrics.pairwise_distances(X,X_space)\n",
    "    dC=sklearn.metrics.pairwise_distances(X,X)\n",
    "    A=sigma*sigma*np.exp(dA*dA/(-2*l*l))\n",
    "    B=sigma*sigma*np.exp(dB*dB/(-2*l*l))\n",
    "    C=sigma*sigma*np.exp(dC*dC/(-2*l*l))\n",
    "    sI = lamb*np.eye(C.shape[0],C.shape[1])\n",
    "    Cinv = np.linalg.inv(C + sI)\n",
    "    mu_p = B.T.dot(Cinv).dot(y_meas)\n",
    "    cov_p = A - B.T.dot(Cinv).dot(B)\n",
    "    plt.plot(X,y_meas,\"bo\",label=\"$\\mathbf{y}$\")\n",
    "    if bars:\n",
    "        plt.errorbar(X_space,mu_p,yerr=1.96*np.diag(cov_p),fmt=\"r\",label=\"$\\mathbf{\\hat{y}}$\",alpha=0.2)\n",
    "    else:\n",
    "        plt.plot(X_space,mu_p,\"r\",label=\"$\\mathbf{\\hat{y}}$\",alpha=0.8)\n",
    "    plt.plot(X_space,y_real,\"k--\",alpha=0.5,label=\"f(x)\")\n",
    "    if instances:\n",
    "        #L=np.linalg.cholesky(cov_p)\n",
    "        for i in range(10):\n",
    "            inst=np.random.multivariate_normal(mu_p, cov_p)\n",
    "            #z = np.random.normal(0, 1.0, mu_p.length)\n",
    "            #inst = mu_p + L.dot(z)\n",
    "            plt.plot(X_space,inst,alpha=0.5)\n",
    "    \n",
    "    plt.legend()\n",
    "    plt.xlim(0,max(X_space))\n",
    "    ylim=plt.ylim() \n",
    "    \n"
   ]
  },
  {
   "cell_type": "code",
   "execution_count": 26,
   "metadata": {
    "scrolled": false
   },
   "outputs": [
    {
     "data": {
      "application/vnd.jupyter.widget-view+json": {
       "model_id": "5551cf3344c340abbcd201912b469962",
       "version_major": 2,
       "version_minor": 0
      },
      "text/plain": [
       "interactive(children=(FloatSlider(value=0.1, description='lamb', max=1.0, step=0.01), FloatSlider(value=1.0, d…"
      ]
     },
     "metadata": {},
     "output_type": "display_data"
    },
    {
     "data": {
      "text/plain": [
       "<function __main__.predict_GMM_plot(lamb=0.1, sigma=1.0, l=1.0, bars=False, instances=False)>"
      ]
     },
     "execution_count": 26,
     "metadata": {},
     "output_type": "execute_result"
    }
   ],
   "source": [
    "%matplotlib inline\n",
    "interact(predict_GMM_plot,lamb=(0.0,1.0,0.01),sigma=(0.1,2.0,0.1),l=(0.1,5.0,0.1))"
   ]
  },
  {
   "cell_type": "code",
   "execution_count": 24,
   "metadata": {
    "scrolled": false
   },
   "outputs": [
    {
     "data": {
      "application/vnd.jupyter.widget-view+json": {
       "model_id": "53bf509b4e664d63a23914654a0ae8b1",
       "version_major": 2,
       "version_minor": 0
      },
      "text/plain": [
       "interactive(children=(FloatSlider(value=0.1, description='lamb', max=1.0, step=0.01), FloatSlider(value=1.0, d…"
      ]
     },
     "metadata": {},
     "output_type": "display_data"
    },
    {
     "data": {
      "text/plain": [
       "<function __main__.predict_GMM_plot(lamb=0.1, sigma=1.0, l=1.0, bars=False, instances=False)>"
      ]
     },
     "execution_count": 24,
     "metadata": {},
     "output_type": "execute_result"
    }
   ],
   "source": [
    "X,y_meas = gen_data(n=25,sigma=1.0)\n",
    "interact(predict_GMM_plot,lamb=(0.0,1.0,0.01),sigma=(0.1,4.0,0.1))"
   ]
  },
  {
   "cell_type": "code",
   "execution_count": 25,
   "metadata": {
    "scrolled": false
   },
   "outputs": [
    {
     "data": {
      "application/vnd.jupyter.widget-view+json": {
       "model_id": "f7df60950fb442f5868d8625496e75de",
       "version_major": 2,
       "version_minor": 0
      },
      "text/plain": [
       "interactive(children=(FloatSlider(value=0.1, description='lamb', max=1.0, step=0.01), FloatSlider(value=1.0, d…"
      ]
     },
     "metadata": {},
     "output_type": "display_data"
    },
    {
     "data": {
      "text/plain": [
       "<function __main__.predict_GMM_plot(lamb=0.1, sigma=1.0, l=1.0, bars=False, instances=False)>"
      ]
     },
     "execution_count": 25,
     "metadata": {},
     "output_type": "execute_result"
    }
   ],
   "source": [
    "X_space = np.linspace(0.1, 30.0, 1000)\n",
    "X_space = np.atleast_2d(X_space).T\n",
    "y_real = f(X_space)\n",
    "X,y_meas = gen_data(n=25,sigma=1.0)\n",
    "interact(predict_GMM_plot,lamb=(0.0,1.0,0.01),sigma=(1,40.0,1),l=(0.1,4.0,0.1))"
   ]
  },
  {
   "cell_type": "markdown",
   "metadata": {},
   "source": [
    "np.array([1,2,3])\n",
    "[[1],[2],[3]]"
   ]
  },
  {
   "cell_type": "markdown",
   "metadata": {},
   "source": [
    "# In-class warm-up: We will try another one (a Periodic Kernel) here:\n",
    "\n",
    "$K(x,x') = \\sigma^2 exp\\left(−\\frac{2 sin^2\\left(\\frac{\\pi(x− x′)}{p}\\right)}{l^2}\\right)$\n"
   ]
  },
  {
   "cell_type": "code",
   "execution_count": 27,
   "metadata": {
    "scrolled": false
   },
   "outputs": [],
   "source": [
    "def predict_GMMper_plot(lamb=0.1,sigma=1.0,l=1.0,p=10.0,bars=False,instances=False):\n",
    "    dA=sklearn.metrics.pairwise_distances(X_space,X_space)\n",
    "    dB=sklearn.metrics.pairwise_distances(X,X_space)\n",
    "    dC=sklearn.metrics.pairwise_distances(X,X)\n",
    "    sA=np.square(np.sin((np.pi*dA)/p))# YOUR CODE HERE\n",
    "    sB=np.square(np.sin((np.pi*dB)/p))# YOUR CODE HERE\n",
    "    sC=np.square(np.sin((np.pi*dC)/p))# YOUR CODE HERE\n",
    "    A=sigma**2*np.exp(-2*sA/l**2)# YOUR CODE HERE\n",
    "    B=sigma**2*np.exp(-2*sB/l**2)# YOUR CODE HERE\n",
    "    C=sigma**2*np.exp(-2*sC/l**2)# YOUR CODE HERE\n",
    "    sI = lamb*np.eye(C.shape[0],C.shape[1])\n",
    "    Cinv = np.linalg.inv(C + sI)\n",
    "    mu_p = B.T.dot(Cinv).dot(y_meas)\n",
    "    cov_p = A - B.T.dot(Cinv).dot(B)\n",
    "    plt.plot(X,y_meas,\"bo\",label=\"$\\mathbf{y}$\")\n",
    "    if bars:\n",
    "        plt.errorbar(X_space,mu_p,yerr=1.96*np.diag(cov_p),fmt=\"r\",label=\"$\\mathbf{\\hat{y}}$\",alpha=0.2)\n",
    "    else:\n",
    "        plt.plot(X_space,mu_p,\"r\",label=\"$\\mathbf{\\hat{y}}$\",alpha=0.8)\n",
    "    plt.plot(X_space,y_real,\"k--\",alpha=0.5,label=\"f(x)\")\n",
    "    if instances:\n",
    "        #L=np.linalg.cholesky(cov_p)\n",
    "        for i in range(10):\n",
    "            inst=np.random.multivariate_normal(mu_p, cov_p)\n",
    "            #z = np.random.normal(0, 1.0, mu_p.length)\n",
    "            #inst = mu_p + L.dot(z)\n",
    "            plt.plot(X_space,inst,alpha=0.5)\n",
    "    \n",
    "    plt.legend()\n",
    "    plt.xlim(0,max(X_space))\n",
    "    ylim=plt.ylim() \n",
    "    "
   ]
  },
  {
   "cell_type": "code",
   "execution_count": 28,
   "metadata": {
    "scrolled": false
   },
   "outputs": [
    {
     "data": {
      "application/vnd.jupyter.widget-view+json": {
       "model_id": "4723b056edeb4821930a5d6aa36a9656",
       "version_major": 2,
       "version_minor": 0
      },
      "text/plain": [
       "interactive(children=(FloatSlider(value=0.1, description='lamb', max=1.0, step=0.01), FloatSlider(value=1.0, d…"
      ]
     },
     "metadata": {},
     "output_type": "display_data"
    },
    {
     "data": {
      "text/plain": [
       "<function __main__.predict_GMMper_plot(lamb=0.1, sigma=1.0, l=1.0, p=10.0, bars=False, instances=False)>"
      ]
     },
     "execution_count": 28,
     "metadata": {},
     "output_type": "execute_result"
    }
   ],
   "source": [
    "interact(predict_GMMper_plot,lamb=(0.0,1.0,0.01),sigma=(1,40.0,1),l=(0.1,4.0,0.1),p=(0.1,30.0,0.1))"
   ]
  },
  {
   "cell_type": "markdown",
   "metadata": {},
   "source": [
    "# In-class warm-up: We will try another one (a Periodic + Exponential Quadratic Kernel) here:\n",
    "\n",
    "$K(x,x') = \\sigma^2 exp\\left(−\\frac{2 sin^2\\left(\\frac{\\pi(x− x′)}{p}\\right)}{l^2}\\right) \\sigma^2 exp\\left(-\\frac{(x_j - x_i)^2}{2\\mathcal{l}^2} \\right) $"
   ]
  },
  {
   "cell_type": "code",
   "execution_count": 35,
   "metadata": {
    "scrolled": false
   },
   "outputs": [],
   "source": [
    "def predict_GMMcomb_plot(lamb=0.1,sigma=1.0,l=1.0,p=10.0,bars=False,instances=False):\n",
    "    dA=sklearn.metrics.pairwise_distances(X_space,X_space)\n",
    "    dB=sklearn.metrics.pairwise_distances(X,X_space)\n",
    "    dC=sklearn.metrics.pairwise_distances(X,X)\n",
    "    sA=# YOUR CODE HERE\n",
    "    sB=# YOUR CODE HERE\n",
    "    sC=# YOUR CODE HERE\n",
    "    A=# YOUR CODE HERE\n",
    "    B=# YOUR CODE HERE\n",
    "    C=# YOUR CODE HERE\n",
    "    sI = lamb*np.eye(C.shape[0],C.shape[1])\n",
    "    Cinv = np.linalg.inv(C + sI)\n",
    "    mu_p = B.T.dot(Cinv).dot(y_meas)\n",
    "    cov_p = A - B.T.dot(Cinv).dot(B)\n",
    "    plt.plot(X,y_meas,\"bo\",label=\"$\\mathbf{y}$\")\n",
    "    if bars:\n",
    "        plt.errorbar(X_space,mu_p,yerr=1.96*np.diag(cov_p),fmt=\"r\",label=\"$\\mathbf{\\hat{y}}$\",alpha=0.2)\n",
    "    else:\n",
    "        plt.plot(X_space,mu_p,\"r\",label=\"$\\mathbf{\\hat{y}}$\",alpha=0.8)\n",
    "    plt.plot(X_space,y_real,\"k--\",alpha=0.5,label=\"f(x)\")\n",
    "    if instances:\n",
    "        #L=np.linalg.cholesky(cov_p)\n",
    "        for i in range(10):\n",
    "            inst=np.random.multivariate_normal(mu_p, cov_p)\n",
    "            #z = np.random.normal(0, 1.0, mu_p.length)\n",
    "            #inst = mu_p + L.dot(z)\n",
    "            plt.plot(X_space,inst,alpha=0.5)\n",
    "    \n",
    "    plt.legend()\n",
    "    plt.xlim(0,max(X_space))\n",
    "    ylim=plt.ylim() \n",
    "    "
   ]
  },
  {
   "cell_type": "code",
   "execution_count": 36,
   "metadata": {
    "scrolled": false
   },
   "outputs": [
    {
     "data": {
      "application/vnd.jupyter.widget-view+json": {
       "model_id": "63260c8c784246cca9a035158a41a4c1",
       "version_major": 2,
       "version_minor": 0
      },
      "text/plain": [
       "interactive(children=(FloatSlider(value=0.1, description='lamb', max=1.0, step=0.01), FloatSlider(value=1.0, d…"
      ]
     },
     "metadata": {},
     "output_type": "display_data"
    },
    {
     "data": {
      "text/plain": [
       "<function __main__.predict_GMMcomb_plot>"
      ]
     },
     "execution_count": 36,
     "metadata": {},
     "output_type": "execute_result"
    }
   ],
   "source": [
    "interact(predict_GMMcomb_plot,lamb=(0.0,1.0,0.01),sigma=(1,40.0,1),l=(0.1,4.0,0.1),p=(0.1,30.0,0.1))"
   ]
  },
  {
   "cell_type": "markdown",
   "metadata": {},
   "source": [
    "What kernel works best for the data we have? Any hypotheses as to why?"
   ]
  },
  {
   "cell_type": "markdown",
   "metadata": {
    "slideshow": {
     "slide_type": "slide"
    }
   },
   "source": [
    "# Appendix: Probabilistic Graphical Model for a GP\n",
    "\n",
    "\n",
    "### Recall:\n",
    "\n",
    "A **probabilistic graphical model** (PGM) is a very useful way of visualizing a generative model.\n",
    "* They sketch out the procedure for how one would generate mock data in practice.\n",
    "* They illustrate the interdependence of model parameters, and the dependence of data on parameters.\n",
    "* _They also (therefore) represent a conditional factorization of the PDF for all the data and model parameters._"
   ]
  },
  {
   "cell_type": "markdown",
   "metadata": {
    "slideshow": {
     "slide_type": "subslide"
    }
   },
   "source": [
    "Ingredients of a PGM:\n",
    "* **Nodes** represent PDFs for parameters\n",
    "* **Edges** represent conditional relationships\n",
    "* **Plates** represent repeated model components whose contents are **conditionally independent**"
   ]
  },
  {
   "cell_type": "markdown",
   "metadata": {
    "slideshow": {
     "slide_type": "subslide"
    }
   },
   "source": [
    "Types of nodes:\n",
    "* **Circles** represent a PDF. This parameter is a *stochastic* function of the parameters feeding into it.\n",
    "* **Points** represent a delta-function PDF. This parameter is a *deterministic* function of the parameters feeding into it.\n",
    "* **Double circles** (or shading) indicate measured data. They are stochastic in the context of generating mock data, but fixed in the context of parameter inference."
   ]
  },
  {
   "cell_type": "markdown",
   "metadata": {
    "slideshow": {
     "slide_type": "slide"
    }
   },
   "source": [
    "# If we were dealing with i.i.d. data\n",
    "\n",
    "### $$ y \\sim f(t) + \\epsilon$$ \n",
    "\n",
    "### with deviations from the truth related to the observational uncertainties\n",
    "\n",
    "### $$ \\epsilon \\sim \\mathcal{N}(0, \\sigma_y^2) $$\n",
    "\n",
    "\n",
    "<img src=\"figures/pgm_conditionally_independent.png\">"
   ]
  },
  {
   "cell_type": "markdown",
   "metadata": {
    "slideshow": {
     "slide_type": "subslide"
    }
   },
   "source": [
    "# With time-series the data are not conditionally independent\n",
    "\n",
    "i.e. you don't have a nice plate:\n",
    "\n",
    "<img src=\"figures/gp_pgm.png\">\n",
    "\n",
    "From [Rasmussen & Williams (aka the GP bible)](http://www.gaussianprocess.org/gpml/chapters/RW.pdf)"
   ]
  },
  {
   "cell_type": "markdown",
   "metadata": {},
   "source": [
    "# Appendix: Random Process and Weights"
   ]
  },
  {
   "cell_type": "markdown",
   "metadata": {
    "slideshow": {
     "slide_type": "slide"
    }
   },
   "source": [
    "<img src=\"figures/random_process.jpg\">"
   ]
  },
  {
   "cell_type": "markdown",
   "metadata": {
    "slideshow": {
     "slide_type": "slide"
    }
   },
   "source": [
    "<img src=\"figures/weight_space.jpg\">"
   ]
  },
  {
   "cell_type": "markdown",
   "metadata": {
    "slideshow": {
     "slide_type": "slide"
    }
   },
   "source": [
    "<img src=\"figures/two_views.jpg\">"
   ]
  }
 ],
 "metadata": {
  "anaconda-cloud": {},
  "kernelspec": {
   "display_name": "astro",
   "language": "python",
   "name": "astro"
  },
  "language_info": {
   "codemirror_mode": {
    "name": "ipython",
    "version": 3
   },
   "file_extension": ".py",
   "mimetype": "text/x-python",
   "name": "python",
   "nbconvert_exporter": "python",
   "pygments_lexer": "ipython3",
   "version": "3.8.5"
  },
  "livereveal": {
   "scroll": true,
   "start_slideshow_at": "selected"
  }
 },
 "nbformat": 4,
 "nbformat_minor": 1
}
