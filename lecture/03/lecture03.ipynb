{
  "nbformat": 4,
  "nbformat_minor": 0,
  "metadata": {
    "celltoolbar": "Slideshow",
    "kernelspec": {
      "display_name": "Python 3",
      "language": "python",
      "name": "python3"
    },
    "language_info": {
      "codemirror_mode": {
        "name": "ipython",
        "version": 3
      },
      "file_extension": ".py",
      "mimetype": "text/x-python",
      "name": "python",
      "nbconvert_exporter": "python",
      "pygments_lexer": "ipython3",
      "version": "3.7.9"
    },
    "colab": {
      "name": "lecture03.ipynb",
      "provenance": []
    }
  },
  "cells": [
    {
      "cell_type": "code",
      "metadata": {
        "id": "MPKPR9A2rT28",
        "outputId": "9d519f55-886b-4d71-9cf4-ee3e7743a0c2"
      },
      "source": [
        "from notebook.services.config import ConfigManager\n",
        "cm = ConfigManager()\n",
        "cm.update('livereveal', {\n",
        "        'width': 1920,\n",
        "        'height': 1080,\n",
        "        'scroll': True,\n",
        "})"
      ],
      "execution_count": null,
      "outputs": [
        {
          "output_type": "execute_result",
          "data": {
            "text/plain": [
              "{'width': 1920, 'height': 1080, 'scroll': True}"
            ]
          },
          "metadata": {
            "tags": []
          },
          "execution_count": 1
        }
      ]
    },
    {
      "cell_type": "markdown",
      "metadata": {
        "id": "6_KM-6oPrT2-"
      },
      "source": [
        "# Week 02 (Wednesday), AST 8581 / PHYS 8581 / CSCI 8581: Big Data in Astrophysics\n",
        "\n",
        "### Michael Coughlin <cough052@umn.edu>, Michael Steinbach <stei0062@umn.edu>, Nico Adams adams900@umn.edu\n",
        "\n",
        "\n",
        "With contributions totally ripped off from Zjelko Ivezic and Mario Juric (UW), Gordon Richards (Drexel), Federica Bianco (U. Del), Maria Suveges (EPFL), and Gautham Narayan (UIUC)\n"
      ]
    },
    {
      "cell_type": "markdown",
      "metadata": {
        "id": "L2uNnlI4rT2_"
      },
      "source": [
        "## Recap\n",
        "\n",
        "* We've done an overview of \"descriptive\" statistics (as opposed to inferential statistics)\n",
        "* Random variables (discrete and continuous), sample estimators, covariance\n",
        "    * Bayes' rule and how it follows from the axioms of probability\n",
        "    * conditional probability, marginalization"
      ]
    },
    {
      "cell_type": "markdown",
      "metadata": {
        "id": "KqFhzzlYrT2_"
      },
      "source": [
        "* Distributions (univariate and multivariate), moments, common distributions, PDFs, CDFs\n",
        "* Random variables as samples from a distribution \n",
        "* Why you should look at the samples, not just moments/summary statistics\n",
        "* Comparing samples to a normal distribution (the QQ plot), identifying skewness, outliers"
      ]
    },
    {
      "cell_type": "markdown",
      "metadata": {
        "id": "v2mK9X6erT2_"
      },
      "source": [
        "* The central limit theorem\n",
        "* Basic visualizations of multivariate data\n",
        "* Dealing with basic astronomical data types"
      ]
    },
    {
      "cell_type": "markdown",
      "metadata": {
        "id": "_tgNM02mrT3A"
      },
      "source": [
        "### <center> Remember the goal is to get to <i>P(H|D).</i> </center>\n",
        "\n",
        "### <center> What questions do you have? </center>"
      ]
    },
    {
      "cell_type": "markdown",
      "metadata": {
        "id": "s7bYL25JrT3A"
      },
      "source": [
        "## The Method of Moments and Hypothesis Testing \n",
        "*Notes: moments:- things that define the distribution of the data: mean standard deviation, expectation values, etc*\n",
        "\n",
        "### The Method of Moments (Chebyshev, 1887)\n",
        "We know how to estimate moments if we have an underlying description of the population - the PDF\n",
        "\n",
        "### <center> $\\mu_{n} = \\int_{-\\infty}^{\\infty} (x-c)^{n} \\cdot p(x) \\cdot dx $ </center>"
      ]
    },
    {
      "cell_type": "markdown",
      "metadata": {
        "id": "hNo1Me4yrT3A"
      },
      "source": [
        "Generally, we do not have the PDF but have some random samples that are drawn from it."
      ]
    },
    {
      "cell_type": "markdown",
      "metadata": {
        "id": "5SSTU7gFrT3B"
      },
      "source": [
        "We have been equating sample moments with population moments already\n",
        "\n",
        "* the KDE plot with multivariate data\n",
        "* estimating parameters from a multivariate sample by eye and constructing a multivariate Gaussian\n",
        "* your homework... (note: fitting lines, ave, stdev, quartiles)"
      ]
    },
    {
      "cell_type": "markdown",
      "metadata": {
        "id": "iJ92B6VirT3B"
      },
      "source": [
        "This works when the data is simple enough to be described by some simple model. You also know when this isn't the case:\n",
        "\n",
        "<img src=\"https://github.com/andreamwalker/ast8581_2021_Spring/blob/inclass/lecture/03/figures/DataDino-600x455.gif?raw=1\" width=\"200\">"
      ]
    },
    {
      "cell_type": "markdown",
      "metadata": {
        "id": "LPbG8YN2rT3C"
      },
      "source": [
        "But if it is the case...\n",
        "\n",
        "* Assume a form for the empirical PDF $f(x; \\theta)$        *NB:not going to assume an underlying distribution*\n",
        "* Equate the sample moments with the empirical moments"
      ]
    },
    {
      "cell_type": "markdown",
      "metadata": {
        "id": "CI1XZWM2rT3C"
      },
      "source": [
        "### Here's a quick demo of the method of moments works with some simulated data!\n",
        "\n",
        "The process we're simulating is a Poisson process. The statistics of sources that you detect with devices like CCDs that count photons will follow a Poisson process.\n",
        "\n",
        "For a Poisson process, the probability of receiving a number of counts $k$ is given by the **Poisson distribution:**\n",
        "\n",
        "$$P(k;\\lambda) = \\frac{lambda ^k e^{-\\lambda}}{k!}$$\n",
        "\n",
        "Both the mean and the variance of this distribution are equal to $\\lambda$. By extension, the standard deviation is $\\sqrt{\\lambda}$.\n",
        "\n",
        "**Lastly, remember from last class that astronomers don't report measurements in number of photons detected or number of counts measured. Rather, they report things in magnitudes:**\n",
        "$$m = -2.5*log_{10}(`counts`) + `constant`$$\n",
        "\n",
        "*NB: constant is a random constant, often around 25*"
      ]
    },
    {
      "cell_type": "code",
      "metadata": {
        "id": "a4BnRrO9rT3C",
        "outputId": "6767af38-0c2b-4580-8069-02650303fdbb",
        "colab": {
          "base_uri": "https://localhost:8080/"
        }
      },
      "source": [
        "# RUN THIS CELL\n",
        "%pylab\n",
        "%matplotlib inline\n",
        "import scipy.stats as st\n",
        "from astropy.visualization import hist as ahist\n",
        "import statsmodels.api as sm\n",
        "\n",
        "# you can change this number and execute the cell below \n",
        "samp_size = 1000\n",
        "\n",
        "# and this number\n",
        "true_flux = 2000\n",
        "\n",
        "# simulate something like the magnitudes you might measure on a detector\n",
        "samp = -2.5*np.log10(st.poisson.rvs(true_flux, size=samp_size)) + 25\n",
        "\n",
        "# true moments are straightforward - remember change of variables for the standard deviation\n",
        "mu_true = -2.5*np.log10(true_flux) + 25\n",
        "sig_true = np.log10(e)*2.5*np.sqrt(true_flux)/true_flux\n",
        "\n",
        "# sample moments are also easy \n",
        "mu_samp = samp.mean()\n",
        "sig_samp = samp.std()"
      ],
      "execution_count": 1,
      "outputs": [
        {
          "output_type": "stream",
          "text": [
            "Using matplotlib backend: agg\n",
            "Populating the interactive namespace from numpy and matplotlib\n"
          ],
          "name": "stdout"
        },
        {
          "output_type": "stream",
          "text": [
            "/usr/local/lib/python3.6/dist-packages/statsmodels/tools/_testing.py:19: FutureWarning: pandas.util.testing is deprecated. Use the functions in the public API at pandas.testing instead.\n",
            "  import pandas.util.testing as tm\n"
          ],
          "name": "stderr"
        }
      ]
    },
    {
      "cell_type": "code",
      "metadata": {
        "id": "qt1cug_XrT3D",
        "outputId": "7a766fba-5e14-4122-9b9f-00e09d46dbbc",
        "colab": {
          "base_uri": "https://localhost:8080/",
          "height": 297
        }
      },
      "source": [
        "fig = figure(figsize=(8, 4))\n",
        "ax1 = fig.add_subplot(1,2,1)\n",
        "ax2 = fig.add_subplot(1,2,2)\n",
        "\n",
        "# let's histogram the sample we have \n",
        "ahist(samp, bins='freedman', density=True, ax=ax1,\\\n",
        "      label=fr'True $\\mu=${mu_true:.3f}, $\\sigma$={sig_true:.3f}')\n",
        "xmin, xmax = ax1.get_xlim()\n",
        "xval = np.arange(xmin, xmax+0.01, 0.001)\n",
        "\n",
        "# and overplot the PDF we estimate using the method of moments\n",
        "estpdf  = st.norm.pdf(xval, loc=mu_samp, scale=sig_samp)\n",
        "ax1.plot(xval, estpdf, color='C1', lw=2, label=fr'Est $\\mu=${mu_samp:.3f}, $\\sigma$={sig_samp:.3f}')\n",
        "ax1.legend(frameon=False)\n",
        "\n",
        "# we know that in the limit of large lambda, the Poisson process should look like a Gaussian process\n",
        "sm.qqplot(samp, line='r', ax=ax2)\n",
        "tight_layout()"
      ],
      "execution_count": 3,
      "outputs": [
        {
          "output_type": "display_data",
          "data": {
            "image/png": "[encoded data removed]",
            "text/plain": [
              "<Figure size 576x288 with 2 Axes>"
            ]
          },
          "metadata": {
            "tags": [],
            "needs_background": "light"
          }
        }
      ]
    },
    {
      "cell_type": "markdown",
      "metadata": {
        "id": "-VIQY9AnrT3E"
      },
      "source": [
        "This is closely related to the **Null Hypothesis Rejection Test** (NHRT)\n",
        "\n",
        "* You have data drawn from some unknown population\n",
        "* Assume a model for that population\n",
        "    * This allows you to make a prediction for the data you have\n",
        "    * \"Under the null hypothesis\" = if the model is a good description of the data\n",
        "        * then the data should be highly probable\n",
        "    * Define a test such that some observation has a very low probability of happening\n",
        "\n",
        "\n",
        "###**My notes:**\n",
        "*NB: you have an underlying distribution for your population; given your data, if this low-probability event happens, i.e. 5$\\sigma$  - you can estimate a probability* \n",
        "* you have an experiment with detection data\n",
        "* hypothesis: data you are taking is consistent with the noise of the detector\n",
        "* break the data into chunks and analyze signal-to-noise ratio statistic\n",
        "* in the case of no observations, you have an underlying distribution that has been defined\n",
        "* run analysis; a couple segments have high signal-to-noise ratio\n",
        "* what is the probability that we see a signal-to-noise ratio of 10, for example\n",
        "* How long would we have to run our experiment to see this quantity of high signal-to-noise ratios generated by the experimental noise itself. \n",
        "* once this probability has been established, you can understand how many of the high signal-to-noise ratio observations should occur in your experiment\n",
        "* this lends itself to understanding whether a detection is noise or genuine\n"
      ]
    },
    {
      "cell_type": "markdown",
      "metadata": {
        "id": "DnCOY9jKrT3E"
      },
      "source": [
        "* Given your data, if the low probability happened, then you can reject your model\n",
        "* If it hasn't happened, your model still holds\n",
        "    * but that doesn't tell you it's a good description of the data"
      ]
    },
    {
      "cell_type": "markdown",
      "metadata": {
        "id": "JvD_YfIIrT3E"
      },
      "source": [
        "<center> <img src='https://github.com/andreamwalker/ast8581_2021_Spring/blob/inclass/lecture/03/figures/nhrt.png?raw=1'> </center>\n",
        "(credit: Federica Bianco, U. Delaware)"
      ]
    },
    {
      "cell_type": "markdown",
      "metadata": {
        "id": "51kjT6BCrT3F"
      },
      "source": [
        "So when you hear \"$x$ is a 2-$\\sigma$ detection!\"\n",
        "\n",
        "* 2-$\\sigma$: confidence level\n",
        "* 0.05: p-value\n",
        "* 95%: threshold\n",
        "\n",
        "\n",
        "Unstated here is that there is an assumption of some model, typically a Gaussian.\n",
        "\n",
        "**Nothing** here states that the model is a good description of the data at all."
      ]
    },
    {
      "cell_type": "markdown",
      "metadata": {
        "id": "seBBAQyTrT3F"
      },
      "source": [
        "Consider this from Kang et al. \"Early-type Host Galaxies of Type Ia Supernovae. II. Evidence for Luminosity Evolution in Supernova Cosmology\", 2020, ApJ, 889, Issue 1, id. 8\n",
        "\n",
        "[ADS Link](https://ui.adsabs.harvard.edu/abs/2020ApJ...889....8K/abstract)\n",
        "or \n",
        "[ArXiv](https://arxiv.org/abs/1912.04903)\n",
        "\n",
        "  <center> <img src =\"./figures/kang_sne_evol.png\" width=\"800\"> </center>"
      ]
    },
    {
      "cell_type": "markdown",
      "metadata": {
        "id": "q5QzW3_ErT3G"
      },
      "source": [
        "### Statistical sins\n",
        "\n",
        "- hypotheses suggested by non-representative data\n",
        "    - you almost always have to deal with this in real data\n",
        "- looking for patterns in your data is legitimate\n",
        "    - applying a hypothesis test to the same data from which a pattern emerges is not\n",
        "        - randomized out-of-sample tests/cross-validation\n",
        "- p is not the probability that the hypothesis is false! (remember what you are given here is the hypothesis)\n",
        "- p-hacking: only reporting the hypothesis with a significant p-value but not reporting the ones without\n",
        "\n",
        "#### Read Cohen 1994 \"The Earth is Round (p < .05)\" included in the directory for all the issues with hypothesis testing\n",
        "    "
      ]
    },
    {
      "cell_type": "markdown",
      "metadata": {
        "id": "J5mog12drT3G"
      },
      "source": [
        "If your sample is indeed drawn from a random distribution:\n",
        "\n",
        "### <center> $ \\left| x - \\mu \\right| > 3\\sigma$ implies $X$ is more extreme than the distribution 0.27% of the time </center>"
      ]
    },
    {
      "cell_type": "markdown",
      "metadata": {
        "id": "jFTO3rRarT3G"
      },
      "source": [
        "## In class exercise 1\n",
        "### Null Hypothesis Rejection Test when the model isn't normal\n",
        "\n",
        "The Universe has many processes that throw outliers into your nice curated data\n",
        "(I hope you are enjoying your homework)\n",
        "\n",
        "If you model a sample as normal, but the underlying population isn't then you are liable to flag something as significant when it isn't. \n",
        "\n",
        "See what difference it makes when you go from a Gaussian to a Student's t-distribution with 8 degrees of freedom:"
      ]
    },
    {
      "cell_type": "code",
      "metadata": {
        "id": "sgLuufsdrT3H",
        "outputId": "26d68b51-eff6-4409-f78b-1df27a6d823b",
        "colab": {
          "base_uri": "https://localhost:8080/",
          "height": 402
        }
      },
      "source": [
        "# You can evaluate what P(X > x) is with the survival function i.e. (1 -  CDF(X))\n",
        "fig = figure(figsize=(10, 5))\n",
        "x = np.arange(-3, 3.01, 0.01)\n",
        "pdf = st.norm.pdf(x)\n",
        "sf = st.norm.sf(x)\n",
        "\n",
        "ax1 = fig.add_subplot(121)\n",
        "ax2 = fig.add_subplot(122)\n",
        "ax1.plot(x, pdf)\n",
        "ax2.plot(x, sf)\n",
        "\n",
        "ax1.set_xlabel('x')\n",
        "ax1.set_ylabel('p(x)')\n",
        "\n",
        "ax2.set_xlabel('x')\n",
        "ax2.set_ylabel('SF(x)')\n",
        "\n",
        "# DO THIS FOR A T-DISTRIBUTION WITH Nu=8\n",
        "# your code goes here (hint, use st.t.pdf and st.t.sf)\n",
        "'''\n",
        "fig2 = figure(figsize=(10, 5))\n",
        "x = np.arange(-3, 3.01, 0.01)\n",
        "pdf2 = st.t.pdf(x,df=8)\n",
        "sf2 = st.t.sf(x,df=8)\n",
        "\n",
        "ax1 = fig2.add_subplot(121)\n",
        "ax2 = fig2.add_subplot(122)\n",
        "ax1.plot(x, pdf2)\n",
        "ax2.plot(x, sf2)\n",
        "\n",
        "ax1.set_xlabel('x')\n",
        "ax1.set_ylabel('p(x)')\n",
        "\n",
        "ax2.set_xlabel('x')\n",
        "ax2.set_ylabel('SF(x)')\n",
        "'''\n",
        "\n",
        "#fig2 = figure(figsize=(10, 5))\n",
        "#x = np.arange(-3, 3.01, 0.01)\n",
        "pdf2 = st.t.pdf(x,df=8)\n",
        "sf2 = st.t.sf(x,df=8)\n",
        "\n",
        "#ax1 = fig2.add_subplot(121)\n",
        "#ax2 = fig2.add_subplot(122)\n",
        "ax1.plot(x, pdf2)\n",
        "ax2.plot(x, sf2)\n",
        "'''\n",
        "ax1.set_xlabel('x')\n",
        "ax1.set_ylabel('p(x)')\n",
        "\n",
        "ax2.set_xlabel('x')\n",
        "ax2.set_ylabel('SF(x)')\n",
        "'''\n",
        "# What does 3 sigma correspond to for the Normal and Student T distributions?\n",
        "# How many samples do you need to find outliers?\n",
        "\n",
        "studt_sig = st.t(8).std()\n",
        "norm_sig = st.norm.std()\n",
        "print(norm_3sig,studt_3sig)\n",
        "\n",
        "n = 1/(0.0027) #number of samples needed to be sampled\n",
        "#n_1 = 1/(1-0.0027)\n",
        "print(\"n=\",n)\n",
        "\n",
        "alpha = 1-0.0027\n",
        "\n",
        "# another thing you can try is the interval function to ask what interval encloses % of the total probability\n",
        "# this is better for assymetric distributions\n",
        "print(st.norm().interval(alpha))\n",
        "print(st.t.interval(alpha,df=8))"
      ],
      "execution_count": 20,
      "outputs": [
        {
          "output_type": "stream",
          "text": [
            "1.0 1.1547005383792515\n",
            "n= 370.3703703703703\n",
            "(-2.999976992703389, 2.9999769927034015)\n",
            "(-4.276576799570991, 4.276576799571021)\n"
          ],
          "name": "stdout"
        },
        {
          "output_type": "display_data",
          "data": {
            "image/png": "[encoded data removed]",
            "text/plain": [
              "<Figure size 720x360 with 2 Axes>"
            ]
          },
          "metadata": {
            "tags": [],
            "needs_background": "light"
          }
        }
      ]
    },
    {
      "cell_type": "markdown",
      "metadata": {
        "id": "UMIMluUFrT3H"
      },
      "source": [
        "The issue with the method of moments and classical hypothesis testing is they are not very **robust** to outliers in the data.\n",
        "\n",
        "Particularly if the outlier fraction is significant relative to the total sample size."
      ]
    },
    {
      "cell_type": "code",
      "metadata": {
        "id": "6GzpyC10rT3I"
      },
      "source": [
        "# Run this cell \n",
        "\n",
        "samp_size = 200\n",
        "\n",
        "# you can control the outlier fraction\n",
        "outlier_fraction1 = 0.1\n",
        "outlier_fraction2 = 0.05\n",
        "\n",
        "# simulate something like the magnitudes you might measure on a detector\n",
        "samp1 = -2.5*np.log10(st.poisson.rvs(2000, size=samp_size)) + 25\n",
        "\n",
        "# except now we're going to add a small distribution on the wings - if this was magnitudes\n",
        "# maybe this is a second fainter source in a close binary\n",
        "samp2 = -2.5*np.log10(st.poisson.rvs(1850, size=max(int(outlier_fraction1*samp_size), 1))) + 25\n",
        "\n",
        "# and we'll add some large, easy to see outliers - these might be cosmic rays\n",
        "samp3 = -2.5*np.log10(st.poisson.rvs(3700, size=max(int(outlier_fraction2*samp_size), 1))) + 25\n",
        "\n",
        "# let's combine all three samples together\n",
        "samp = np.concatenate((samp1, samp2, samp3), axis=-1)\n",
        "\n",
        "# and shuffle our measurements, so you can't do outlier rejection 4\n",
        "# by simply clipping the first/last N elements of the array\n",
        "np.random.shuffle(samp)"
      ],
      "execution_count": 22,
      "outputs": []
    },
    {
      "cell_type": "code",
      "metadata": {
        "id": "kbvvA6kNrT3I",
        "outputId": "f1207be6-93a2-47f9-c73d-58c8941a0e46",
        "colab": {
          "base_uri": "https://localhost:8080/",
          "height": 297
        }
      },
      "source": [
        "# sample moments\n",
        "mu_samp = samp.mean()\n",
        "sig_samp = samp.std()\n",
        "\n",
        "fig = figure(figsize=(8, 4))\n",
        "ax1 = fig.add_subplot(1,2,1)\n",
        "ax2 = fig.add_subplot(1,2,2)\n",
        "\n",
        "# histogram the sample \n",
        "ahist(samp, bins='freedman', density=True, ax=ax1)\n",
        "xmin, xmax = ax1.get_xlim()\n",
        "xval = np.arange(xmin, xmax+0.01, 0.001)\n",
        "\n",
        "# plot the methods of moments estimator assuming a normal distribtuion\n",
        "estpdf  = st.norm.pdf(xval, loc=mu_samp, scale=sig_samp)\n",
        "ax1.plot(xval, estpdf, color='r', lw=2, label=fr'Est $\\mu=${mu_samp:.3f}, $\\sigma$={sig_samp:.3f}')\n",
        "ax1.legend(frameon=False)\n",
        "\n",
        "# and make a QQ plot of the sample \n",
        "sm.qqplot(samp, line='r', ax=ax2, marker='.')\n",
        "\n",
        "# note that all the regression line (i.e. the line = \"r\" option is doing) above is doing\n",
        "# is computing the sample mean and standard deviation\n",
        "# and plotting Y = mean + sigma*X\n",
        "\n",
        "# you can verify this by plotting the same line yourself\n",
        "qq = np.arange(-3, 3, 0.01)\n",
        "y = mu_samp + sig_samp*qq\n",
        "ax2.plot(qq, y, 'g-.')\n",
        "\n",
        "\n",
        "# this is cosmetic and just tidies up the plot\n",
        "tight_layout()"
      ],
      "execution_count": 23,
      "outputs": [
        {
          "output_type": "display_data",
          "data": {
            "image/png": "[encoded data removed]",
            "text/plain": [
              "<Figure size 576x288 with 2 Axes>"
            ]
          },
          "metadata": {
            "tags": [],
            "needs_background": "light"
          }
        }
      ]
    },
    {
      "cell_type": "markdown",
      "metadata": {
        "id": "ASr9WV8zrT3J"
      },
      "source": [
        "## In class exercise 2\n",
        "### Robust Statistics - Alternative 1: Eliminating Outliers (i.e. clean your data)\n",
        "\n",
        "In your homework, you have encountered one way to cleanup your data, using the QQ-plot.\n",
        "* using a line defined through some quartiles\n",
        "* using $Y = \\mu + \\sigma\\cdot x$ \n",
        "\n",
        "Both of these methods are fundamentally assuming the data is normally distributed."
      ]
    },
    {
      "cell_type": "markdown",
      "metadata": {
        "id": "az6LcO4yrT3J"
      },
      "source": [
        "astropy.stats has a sigma_clip method that also assumes the data is normally distributed, but you can control around where. In particular you can use the median.\n",
        "\n",
        "Try eliminating the outliers with it, and check if the method of moments estimator gives you something reasonable."
      ]
    },
    {
      "cell_type": "code",
      "metadata": {
        "id": "KIBkdWf0rT3K",
        "outputId": "7c21e57e-629b-492c-9c8d-5621424e3d03",
        "colab": {
          "base_uri": "https://localhost:8080/",
          "height": 283
        }
      },
      "source": [
        "from astropy.stats import sigma_clip\n",
        "\n",
        "# your code goes here\n",
        "# Use sigma_clip on samp (choose your own sigma threshold, try a few!) to make a new array\n",
        "# you can change the threshold for sigma clipping - note that sigma is fairly large \n",
        "# with the methods of moments estimator, so you might have to make this small \n",
        "# the method is a bit ad hoc because of this threshold that you can tune\n",
        "# at 4-5 sigma, you may not see much of an effect at all\n",
        "# at 2-3 sigma, you might be clipping useful data\n",
        "\n",
        "#clipped_samp =\n",
        "\n",
        "clipped_samp = sigma_clip(samp, sigma=3, stdfunc='std', masked=False)\n",
        "\n",
        "fig = figure(figsize=(8, 4))\n",
        "ax1 = fig.add_subplot(1,2,1)\n",
        "ax2 = fig.add_subplot(1,2,2)\n",
        "\n",
        "# plot the sample and the sigma-clipped sample (using for example ahist)\n",
        "\n",
        "ax1.plot(samp)\n",
        "ax2.plot(clipped_samp)\n",
        "\n",
        "# and the QQ plots (sm.qqplot)"
      ],
      "execution_count": 28,
      "outputs": [
        {
          "output_type": "execute_result",
          "data": {
            "text/plain": [
              "[<matplotlib.lines.Line2D at 0x7f5d6ab53198>]"
            ]
          },
          "metadata": {
            "tags": []
          },
          "execution_count": 28
        },
        {
          "output_type": "display_data",
          "data": {
            "image/png": "[encoded data removed]",
            "text/plain": [
              "<Figure size 576x288 with 2 Axes>"
            ]
          },
          "metadata": {
            "tags": [],
            "needs_background": "light"
          }
        }
      ]
    },
    {
      "cell_type": "markdown",
      "metadata": {
        "id": "3aSAoBworT3K"
      },
      "source": [
        "$\\sigma$-clipping is probably the most widely used outlier rejection method in the astronomy literature.\n",
        "\n",
        "However it is *ad hoc* - $\\sigma$ itself is changing each clipping iteration, but you cannot know how unless you know the underlying PDF that the sample was drawn from, including the outliers.\n",
        "\n",
        "It's also painfully slow with large quantities of data. "
      ]
    },
    {
      "cell_type": "markdown",
      "metadata": {
        "id": "zShm6k5nrT3K"
      },
      "source": [
        "## Alternative 2: L-estimators\n",
        "\n",
        "An L-estimator is a linear combination of statistics based on order statistics, or sample quantiles. Basic examples include the minimum, maximum and mean.\n",
        "\n",
        "It's useful to have some summary statistics that describe distributions, which are robust to outliers, and can be computed fast.\n",
        "\n",
        "We assumed a form for the empirical PDF $f(x; \\theta)$, and used some moments as estimators. But there are other quantities that you can get from the empirical PDF that are more robust. "
      ]
    },
    {
      "cell_type": "markdown",
      "metadata": {
        "id": "gEsDNaCdrT3K"
      },
      "source": [
        "The quantile estimators we looked at in week 1 already have this behavior.\n",
        "\n",
        "### $$ p = \\int_{-\\infty}^{x_p} f(x) dx $$\n",
        "\n",
        "### and the median: $$ \\frac{1}{2} = \\int_{-\\infty}^{x_{\\frac{1}{2}} } f(x) dx $$"
      ]
    },
    {
      "cell_type": "markdown",
      "metadata": {
        "id": "1YfjPbc6rT3L"
      },
      "source": [
        "You can also define measures of the variance of the data. This was one - you've used it on your homework implicitly.\n",
        "\n",
        "### <center> $ \\text{IQR} = x_{\\frac{3}{4}} - x_{\\frac{1}{4}} $</center>\n",
        "\n",
        "For a normal distribution, $\\sigma = \\text{IQR}/2\\sqrt{2}\\cdot\\text{erf}^{-1}(\\frac{1}{2}) \\;\\; (\\approx1.349)$. This is another common L-estimator called the **Median Absolute Deviation**\n",
        "\n",
        "### <center> $ \\text{MAD}  = \\left| x_i - x_{\\frac{1}{2}} \\right| $ </center>\n",
        "\n",
        "For a normal distribution, $\\sigma = 1.4826\\cdot\\text{MAD}$\n"
      ]
    },
    {
      "cell_type": "code",
      "metadata": {
        "id": "tPV4JgXlrT3L",
        "outputId": "6976ce61-ddcb-41ae-db1f-f83843cf5df0",
        "colab": {
          "base_uri": "https://localhost:8080/",
          "height": 297
        }
      },
      "source": [
        "# if we repeat the exercise with robust estimators\n",
        "\n",
        "# these are just the robust estimators we discussed above in functional form\n",
        "# you can write your own functions from scratch if you like, but scipy.stats already has them\n",
        "# you should remember how to call MAD at least - it'll be something you use a lot\n",
        "median = np.median(samp)\n",
        "sig_robust = 1.4826*st.median_absolute_deviation(samp)\n",
        "sig_robust2 = st.iqr(samp)/1.349\n",
        "\n",
        "\n",
        "# same sort of plots we've been making\n",
        "fig = figure(figsize=(8, 4))\n",
        "ax1 = fig.add_subplot(1,2,1)\n",
        "ax2 = fig.add_subplot(1,2,2)\n",
        "\n",
        "# sample\n",
        "ahist(samp, bins='freedman', density=True, ax=ax1, alpha=0.5)\n",
        "xmin, xmax = ax1.get_xlim()\n",
        "xval = np.arange(xmin, xmax+0.01, 0.001)\n",
        "\n",
        "# this time, instead of applying the method of moments using the sample moments, we're using the L-estimators\n",
        "estpdf  = st.norm.pdf(xval, loc=median, scale=sig_robust)\n",
        "estpdf2  = st.norm.pdf(xval, loc=median, scale=sig_robust2)\n",
        "\n",
        "# overplot the estimated PDFs\n",
        "ax1.plot(xval, estpdf, color='C1', lw=2, label=fr'Est $\\mu=${median:.3f}, $\\sigma$ MAD={sig_robust:.3f}')\n",
        "ax1.plot(xval, estpdf2, color='C2', lw=2, label=fr'Est $\\mu=${median:.3f}, $\\sigma$ IQR={sig_robust2:.3f}')\n",
        "ax1.legend(frameon=False)\n",
        "\n",
        "# and the QQ plot\n",
        "sm.qqplot(samp, line='r', ax=ax2, marker='.')\n",
        "\n",
        "# and the trend lines\n",
        "nmin, nmax = ax2.get_xlim()\n",
        "nvals = np.arange(nmin, nmax+0.01, 0.01)\n",
        "y = median + sig_robust*nvals\n",
        "y2 = median + sig_robust2*nvals\n",
        "ax2.plot(nvals, y, '--', color='C1', lw=2, label='Using MAD')\n",
        "ax2.plot(nvals, y2, '-.', color='C2', lw=2, label='Using IQR')\n",
        "\n",
        "\n",
        "ax2.legend(frameon=False)\n",
        "tight_layout()"
      ],
      "execution_count": 30,
      "outputs": [
        {
          "output_type": "display_data",
          "data": {
            "image/png": "[encoded data removed]",
            "text/plain": [
              "<Figure size 576x288 with 2 Axes>"
            ]
          },
          "metadata": {
            "tags": [],
            "needs_background": "light"
          }
        }
      ]
    },
    {
      "cell_type": "markdown",
      "metadata": {
        "id": "qCK8bMhNrT3L"
      },
      "source": [
        "L-estimators work well when:\n",
        "   * the data has outliers\n",
        "   * the data has no (or at least very small) uncertainties associated with it\n",
        "       * notice that we computed them from the sample, but made no mention/use of sample uncertainties"
      ]
    },
    {
      "cell_type": "markdown",
      "metadata": {
        "id": "--yTWShZrT3L"
      },
      "source": [
        "## Alternative 3: M-estimators\n",
        "\n",
        "M-estimators are a \"broad class of extremum estimators for which the objective function is a sample average.\" Examples include non-linear least squares and maximum likelihood estimators.\n",
        "\n",
        "* As before, assume a form for the empirical PDF $f(x; \\theta)$\n",
        "* Define a **loss function** $\\rho(u)$ for some quantity $u$ e.g. $x - \\mu$\n",
        "* Minimize this loss over the sample\n",
        "    * $\\sum_{i=1}^{N} \\rho(u_i) $ "
      ]
    },
    {
      "cell_type": "markdown",
      "metadata": {
        "id": "C18ER-G6rT3M"
      },
      "source": [
        "### OK, so what the heck is a loss function now?\n",
        "\n",
        "If $(x_1, x_2..., x_N)$ is a set of i.i.d random variables from some distribution p(x) which we don't know, but want to estimate. \n",
        "\n",
        "What we're trying to do is to build an estimator for moments out of the sample.\n",
        "\n",
        "If we define\n",
        "\n",
        "## <center> $ \\rho(x, \\theta=\\mu) = \\frac{(x - \\mu)^2}{2} $ </center>\n",
        "\n",
        "How do you go about minimizing this with respect to $\\theta$?"
      ]
    },
    {
      "cell_type": "markdown",
      "metadata": {
        "id": "-_hqbf4prT3M"
      },
      "source": [
        "For $u = x-\\mu$, there's several potential cost functions:\n",
        "\n",
        "## <center> $\\rho(u) = u^2$ </center>\n",
        "    \n",
        "is an old friend to all of you. It's the **sum of squared residuals** or what we sometimes call the $L_2$ norm.\n",
        "\n",
        "Of the loss functions, this is the nicest behaved - it's **convex** and **differentiable**"
      ]
    },
    {
      "cell_type": "markdown",
      "metadata": {
        "id": "dWzjMxy3rT3M"
      },
      "source": [
        "### In class exercise\n",
        "\n",
        "Let's use the sum of least squares M-estimator to evaluate the mean of our sample in the previous section"
      ]
    },
    {
      "cell_type": "code",
      "metadata": {
        "id": "8hp0OWmkrT3M"
      },
      "source": [
        "# first we need to define a the loss function that returns the sum of squared residuals for some value of theta=mu\n",
        "\n",
        "def sum_of_squared_residuals(mu):\n",
        "        \"\"\"\n",
        "        This is a simple sum of squared residuals function\n",
        "        \"\"\"\n",
        "        # samp is in the Namespace for this function\n",
        "        # we could make a more general function by passing the data in as an argument\n",
        "\n",
        "        residual = samp - mu\n",
        "        return np.sum(residual**2.)"
      ],
      "execution_count": null,
      "outputs": []
    },
    {
      "cell_type": "code",
      "metadata": {
        "id": "XJMh3FdmrT3M"
      },
      "source": [
        "# next lets evaluate this function over the range of the sample\n",
        "# there are numerical ways to do this, but we'll brute force it\n",
        "\n",
        "\n",
        "# we'll create a grid of points in x and evaluate the loss function at each position\n",
        "# we can get the limits from the plot in the previous section\n",
        "xmin, xmax = ax1.get_xlim()\n",
        "x_grid = np.arange(xmin, xmax, 0.01)\n",
        "\n",
        "# and then we want to evaluate the loss function\n",
        "ssr = [sum_of_squared_residuals(x) for x in x_grid]"
      ],
      "execution_count": null,
      "outputs": []
    },
    {
      "cell_type": "code",
      "metadata": {
        "id": "s2oBoL3brT3M",
        "outputId": "3e28df4a-eeb0-46a3-ad80-b15a01b687c8"
      },
      "source": [
        "# finally histogram the sample and overplot the loss function and sample\n",
        "\n",
        "# the sample is easy - we've done that a bunch already\n",
        "fig = figure(figsize=(8,8))\n",
        "ax1 = fig.add_subplot(111)\n",
        "ahist(samp, ax=ax1, bins=\"freedman\")\n",
        "ax1.set_xlabel('x')\n",
        "ax1.set_ylabel('#')\n",
        "\n",
        "# if you have a matplotlib axis, you can create a twin axis with the same x axis but a different y axis with\n",
        "ax2 = ax1.twinx()\n",
        "ax2.set_ylabel('Sum of Squared Residuals')\n",
        "\n",
        "# Now plot the loss function you evaluated as a function of x - use a different color than the default\n",
        "# YOUR CODE GOES HERE:\n",
        "\n",
        "# find the minimum of the LOSS FUNCTION and plot a vertical line at the location of the minimum\n",
        "# use the came color as above\n",
        "\n",
        "# While array.min() returns the minimium VALUE in an array\n",
        "# array.argmin() gives you the POSITION/INDEX of that value"
      ],
      "execution_count": null,
      "outputs": [
        {
          "output_type": "execute_result",
          "data": {
            "text/plain": [
              "Text(0, 0.5, 'Sum of Squared Residuals')"
            ]
          },
          "metadata": {
            "tags": []
          },
          "execution_count": 12
        },
        {
          "output_type": "display_data",
          "data": {
            "image/png": "[encoded data removed]",
            "text/plain": [
              "<Figure size 576x576 with 2 Axes>"
            ]
          },
          "metadata": {
            "tags": [],
            "needs_background": "light"
          }
        }
      ]
    },
    {
      "cell_type": "markdown",
      "metadata": {
        "id": "qS0kL0_MrT3N"
      },
      "source": [
        "**Differentiability implies continuity. Continuity does not guarantee differentiability.**\n",
        "\n",
        "Most M-estimators aren't nicely differentiable, but often have other properties - such as resistance to outliers.\n",
        "\n",
        "You've already seen another loss function:\n",
        "\n",
        "### <center> $\\rho(u) = \\left|u \\right|$ </center>\n",
        "\n",
        "This is the sum of absolute residuals and is related directly to the MAD. You might see it called the $L_1$ norm, particularly in machine learning literature. "
      ]
    },
    {
      "cell_type": "markdown",
      "metadata": {
        "id": "hWh569qjrT3N"
      },
      "source": [
        "### Other loss functions you'll see\n",
        "\n",
        "<center> <img src=\"https://github.com/andreamwalker/ast8581_2021_Spring/blob/inclass/lecture/03/figures/loss_functions.jpg?raw=1\"> </center>"
      ]
    },
    {
      "cell_type": "markdown",
      "metadata": {
        "id": "SBR_AbaNrT3N"
      },
      "source": [
        "### M-estimators and The Likelihood Function\n",
        "\n",
        "If we know the distribution from which our data were drawn (or make a hypothesis about it), then we can compute the **probability** of our data being generated.\n",
        "\n",
        "For example, for the Gaussian distribution probablity of getting a specific value of $x$ is given by:\n",
        "\n",
        "## $$p(x|\\mu,\\sigma) = \\frac{1}{\\sigma\\sqrt{2\\pi}} \\exp\\left(\\frac{-(x-\\mu)^2}{2\\sigma^2}\\right).$$"
      ]
    },
    {
      "cell_type": "markdown",
      "metadata": {
        "id": "PToAb6mTrT3N"
      },
      "source": [
        "### The Likelihood Function\n",
        "\n",
        "If we want to know the total probability of our *entire* data set (as opposed to one measurement) then we must compute the *product* of all the individual probabilities:\n",
        "\n",
        "## $$L \\equiv p(\\{x_i\\}|H(\\theta)) = \\prod_{i=1}^n p(x_i|H(\\theta)),$$\n",
        "\n",
        "where $H$ refers to the *hypothesis* and $\\theta$ refers collectively to the $k$ parameters of the model, which can generally be multi-dimensional. \n",
        "\n",
        "\n",
        "In words, this is ***the probability of the data given the model parameters***. "
      ]
    },
    {
      "cell_type": "markdown",
      "metadata": {
        "id": "v9Ti1uacrT3O"
      },
      "source": [
        "Note that this implicitly assumes that the measurements in your sample are, as always, i.i.d\n",
        "\n",
        "\n",
        "Recall (from the axioms of probability) that:\n",
        "\n",
        "## $$ P(A \\cap B)  = P(A|B)\\cdot P(B) = P(B|A)\\cdot P(A)$$\n",
        "and iff:\n",
        "## $$ P(A \\cap B) = P(A) \\cdot P(B) $$ then $A$ and $B$ are **independent**.\n"
      ]
    },
    {
      "cell_type": "markdown",
      "metadata": {
        "id": "pQOQboMYrT3O"
      },
      "source": [
        "\n",
        "We can write this out as:\n",
        "### $$L = \\prod_{i=1}^n \\frac{1}{\\sigma\\sqrt{2\\pi}} \\exp\\left(\\frac{-(x_i-\\mu)^2}{2\\sigma^2}\\right),$$\n",
        "\n",
        "This can simplify to\n",
        "### $$L = \\left( \\prod_{i=1}^n \\frac{1}{\\sigma\\sqrt{2\\pi}} \\right) \\exp\\left( -\\frac{1}{2} \\sum \\left[\\frac{-(x_i-\\mu)}{\\sigma} \\right]^2 \\right),$$\n",
        "\n",
        "where we have written the product of the exponentials as the exponential of the sum of the arguments, which will make things easier to deal with later.\n",
        "\n",
        "i.e. we have done this: \n",
        "### $$\\prod_{i=1}^n A_i \\exp(-B_i) = (A_iA_{i+1}\\ldots A_n) \\exp[-(B_i+B_{i+1}+\\ldots+B_n)]$$"
      ]
    },
    {
      "cell_type": "markdown",
      "metadata": {
        "id": "qamLjZ-xrT3O"
      },
      "source": [
        "The argument of the exponential is just\n",
        "\n",
        "### $$\\exp \\left(-\\frac{\\chi^2}{2}\\right).$$\n",
        "\n",
        "where, for our Gaussian distribution\n",
        "### $$\\chi^2 = \\sum_{i=1}^n \\left ( \\frac{x_i-\\mu}{\\sigma}\\right)^2.$$"
      ]
    },
    {
      "cell_type": "markdown",
      "metadata": {
        "id": "oIbqGo21rT3O"
      },
      "source": [
        "At some specific values of the model parameters, $\\theta$, we can evaluate the likelihood of our data, given the model (you did this with the sum of squared residuals) i.e \n",
        "\n",
        "### $$p(D | \\theta)$$"
      ]
    },
    {
      "cell_type": "markdown",
      "metadata": {
        "id": "RFjMc1vxrT3O"
      },
      "source": [
        "**Note**\n",
        "\n",
        "For multidimensional distributions, as we will see later in the course, the uncertainties come in the form of a covariance matrix where there uncertainties can be correlated. This still assumes Gaussianity\n",
        "\n",
        "## $$ L = p(D\\; | \\;  \\pmb \\theta\\;) =  \\prod_{k=1}^{n} \\; \\frac{1}{(2\\pi)^{d/2} \\; |\\Sigma|^{1/2}} exp \\bigg[ -\\frac{1}{2}(\\pmb x - \\pmb \\mu)^t \\Sigma^{-1}(\\pmb x - \\pmb \\mu) \\bigg]$$\n",
        "\n",
        "where $\\Sigma$ is the covariance matrix and $d$ is the dimensionality"
      ]
    },
    {
      "cell_type": "markdown",
      "metadata": {
        "id": "7aeVtwHarT3O"
      },
      "source": [
        "For practical reasons, it's better to work with the natural logarithm of the likelihood (we'll get to why in a few slides)\n",
        "\n",
        "We define the *log-likelihood function* as ${\\rm lnL} = \\ln[L(\\theta)]$.  The maximum of this function happens at the same place as the maximum of $L$. Given all that, we have:\n",
        "\n",
        "## $${\\rm lnL} = {\\rm constant} - \\sum_{i=1}^N \\frac{(x_i - \\mu)^2}{2\\sigma^2}.$$"
      ]
    },
    {
      "cell_type": "markdown",
      "metadata": {
        "id": "qdRpOFfnrT3P"
      },
      "source": [
        "We then determine the maximum in the same way that we always do.  It is the parameter set for which the derivative of ${\\rm lnL}$ is zero:\n",
        "\n",
        "$$\\frac{d\\;{\\rm lnL}(\\mu)}{d\\mu}\\Biggr\\rvert_{\\hat \\mu} \\equiv 0.$$\n",
        "\n",
        "That gives $$ \\sum_{i=1}^N \\frac{(x_i - \\hat \\mu)}{\\sigma^2} = 0.$$\n",
        "\n",
        "(note: we should also check that the $2^{\\rm nd}$ derivative is negative, to ensure this is the *maximum* of $L$)\n",
        "\n",
        "(also note: any constants in $\\ln L$ disappear when differentiated, so constant terms can typically be ignored.)"
      ]
    },
    {
      "cell_type": "markdown",
      "metadata": {
        "id": "wRbVT85NrT3P"
      },
      "source": [
        "So, maximizing the likelihood is the same as minimizing $\\chi^2$:\n",
        "\n",
        "Maximizing the likelihood is solving for the extremum of:\n",
        "### $$ L \\sim \\exp \\left(-\\frac{\\chi^2}{2}\\right).$$\n",
        "\n",
        "is the same as Maximizing the natural logarithm of the likelihood:\n",
        "(because the log is a monotonically increasing function)\n",
        "\n",
        "### $$ \\ln (L) \\sim -\\frac{\\chi^2}{2}$$\n",
        "\n",
        "and therefore is the same as **minimizing** the negative log likelihood:\n",
        "\n",
        "### $$ -\\ln(L) \\sim \\frac{\\chi^2}{2}$$\n",
        "\n",
        "\n",
        "i.e. maximum likelihood estimation - and $\\chi^2$ minimization are just a special case of M-estimators. "
      ]
    },
    {
      "cell_type": "markdown",
      "metadata": {
        "id": "7dhy7kZMrT3P"
      },
      "source": [
        "Since $\\sigma = {\\rm constant}$, that says \n",
        "## $$\\sum_{i=1}^N x_i = \\sum_{i=1}^N \\hat \\mu = N \\hat \\mu.$$\n",
        "\n",
        "Thus we find that\n",
        "## $$\\hat \\mu = \\frac{1}{N}\\sum_{i=1}^N x_i,$$\n",
        "which is just the arithmetic mean of all the measurements."
      ]
    },
    {
      "cell_type": "markdown",
      "metadata": {
        "id": "YjT5c2gcrT3P"
      },
      "source": [
        "## This is how we started the week with the method of moments.\n"
      ]
    },
    {
      "cell_type": "markdown",
      "metadata": {
        "id": "z5o9hDEYrT3P"
      },
      "source": [
        "### The Sample Mean is an ML Estimator\n",
        "\n",
        "The mean of observations drawn from a $N(\\mu, \\sigma=const)$ distribution is a maximum-likelihood estimator of the distribution's $\\mu$ parameter.\n",
        "\n",
        "We'd used this and guessed this intuitively, but this derivation clarifies our choice: as an estimator of the real value of $\\mu$, we adopt the value $\\hat \\mu$ with which it's maximally likely for the measured data set to occur.\n",
        "\n",
        "It also exposes the ***assumptions*** behind this conclusion; namely homoscedasticity and gaussianity of uncertainties. For example, if our uncertainties were Cauchy-distributed the mean (or any higher moment) is not define"
      ]
    },
    {
      "cell_type": "markdown",
      "metadata": {
        "id": "USKOJ5psrT3P"
      },
      "source": [
        "## The Core Idea Behind Maximum Likelihood Estimators\n",
        "\n",
        "Let's say that we know that some data were drawn from a Gaussian distribution, but we don't know the $\\theta = (\\mu,\\sigma)$ values of that distribution (i.e., the parameters).\n",
        "\n",
        "Then Maximum Likelihood Estimation method tells us to think of the likelihood as a ***function of the unknown model parameters***, and ***find those that maximize the value of $L$***. Those will be our Maximum Likelihood Estimators for for the true values of the model."
      ]
    },
    {
      "cell_type": "markdown",
      "metadata": {
        "id": "vZBo-D5arT3Q"
      },
      "source": [
        "**NOTE**\n",
        "\n",
        "The Likelihood function is the joint **probability density** of all measurements. \n",
        "\n",
        "For each measurment we have a probablity density. These probability densities have **units**. \n",
        "\n",
        "They are the reciprical of the units of the measurement (as the integrated probability does not have units but the interval over which we are integrating does)."
      ]
    },
    {
      "cell_type": "markdown",
      "metadata": {
        "id": "CwOX7tD7rT3Q"
      },
      "source": [
        "You will generally see people minimizing the negative log likelihood rather than maximizing the likelihood directly\n",
        "\n",
        "The reason is fairly simple:\n",
        "\n",
        "While the components of $L$ may be normalized pdfs, their *product* is not. \n",
        "\n",
        "The PDFs often yield verys small numbers, which you are then multiplying together, making even smaller numbers.\n",
        "\n",
        "### $$10^{-24}$$ is pretty small\n",
        "\n",
        "### $$ \\log_{10}(10^{-24}) = -24$$ is not!"
      ]
    },
    {
      "cell_type": "markdown",
      "metadata": {
        "id": "sBaiEJSZrT3Q"
      },
      "source": [
        "### Properties of ML Estimators\n",
        "\n",
        "Assuming the data truly are drawn from the model, ML estimators have the following useful properties:\n",
        "\n",
        "* **They are consistent estimators**; that is, they can be proven to converge to the true parameter value as the number of data points increases.\n",
        "\n",
        "* **They are asymptotically normal estimators**. The distribution of the parameter estimate, as the number of data points increases to infinity, approaches a normal distribution, centered at the MLE, with a certain spread. \n",
        "\n",
        "* **This spread can often be easily calculated and used as a confidence band around the estimate**"
      ]
    },
    {
      "cell_type": "markdown",
      "metadata": {
        "id": "Phsvl87mrT3Q"
      },
      "source": [
        "Estimators (L-, M-, and the special case of MLE) are themselves random variables \n",
        "\n",
        "They can only be determined given the data after all and the observations are themselves random variables\n",
        "\n",
        "So it's reasonable to ask how confident we are in our estimate - what is the uncertainty."
      ]
    },
    {
      "cell_type": "markdown",
      "metadata": {
        "id": "3LsVH-EyrT3Q"
      },
      "source": [
        "## Quantifying Estimate Uncertainty\n",
        "\n",
        "We *define* the uncertainty on our MLEs using the second (partial) derivatives of log-likelihood:\n",
        "\n",
        "## $$\\sigma_{jk} = \\left( - \\frac{d^2}{d\\theta_j} \\frac{\\ln L}{d\\theta_k} \\Biggr\\rvert_{\\theta=\\hat \\theta}\\right)^{-1/2}.$$\n",
        "\n",
        "Taken together, these entries (more accurately, their squares) are know as the **covariance matrix**. We'd defined this in terms on samples from a bivariate distribution last week. Now we're redefining it in terms of the likelihood!\n",
        "\n",
        "This is also called the **Fisher-information matrix, $I(\\theta)$** \n",
        "\n",
        "The marginal error bars for each parameter, $\\theta_i$ are given by the diagonal elements, $\\sigma_{ii}$. These are the \"error bars\" that are typically quoted with each measurement. Off diagonal elements, $\\sigma_{ij}$, arise from any correlation between the parameters in the model."
      ]
    },
    {
      "cell_type": "markdown",
      "metadata": {
        "id": "kpRTkCdSrT3R"
      },
      "source": [
        "In our example with Gaussian likelihoods, the uncertainly on the mean is \n",
        "## $$\\sigma_{\\mu} = \\left( - \\frac{d^2\\ln L(\\mu)}{d\\mu^2}\\Biggr\\rvert_{\\hat \\mu}\\right)^{-1/2}$$\n",
        "\n",
        "We find\n",
        "## $$\\frac{d^2\\ln L(\\mu)}{d\\mu^2}\\Biggr\\rvert_{\\hat \\mu} = - \\sum_{i=1}^N\\frac{1}{\\sigma^2} = -\\frac{N}{\\sigma^2},$$\n",
        "since, again, $\\sigma = {\\rm constant}$.  \n",
        "\n",
        "Then \n",
        "## $$\\sigma_{\\mu} = \\frac{\\sigma}{\\sqrt{N}}.$$\n",
        "\n",
        "So, our estimator of $\\mu$ is $\\overline{x}\\pm\\frac{\\sigma}{\\sqrt{N}}$, which is a result that you should be familiar with."
      ]
    },
    {
      "cell_type": "markdown",
      "metadata": {
        "id": "uF_s9pMurT3R"
      },
      "source": [
        "### Connecting Uncertainty back to Geometry\n",
        "\n",
        "OK, so we're happy with the second derivative of the log likelihood at the MLE looking like an uncertainty for a Gaussian.\n",
        "\n",
        "\n",
        "But it's reasonable to ask why this works for any general likelihood function?\n",
        "\n",
        "The result for $\\sigma_{\\mu}$ has been derived by expanding $\\ln L$ in a Taylor series and retaining terms up to second order (essentially, $\\ln L$ is approximated by a parabola, or an ellipsoidal surface in multidimensional cases, around its maximum)."
      ]
    },
    {
      "cell_type": "markdown",
      "metadata": {
        "id": "6xzCgtfhrT3R"
      },
      "source": [
        "If this expansion is exact (as is the case for a Gaussian error distribution), then we've completely captured the error information.\n",
        "\n",
        "In general, this is not the case and the likelihood surface can significantly deviate from a smooth elliptical surface. \n",
        "\n",
        "Furthermore, it often happens in practice that the likelihood surface is multimodal. \n",
        "\n",
        "It is always a good idea to visualize the likelihood surface when in doubt.\n",
        "\n",
        "### i.e. LOOK AT YOUR DATA"
      ]
    },
    {
      "cell_type": "markdown",
      "metadata": {
        "id": "DRhxyYKqrT3R"
      },
      "source": [
        "### The Cramer-Rao bound\n",
        "\n",
        "If you have an unbiased estimator of a parameter $T(\\theta)$, such as a ML estimator with a large number of samples, this estimator has a minimum possible uncertainty.\n",
        "\n",
        "That variance of the estimator is bounded by \n",
        "\n",
        "## $$ \\text{Var}(T(\\theta)) \\geq \\frac{1}{I(\\theta)} $$\n",
        "\n",
        "where $I(\\theta)$ is the Fisher information matrix."
      ]
    },
    {
      "cell_type": "markdown",
      "metadata": {
        "id": "hx8jF-K3rT3R"
      },
      "source": [
        "### This is why the Fisher information is used in error analysis\n",
        "\n",
        "* If you have an estimate of the likelihood (assuming some model) of the data, you can compute the maximum.\n",
        "\n",
        "* If you can compute the maximum, you can also compute how the likelihood changes near the maximum, approximating it with a parabola/n-dimensional ellipsoid.\n",
        "\n",
        "* This lets you compute the Fisher information.\n",
        "\n",
        "* The Cramer-Rao bound says that this is the best case you can do if your estimator is unbiased. \n",
        "\n",
        "* If your estimator actually attains this limit, it is said to be *efficient*"
      ]
    },
    {
      "cell_type": "markdown",
      "metadata": {
        "id": "zrGTXIfBrT3R"
      },
      "source": [
        "## Goodness of Fit\n",
        "\n",
        "The MLE approach tells us what the \"best\" model parameters are, but not how good the fit actually is.  \n",
        "(You already know the MLE estimate can be poor if there are outliers).\n",
        "\n",
        "If the model is wrong, \"best\" might not be particularly revealing!  \n",
        "\n",
        "We can describe the **goodness of fit** as whether or not it is likely to have obtained $\\ln L_0$ by randomly drawing from the data.  That means that we need to know the *distribution* of $\\ln L$. "
      ]
    },
    {
      "cell_type": "markdown",
      "metadata": {
        "id": "O7QORl0-rT3S"
      },
      "source": [
        "## Goodness of Fit\n",
        "\n",
        "For the Gaussian case, we can write\n",
        "\n",
        "### $$z_i = (x_i-\\mu)/\\sigma,$$ \n",
        "then\n",
        "### $$\\ln L = {\\rm constant} - \\frac{1}{2}\\sum_{i=1}^N z^2 = {\\rm constant} - \\frac{1}{2}\\chi^2.$$\n",
        "\n",
        "So **$\\ln L$ is distributed as $\\chi^2$ (with $N-k$ degrees of freedom).**"
      ]
    },
    {
      "cell_type": "markdown",
      "metadata": {
        "id": "NEaZnVHorT3S"
      },
      "source": [
        "## Goodness of Fit\n",
        "\n",
        "\n",
        "The expectation value for the $\\chi^2$ distribution is $N − k$ and its standard deviation is $\\sqrt{2(N − k)}$. We typically have $N \\gg k$ (where $N$ is the number of data points, and $k$ is the number of parameters in the model). When that holds, it becomes useful to define **$\\chi^2$ per degree of freedom, $\\chi^2_{dof}$**, as:\n",
        "\n",
        "## $$\\chi^2_{dof} = \\frac{1}{N-k}\\sum_{i=1}^N z^2_i.$$\n",
        "\n",
        "Therefore, for a good fit we would expect that $\\chi^2_{dof}\\approx 1$ (the expectation value).  If $\\chi^2_{dof}$ is significantly larger than 1, then it is likely that we are not using the correct model.\n",
        "\n",
        "We can also get overly high or low values of $\\chi^2_{dof}$ if our uncertainties are under- or over-estimated. This is particularly interesting when we have correlated uncertainties"
      ]
    },
    {
      "cell_type": "markdown",
      "metadata": {
        "id": "hptZsuKXrT3S"
      },
      "source": [
        "\n",
        "![Ivezic, Figure 4.1](http://www.astroml.org/_images/fig_chi2_eval_1.png)"
      ]
    },
    {
      "cell_type": "markdown",
      "metadata": {
        "id": "U9fOqEwurT3S"
      },
      "source": [
        "## Q in Class: Can you get the indices of the elements clipped by sigma_clip\n",
        "\n",
        "Ans: Yes! If instead of masked = False, we used masked = True, we'd get a \"masked array\" returned to us. This is like a regular numpy array but with a boolean mask to accompany every element. It's also the same shape as the input. "
      ]
    },
    {
      "cell_type": "code",
      "metadata": {
        "id": "w2YbL33frT3S"
      },
      "source": [
        "masked_array = sigma_clip(samp, sigma=3, stdfunc='std', masked=True)"
      ],
      "execution_count": null,
      "outputs": []
    },
    {
      "cell_type": "code",
      "metadata": {
        "id": "Y54CMxqXrT3T",
        "outputId": "4b4bdacc-c8b3-495f-b5ab-3ca769bc937b"
      },
      "source": [
        "print(\"Masked array shape:\", masked_array.shape, \"Original array shape:\", samp.shape)"
      ],
      "execution_count": null,
      "outputs": [
        {
          "output_type": "stream",
          "text": [
            "Masked array shape: (230,) Original array shape: (230,)\n"
          ],
          "name": "stdout"
        }
      ]
    },
    {
      "cell_type": "code",
      "metadata": {
        "id": "FVS5osTBrT3T",
        "outputId": "59b964f4-0b34-4097-9429-9bb9cb874499"
      },
      "source": [
        "#You can look at the mask with \n",
        "print(masked_array.mask)"
      ],
      "execution_count": null,
      "outputs": [
        {
          "output_type": "stream",
          "text": [
            "[False  True False  True False False False False  True False False False\n",
            "  True False False False False False False False False False False False\n",
            " False False False False False False False False False False False False\n",
            " False False False  True False False False False  True False False False\n",
            " False False False False False False False False False False False False\n",
            " False False  True False  True False False False False False  True False\n",
            " False False False False False False False False False False False False\n",
            " False False False False False False False False False False False False\n",
            " False  True False False False False False  True False False False False\n",
            " False False False  True False False False False False False False False\n",
            " False False False False False False  True False  True False False False\n",
            " False False False  True False False  True  True False False False  True\n",
            " False False False False False False False False False False False False\n",
            " False False False False False False False False False False False False\n",
            " False False False False False  True False False False False False False\n",
            " False False False False False False False False False False False False\n",
            " False False False False False False False  True False  True False False\n",
            " False False False False False False False False False  True False False\n",
            " False False False False False False False False False False False False\n",
            " False False]\n"
          ],
          "name": "stdout"
        }
      ]
    },
    {
      "cell_type": "code",
      "metadata": {
        "id": "n18XZVOwrT3T",
        "outputId": "24c79ac4-6e36-4791-920f-f9f315a8f176"
      },
      "source": [
        "# which shows you the removed elements\n",
        "samp[masked_array.mask]"
      ],
      "execution_count": null,
      "outputs": [
        {
          "output_type": "execute_result",
          "data": {
            "text/plain": [
              "masked_array(data=[--, --, --, --, --, --, --, --, --, --, --, --, --, --,\n",
              "                   --, --, --, --, --, --, --, --],\n",
              "             mask=[ True,  True,  True,  True,  True,  True,  True,  True,\n",
              "                    True,  True,  True,  True,  True,  True,  True,  True,\n",
              "                    True,  True,  True,  True,  True,  True],\n",
              "       fill_value=1e+20,\n",
              "            dtype=float64)"
            ]
          },
          "metadata": {
            "tags": []
          },
          "execution_count": 15
        }
      ]
    },
    {
      "cell_type": "code",
      "metadata": {
        "id": "fEPnfN9PrT3T",
        "outputId": "49740e6c-21d9-4336-fa15-1e12b521cb5d"
      },
      "source": [
        "# you can also invert a mask with the unary ~ operator\n",
        "unclipped = ~masked_array.mask\n",
        "print(masked_array[unclipped])"
      ],
      "execution_count": null,
      "outputs": [
        {
          "output_type": "stream",
          "text": [
            "[16.744172678289004 16.75014274994308 16.76053264937098 16.740930059040274\n",
            " 16.735547121862545 16.7517766647808 16.736621576383442 16.73931237380718\n",
            " 16.76493726476169 16.77380046667332 16.774913471593706 16.71059877333566\n",
            " 16.738773680566283 16.733401397439344 16.719556608900554 16.7561458304546\n",
            " 16.754505332225463 16.745255707011978 16.75014274994308 16.75998332671582\n",
            " 16.729122628533183 16.77602761864351 16.735547121862545\n",
            " 16.771022935854997 16.761082250093803 16.756693214486745\n",
            " 16.821557820264815 16.729122628533183 16.78666943089029 16.77602761864351\n",
            " 16.742009856448778 16.747425010840047 16.706408758662253\n",
            " 16.747425010840047 16.761082250093803 16.790616541668683\n",
            " 16.75123175324878 16.722205393343735 16.767699250999982\n",
            " 16.746339817141752 16.7517766647808 16.791181587845767 16.73393743112328\n",
            " 16.72486065562277 16.795712574931763 16.758337024346172\n",
            " 16.797985179015832 16.742009856448778 16.75014274994308 16.7232667191416\n",
            " 16.754505332225463 16.768252492390175 16.714278347631257\n",
            " 16.767699250999982 16.779376936070037 16.71059877333566\n",
            " 16.720615347360614 16.75998332671582 16.778259348524358\n",
            " 16.767699250999982 16.732865628267476 16.740930059040274\n",
            " 16.742550158129376 16.738773680566283 16.75724087462686\n",
            " 16.767146291372676 16.75123175324878 16.754505332225463\n",
            " 16.738773680566283 16.735547121862545 16.729122628533183\n",
            " 16.740390562778366 16.75998332671582 16.69341822076944 16.731794882416636\n",
            " 16.753959049846763 16.817496819840656 16.703798187063704\n",
            " 16.734473729580596 16.734473729580596 16.763834434596017\n",
            " 16.75888551448401 16.73501029307299 16.750687115060906 16.75724087462686\n",
            " 16.744172678289004 16.761082250093803 16.711123663945237\n",
            " 16.745255707011978 16.746339817141752 16.77602761864351\n",
            " 16.738773680566283 16.715331949077118 16.777142910169168\n",
            " 16.72752242749959 16.778259348524358 16.747425010840047 16.75341304218891\n",
            " 16.749054837823245 16.76604121625971 16.729122628533183\n",
            " 16.731259905216966 16.750687115060906 16.736621576383442\n",
            " 16.768252492390175 16.741469823508147 16.76935982160881\n",
            " 16.739851334456002 16.76659361322139 16.732330123346756\n",
            " 16.728588966096904 16.76604121625971 16.80884548956689 16.774356826513703\n",
            " 16.782175948202223 16.73393743112328 16.753959049846763\n",
            " 16.781615568213134 16.7517766647808 16.739851334456002 16.747425010840047\n",
            " 16.793444717804846 16.737159202640903 16.76493726476169 16.75998332671582\n",
            " 16.731794882416636 16.73608421621174 16.73393743112328 16.721145103997014\n",
            " 16.781055477303234 16.7517766647808 16.71902762657352 16.796280280149794\n",
            " 16.71691427076319 16.789487330745516 16.783858825632542 16.75998332671582\n",
            " 16.781055477303234 16.730725191487984 16.788359293028712\n",
            " 16.72486065562277 16.740930059040274 16.762182286869525 16.76328343930139\n",
            " 16.770468281332203 16.722735926559647 16.761632129165953\n",
            " 16.732865628267476 16.728588966096904 16.775470402205947\n",
            " 16.780495675174436 16.817496819840656 16.74959865762162\n",
            " 16.714805020551967 16.76273272348702 16.754505332225463\n",
            " 16.744172678289004 16.796280280149794 16.75341304218891 16.73769709524777\n",
            " 16.771022935854997 16.71849890184685 16.725392488209824 16.77602761864351\n",
            " 16.799123267384985 16.764385709654704 16.771577873871045 16.7232667191416\n",
            " 16.68723754257148 16.732865628267476 16.783297576612675\n",
            " 16.762182286869525 16.793444717804846 16.785544315551512\n",
            " 16.747425010840047 16.75778881115363 16.722735926559647\n",
            " 16.705886141947104 16.82446786275939 16.711123663945237 16.72698955082398\n",
            " 16.728588966096904 16.76053264937098 16.731794882416636 16.73769709524777\n",
            " 16.761082250093803 16.776585121199922 16.73501029307299\n",
            " 16.797985179015832 16.783297576612675 16.732330123346756\n",
            " 16.76493726476169 16.709025622317014 16.72698955082398 16.754505332225463\n",
            " 16.755051889601596 16.74851129027509 16.76604121625971 16.74959865762162\n",
            " 16.763834434596017 16.75341304218891 16.749054837823245\n",
            " 16.732330123346756 16.761632129165953 16.76991391001316\n",
            " 16.764385709654704 16.75998332671582 16.7561458304546]\n"
          ],
          "name": "stdout"
        }
      ]
    },
    {
      "cell_type": "code",
      "metadata": {
        "id": "zuNU-TBgrT3U"
      },
      "source": [
        ""
      ],
      "execution_count": null,
      "outputs": []
    }
  ]
}