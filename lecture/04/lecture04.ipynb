{
  "nbformat": 4,
  "nbformat_minor": 0,
  "metadata": {
    "celltoolbar": "Slideshow",
    "kernelspec": {
      "display_name": "Python 3",
      "language": "python",
      "name": "python3"
    },
    "language_info": {
      "codemirror_mode": {
        "name": "ipython",
        "version": 3
      },
      "file_extension": ".py",
      "mimetype": "text/x-python",
      "name": "python",
      "nbconvert_exporter": "python",
      "pygments_lexer": "ipython3",
      "version": "3.7.9"
    },
    "colab": {
      "name": "lecture04.ipynb",
      "provenance": [],
      "include_colab_link": true
    }
  },
  "cells": [
    {
      "cell_type": "markdown",
      "metadata": {
        "id": "view-in-github",
        "colab_type": "text"
      },
      "source": [
        "<a href=\"https://colab.research.google.com/github/andreamwalker/ast8581_2021_Spring/blob/inclass/lecture/04/lecture04.ipynb\" target=\"_parent\"><img src=\"https://colab.research.google.com/assets/colab-badge.svg\" alt=\"Open In Colab\"/></a>"
      ]
    },
    {
      "cell_type": "code",
      "metadata": {
        "id": "eQaQeoAmbfpj",
        "outputId": "c58708fc-9cc6-497c-f2bc-55bb108ab72e"
      },
      "source": [
        "from notebook.services.config import ConfigManager\n",
        "cm = ConfigManager()\n",
        "cm.update('livereveal', {\n",
        "        'width': 1920,\n",
        "        'height': 1080,\n",
        "        'scroll': True,\n",
        "})"
      ],
      "execution_count": null,
      "outputs": [
        {
          "output_type": "execute_result",
          "data": {
            "text/plain": [
              "{'width': 1920, 'height': 1080, 'scroll': True}"
            ]
          },
          "metadata": {
            "tags": []
          },
          "execution_count": 1
        }
      ]
    },
    {
      "cell_type": "markdown",
      "metadata": {
        "id": "utyiamJmbfpv"
      },
      "source": [
        "# Week 03 (Monday), AST 8581 / PHYS 8581 / CSCI 8581: Big Data in Astrophysics\n",
        "\n",
        "### Michael Coughlin <cough052@umn.edu>, Michael Steinbach <stei0062@umn.edu>, Nico Adams adams900@umn.edu\n",
        "\n",
        "\n",
        "With contributions totally ripped off from Zjelko Ivezic and Mario Juric (UW), Gordon Richards (Drexel), Federica Bianco (U. Del), Maria Suveges (EPFL), and Gautham Narayan (UIUC)\n"
      ]
    },
    {
      "cell_type": "markdown",
      "metadata": {
        "id": "PoKfNjmRbfpw"
      },
      "source": [
        "# <center> Homework # 1</center>"
      ]
    },
    {
      "cell_type": "markdown",
      "metadata": {
        "id": "TojuORhGbfpx"
      },
      "source": [
        "### - Really nice work, and interesting to see the ways folks solved the problems!\n",
        "\n",
        "* Thank you everyone who stuck to the structure. Gentle reminder to use 01/homework01.ipynb, 02/homework02.ipynb, etc. in your folders for easy grading.\n",
        "* Please **remember to make comments on the data / result when asked for it.** It's OK if you don't see much or don't understand (for example, we will pick up the astro stuff as we go!), saying that is fine. - Also, please remember to **use proper labels on the axes of your plots**... this is good practice! - And **if you are plotting magnitudes, remember to flip axes**\n",
        "* I do suggest **using Markdown instead of code comments** for the prose... easier to see!\n",
        "* Gentle reminder to list your collaborators as well (apart from general sharing in Slack)\n",
        "* For those using late passes, please just send me an email when you turn it in. Will be simpler to keep track that way."
      ]
    },
    {
      "cell_type": "markdown",
      "metadata": {
        "id": "HSqZqfV6bfpy"
      },
      "source": [
        "# <center> Finishing Lecture 3 </center>"
      ]
    },
    {
      "cell_type": "markdown",
      "metadata": {
        "id": "cI8KQUqjbfpz"
      },
      "source": [
        "### M-estimators and The Likelihood Function\n",
        "\n",
        "If we know the distribution from which our data were drawn (or make a hypothesis about it), then we can compute the **probability** of our data being generated.\n",
        "\n",
        "For example, for the Gaussian distribution probablity of getting a specific value of $x$ is given by:\n",
        "\n",
        "## $$p(x|\\mu,\\sigma) = \\frac{1}{\\sigma\\sqrt{2\\pi}} \\exp\\left(\\frac{-(x-\\mu)^2}{2\\sigma^2}\\right).$$"
      ]
    },
    {
      "cell_type": "markdown",
      "metadata": {
        "id": "XHEDvI7Lbfpz"
      },
      "source": [
        "### The Likelihood Function\n",
        "\n",
        "If we want to know the total probability of our *entire* data set (as opposed to one measurement) then we must compute the *product* of all the individual probabilities:\n",
        "\n",
        "## $$L \\equiv p(\\{x_i\\}|H(\\theta)) = \\prod_{i=1}^n p(x_i|H(\\theta)),$$\n",
        "\n",
        "where $H$ refers to the *hypothesis* and $\\theta$ refers collectively to the $k$ parameters of the model, which can generally be multi-dimensional. \n",
        "\n",
        "\n",
        "In words, this is ***the probability of the data given the model parameters***. "
      ]
    },
    {
      "cell_type": "markdown",
      "metadata": {
        "id": "0-8A1XgFbfp0"
      },
      "source": [
        "## The Core Idea Behind Maximum Likelihood Estimators\n",
        "\n",
        "Let's say that we know that some data were drawn from a Gaussian distribution, but we don't know the $\\theta = (\\mu,\\sigma)$ values of that distribution (i.e., the parameters).\n",
        "\n",
        "Then Maximum Likelihood Estimation method tells us to think of the likelihood as a ***function of the unknown model parameters***, and ***find those that maximize the value of $L$***. Those will be our Maximum Likelihood Estimators for for the true values of the model."
      ]
    },
    {
      "cell_type": "markdown",
      "metadata": {
        "id": "XbCVOuhrbfp1"
      },
      "source": [
        "### Properties of Maximum Likelihood Estimators\n",
        "\n",
        "Assuming the data truly are drawn from the model, Maximum Likelihood estimators have the following useful properties:\n",
        "\n",
        "* **They are consistent estimators**; that is, they can be <u>proven to converge to the true parameter value</u> as the number of data points increases.\n",
        "\n",
        "* **They are asymptotically normal estimators**. The distribution of the parameter estimate, as the number of data points increases to infinity, approaches a normal distribution, centered at the MLE, with a certain spread. \n",
        "\n",
        "* **This spread can often be easily calculated and used as a confidence band around the estimate**"
      ]
    },
    {
      "cell_type": "markdown",
      "metadata": {
        "id": "czS3HcEbbfp2"
      },
      "source": [
        "## Quantifying Estimate Uncertainty\n",
        "\n",
        "We *define* the uncertainty on our MLEs using the second (partial) derivatives of log-likelihood:\n",
        "\n",
        "## $$\\sigma_{jk} = \\left( - \\frac{d^2}{d\\theta_j} \\frac{\\ln L}{d\\theta_k} \\Biggr\\rvert_{\\theta=\\hat \\theta}\\right)^{-1/2}.$$\n",
        "\n",
        "Taken together, these entries (more accurately, their squares) are know as the **covariance matrix**. We'd defined this in terms on samples from a bivariate distribution last week. Now we're redefining it in terms of the likelihood!\n",
        "\n",
        "This is also called the **Fisher-information matrix, $I(\\theta)$** \n",
        "\n",
        "The marginal error bars for each parameter, $\\theta_i$ are given by the diagonal elements, $\\sigma_{ii}$. These are the \"error bars\" that are typically quoted with each measurement. Off diagonal elements, $\\sigma_{ij}$, arise from any correlation between the parameters in the model."
      ]
    },
    {
      "cell_type": "markdown",
      "metadata": {
        "id": "EhU6hJEGbfp3"
      },
      "source": [
        "In our example with Gaussian likelihoods, the uncertainly on the mean is \n",
        "## $$\\sigma_{\\mu} = \\left( - \\frac{d^2\\ln L(\\mu)}{d\\mu^2}\\Biggr\\rvert_{\\hat \\mu}\\right)^{-1/2}$$\n",
        "\n",
        "We find\n",
        "## $$\\frac{d^2\\ln L(\\mu)}{d\\mu^2}\\Biggr\\rvert_{\\hat \\mu} = - \\sum_{i=1}^N\\frac{1}{\\sigma^2} = -\\frac{N}{\\sigma^2},$$\n",
        "since, again, $\\sigma = {\\rm constant}$.  \n",
        "\n",
        "Then \n",
        "## $$\\sigma_{\\mu} = \\frac{\\sigma}{\\sqrt{N}}.$$\n",
        "\n",
        "So, our estimator of $\\mu$ is $\\overline{x}\\pm\\frac{\\sigma}{\\sqrt{N}}$, which is a result that you should be familiar with (from Gaussian statistics)."
      ]
    },
    {
      "cell_type": "markdown",
      "metadata": {
        "id": "g7ZGTghkbfp4"
      },
      "source": [
        "## Goodness of Fit\n",
        "\n",
        "The MLE approach tells us what the \"best\" model parameters are, but not how good the fit actually is.  \n",
        "(You already know the MLE estimate can be poor if there are outliers).\n",
        "\n",
        "If the model is wrong, \"best\" might not be particularly revealing!  \n",
        "\n",
        "We can describe the **goodness of fit** as whether or not it is likely to have obtained $\\ln L_0$ by randomly drawing from the data.  That means that we need to know the *distribution* of $\\ln L$. "
      ]
    },
    {
      "cell_type": "markdown",
      "metadata": {
        "id": "qajfBgr1bfp4"
      },
      "source": [
        "\n",
        "![Ivezic, Figure 4.1](http://www.astroml.org/_images/fig_chi2_eval_1.png)"
      ]
    },
    {
      "cell_type": "markdown",
      "metadata": {
        "id": "kaM1WLaBbfp5"
      },
      "source": [
        "<img src=\"https://github.com/andreamwalker/ast8581_2021_Spring/blob/inclass/lecture/04/figures/nhrt_key.png?raw=1\"> \n",
        "Courtesy Federica Bianco"
      ]
    },
    {
      "cell_type": "markdown",
      "metadata": {
        "id": "r6c6IUJRbfp5"
      },
      "source": [
        "### But there are some natural questions that arise:\n",
        "\n",
        "* How do you know you specified the right model if you can't rule it out with the observations?\n",
        "* How do you know you had enough data to estimate the parameters of the model robustly?"
      ]
    },
    {
      "cell_type": "markdown",
      "metadata": {
        "id": "datQiFrvbfp6"
      },
      "source": [
        "### **Big Picture: What Are We After?**\n",
        "\n",
        "There are two fundamental types of statistical questions we want to answer:\n",
        "\n",
        "#### **1. Model Selection**\n",
        "\n",
        "*Given two potential Models, which better describes my data?*\n",
        "\n",
        "Examples:\n",
        "\n",
        "- Is there a linear trend in this data?\n",
        "- Does a linear or quadratic fit describe our data better?\n",
        "- Is there a periodic signal in this timeseries?\n",
        "- Does this star have a planet around it? Does this star have two planets around it?\n",
        "\n",
        "Often one of the two models is a *null hypothesis*, or a baseline model in which the effect you're interested in is not observed."
      ]
    },
    {
      "cell_type": "markdown",
      "metadata": {
        "id": "Tl50SNOWbfp8"
      },
      "source": [
        "#### **2. Model Fitting**\n",
        "*Given this Model, what parameters best fit my data?*\n",
        "\n",
        "Examples:\n",
        "\n",
        "- What are the slope and intercept of a line of best-fit?\n",
        "- What are the parameters of the best quadratic fit?\n",
        "- What is the frequency, amplitude, and phase of a sinusoidal fit?\n",
        "- What are the orbital parameters of a planet in this radial velocity data?"
      ]
    },
    {
      "cell_type": "markdown",
      "metadata": {
        "id": "LuloCcgrbfp9"
      },
      "source": [
        "Simply, how confident are you in your model itself?\n",
        "\n",
        "#### This is on the surface a straightforward question, but it leads to a deep philosophical split."
      ]
    },
    {
      "cell_type": "markdown",
      "metadata": {
        "id": "Uclda0jFbfp9"
      },
      "source": [
        "### Frequentism\n",
        "\n",
        "In this view of the Universe, there is some underlying truth.\n",
        "\n",
        "I want the photon flux F from a given star, then measure it again, then again, and so on, each time I will get a slightly different answer due to the statistical error of my measuring device.\n",
        "\n",
        "In the limit of a large number of measurements, the frequency of any given value indicates the probability of measuring that value.\n",
        "\n",
        "For *frequentists*, probabilities are fundamentally related to frequencies of events i.e. **$P(D|H)$**.\n",
        "\n",
        "This means, for example, that in a strict frequentist view, it is meaningless to talk about the probability of the true flux of the star: the true flux is (by definition) a single fixed value. \n",
        "\n",
        "To talk about a frequency distribution for a fixed value or model parameter is nonsense."
      ]
    },
    {
      "cell_type": "markdown",
      "metadata": {
        "id": "I4vvCuuDbfp-"
      },
      "source": [
        "<img align=\"left\" src=\"https://github.com/andreamwalker/ast8581_2021_Spring/blob/inclass/lecture/04/figures/41114_2018_17_Fig4_HTML.png?raw=1\" width=\"400px\">\n",
        "\n",
        "### Let's look at an actual example from the literature\n",
        "\n",
        "Fig 4: These plots illustrate the differences between $\\Lambda$CDM and Galileon models (see Sect. 7.3.1), with (**GN: Solid lines**) and without massive neutrinos (**GN: Dashed lines**). The Galileon models have background Friedmann equations that contain a scalar-field energy density contribution that generates late time cosmic acceleration and has an evolution consistent with observations and thus similar to that of a $\\Lambda$CDM model.\n",
        "\n",
        "The Top: CMB temperature power spectra showing the ISW effect at low multipoles. \n",
        "\n",
        "Middle: CMB lensing potential spectra. Bottom: linear matter power spectra. The models plotted in dashed lines indicate **their best fit models to Ade et al. (2014c) temperature data, WMAP9 polarization data (Hinshaw et al. 2013), and Planck-2013 CMB lensing (Ade et al. 2014d).** \n",
        "\n",
        "https://link.springer.com/article/10.1007/s41114-018-0017-4"
      ]
    },
    {
      "cell_type": "markdown",
      "metadata": {
        "id": "JOqSA3PObfp_"
      },
      "source": [
        "# **The thing to note here is that there is a model that has been \"fit\" to some noisy data, but the model is taken as \"Truth.\"** \n",
        "\n",
        "# There is no uncertainty reported about the model. "
      ]
    },
    {
      "cell_type": "markdown",
      "metadata": {
        "id": "CByaLwv7bfqA"
      },
      "source": [
        "<img src=\"https://github.com/andreamwalker/ast8581_2021_Spring/blob/inclass/lecture/04/build/1.png?raw=1\">"
      ]
    },
    {
      "cell_type": "markdown",
      "metadata": {
        "id": "ueuBuLzabfqA"
      },
      "source": [
        "<img src=\"https://github.com/andreamwalker/ast8581_2021_Spring/blob/inclass/lecture/04/build/2.png?raw=1\">"
      ]
    },
    {
      "cell_type": "markdown",
      "metadata": {
        "id": "AzRDBeYebfqB"
      },
      "source": [
        "<img src=\"https://github.com/andreamwalker/ast8581_2021_Spring/blob/inclass/lecture/04/build/3.png?raw=1\">"
      ]
    },
    {
      "cell_type": "markdown",
      "metadata": {
        "id": "hd-OSrQfbfqB"
      },
      "source": [
        "<img src=\"https://github.com/andreamwalker/ast8581_2021_Spring/blob/inclass/lecture/04/build/4.png?raw=1\">"
      ]
    },
    {
      "cell_type": "markdown",
      "metadata": {
        "id": "0W3AoSxcbfqC"
      },
      "source": [
        "<img src=\"https://github.com/andreamwalker/ast8581_2021_Spring/blob/inclass/lecture/04/build/5.png?raw=1\">"
      ]
    },
    {
      "cell_type": "markdown",
      "metadata": {
        "id": "-1TBakxObfqC"
      },
      "source": [
        "<img src=\"https://github.com/andreamwalker/ast8581_2021_Spring/blob/inclass/lecture/04/build/6.png?raw=1\">"
      ]
    },
    {
      "cell_type": "markdown",
      "metadata": {
        "id": "N_tzKtRUbfqC"
      },
      "source": [
        "<img src=\"https://github.com/andreamwalker/ast8581_2021_Spring/blob/inclass/lecture/04/build/7.png?raw=1\">"
      ]
    },
    {
      "cell_type": "markdown",
      "metadata": {
        "id": "_VZqtefubfqD"
      },
      "source": [
        "### The Bayesian View\n",
        "\n",
        "For Bayesians, the concept of probability is extended to cover degrees of certainty about statements. \n",
        "\n",
        "Say a Bayesian claims to measure the flux F of a star with some probability P(F): that probability can certainly be estimated from frequencies in the limit of a large number of repeated experiments, but this is not fundamental. \n",
        "\n",
        "The probability is a statement of my knowledge of what the measurement result will be. \n",
        "\n",
        "For Bayesians, probabilities are fundamentally related to our own knowledge about an event. \n",
        "\n",
        "This means, for example, that in a Bayesian view, we can meaningfully talk about the probability that the true flux of a star lies in a given range. \n",
        "\n",
        "That probability codifies our knowledge of the value based on prior information and/or available data i.e. **$P(H|D)$**"
      ]
    },
    {
      "cell_type": "markdown",
      "metadata": {
        "id": "0XbHsteIbfqD"
      },
      "source": [
        "For more a more fleshed-out discussion of these different definitions and their consequences, you can see Jake VanderPlas' [series of blog posts](http://jakevdp.github.io/blog/2014/03/11/frequentism-and-bayesianism-a-practical-intro/) on the topic."
      ]
    },
    {
      "cell_type": "markdown",
      "metadata": {
        "id": "cNlQDo-nbfqD"
      },
      "source": [
        "The two quantities, $P(H|D)$ and $P(D|H)$ are related to each other by Bayes' rule:\n",
        "\n",
        "# $$ P(H|D) \\propto P(D|H) \\cdot P(H) $$"
      ]
    },
    {
      "cell_type": "markdown",
      "metadata": {
        "id": "RuFX_okXbfqE"
      },
      "source": [
        "### Wherefore the Controversy?\n",
        "\n",
        "When we write Bayes' rule this way, we're all of a sudden doing something controversial: can you see where this controversy lies?\n",
        "\n",
        "Two controversial points:\n",
        "\n",
        "- We have a probability distribution over model parameters. A frequentist would say this is meaningless!\n",
        "\n",
        "- The answer depends on the prior $P(H)$. This is the probability of the model without any data: how are we supposed to know that?\n",
        "\n",
        "Nevertheless, applying Bayes' rule in this manner gives us a means of quantifying our knowledge of the parameters $\\theta$ of some hypothesis $H$ given observed data $D$."
      ]
    },
    {
      "cell_type": "markdown",
      "metadata": {
        "id": "HkMBHl0MbfqE"
      },
      "source": [
        "## What is the Point?\n",
        "\n",
        "At first blush, this might all seem needlessly complicated. Why not simply maximize the likelihood and be done with it? Why multiply by a prior at all?\n",
        "\n",
        "There are a couple good reasons to go through all of this:"
      ]
    },
    {
      "cell_type": "markdown",
      "metadata": {
        "id": "bi6fbntxbfqE"
      },
      "source": [
        "### \"Purity\"\n",
        "\n",
        "Many advocates of the Bayesian approach argue for it's philosophical purity: you quantify knowledge in terms of a probability, then follow the math to compute the answer.\n",
        "\n",
        "The fact that you need to specify a prior might be inconvenient, but we can't simply pretend it away.\n",
        "\n",
        "There are good reasons to think that the Bayesian posterior is just the quantity we wish to compute; in that case we should compute it, however inconvenient.\n",
        "\n",
        "Perhaps the most vocal 20th century proponent of this view was Jaynes; I'd highly suggest looking at his book, *Probability Theory: The Logic of Science* ([PDF here](http://bayes.wustl.edu/etj/prob/book.pdf))."
      ]
    },
    {
      "cell_type": "markdown",
      "metadata": {
        "id": "qxH2leuwbfqF"
      },
      "source": [
        "### Parameter Uncertainties\n",
        "\n",
        "Whether frequentist or Bayesian, the maximum likelihood \"point estimate\" is only a small part of the picture. What we're really interested in scientifically is the *uncertainty* of the estimates. So simply reporting a point estimate is not appropriate.\n",
        "\n",
        "In frequentist approaches, \"error bars\" are generally computed from *Confidence Intervals*, which effectively measure $P(\\hat\\theta\\mid\\theta)$, rather than $P(\\theta\\mid D)$.\n",
        "It takes some mental gymnastics to relate the confidence interval to the quantity we as scientists have in mind when we say \"uncertainty\".\n",
        "\n",
        "In the Bayesian approach, we are actually measuring $P(\\theta\\mid D)$ from the beginning."
      ]
    },
    {
      "cell_type": "markdown",
      "metadata": {
        "id": "S2Ia13GAbfqF"
      },
      "source": [
        "For some approachable reading on frequentist vs. Bayesian uncertainties, I'd suggest [The Fallacy of Placing Confidence in Confidence Intervals](http://learnbayes.org/papers/confidenceIntervalsFallacy/), as well as Jake's (rather opinionated) blog post on the topic, [Confidence, Credibility, and why Frequentism and Science do not Mix](http://jakevdp.github.io/blog/2014/06/12/frequentism-and-bayesianism-3-confidence-credibility/)."
      ]
    },
    {
      "cell_type": "markdown",
      "metadata": {
        "id": "eQMpHar_bfqF"
      },
      "source": [
        "### Aside - the denominator in Bayes' rule\n",
        "\n",
        "\n",
        "The denominator in Bayes' rule is the Evidence $P(D)$\n",
        "\n",
        "# $$ P(H|D) = \\frac{P(D|H) \\cdot P(H)}{P(D)} $$"
      ]
    },
    {
      "cell_type": "markdown",
      "metadata": {
        "id": "me2XcCiYbfqG"
      },
      "source": [
        "Consider that the evidence can be expressed as an integral using the identities we covered above:\n",
        "$$\n",
        "P(D) = \\int P(D\\mid\\theta) P(\\theta) d\\theta\n",
        "$$\n",
        "\n",
        "In other words, it is the integral over the likelihood for *all possible values of theta*.\n",
        "\n",
        "This means we could have called the Fully Marginalized Likelihood (FML) instead of the evidence. \n",
        "\n",
        "When your likelihood is a complicated function of many parameters, computing this integral can become extremely costly (a manifestation of the *curse of dimensionality*), which makes the acronym doubly appropriate in any situation where you actually need it.\n",
        "\n",
        "\n",
        "In general, for **model fitting**, you can ignore the FML as a simple normalization term. In **model selection**, the FML can become important."
      ]
    },
    {
      "cell_type": "markdown",
      "metadata": {
        "id": "n_2NM3kHbfqG"
      },
      "source": [
        "# Moving beyond this controversy requires at least one thing:\n",
        "\n",
        "If you have a \"flat\" or uniformative prior:\n",
        "\n",
        "$$ P(H) = 1$$\n",
        "\n",
        "Then:\n",
        "\n",
        "$$ P(H|D) \\propto P(D|H) $$\n",
        "\n",
        "\n",
        "But you already know that $P(D|H)$ is just the likelihood."
      ]
    },
    {
      "cell_type": "markdown",
      "metadata": {
        "id": "fuqa7f0DbfqG"
      },
      "source": [
        "## The liklihood function then has to play a dual role:\n",
        "    \n",
        "Given a fixed set of model parameters ($\\theta = \\theta_0$) it is evaluating how likely the data you observed is.\n",
        "\n",
        "\n",
        "But, you can also consider the likelihood to be a function of the model parameters, given fixed data - we did this last week, deriving the MLE estimate for a homoscedastic Gaussian $N(\\mu,\\sigma)$.\n",
        "\n",
        "You cast the likelihood as a function you evaluated at a range of model parameter values.\n",
        "\n",
        "You'll also have to do this on your homework, except now you've got more than 1 parameter."
      ]
    },
    {
      "cell_type": "markdown",
      "metadata": {
        "id": "eclT-29AbfqG"
      },
      "source": [
        "### Confidence Interval vs. Credible Region\n",
        "\n",
        "Even with a flat uniform prior, the two approaches **are not the same.**\n",
        "\n",
        "In the **frequentist paradigm**, the meaning of the *confidence interval* $\\mu_0 \\pm \\sigma_{\\mu}$ is \n",
        "the interval that would contain the true $\\mu$ (from which the data were drawn) in 68% cases\n",
        "of a large number of imaginary repeated experiments (each with a different N values of $\\{x_i\\}$). \n",
        "\n",
        "The same interval follows from the **Bayesian approach** with uniform priors.\n",
        "However, the meaning of that so-called *credible region* is *fundamentally different*: it is the interval\n",
        "that contains the true $\\mu$ with a probability of 68%, given the given dataset (our dear one and only \n",
        "dataset - there are no imaginary experiments in Bayesian paradigm). \n",
        "\n",
        "This credible region is the relevant quantity in the context of scientific measurements. "
      ]
    },
    {
      "cell_type": "markdown",
      "metadata": {
        "id": "HDoVwdmobfqH"
      },
      "source": [
        "### The Essence of the Bayesian Method \n",
        "\n",
        "The basic premise of the Bayesian method is that probability statements are not limited to data, \n",
        "but can be made for model parameters and models themselves. Inferences are made by producing \n",
        "probability density functions (pdfs); most notably, **model parameters are treated as random variables**."
      ]
    },
    {
      "cell_type": "markdown",
      "metadata": {
        "id": "YeJyhU3jbfqH"
      },
      "source": [
        "# In class exercise:\n",
        "\n",
        "Seeing the drawback of an MLE approach, when you fail to incorporate prior information is easy.\n",
        "\n",
        "Let's do it with some example data:"
      ]
    },
    {
      "cell_type": "code",
      "metadata": {
        "id": "3q7T7HLMbfqH"
      },
      "source": [
        "# some imports we need\n",
        "%matplotlib inline\n",
        "import matplotlib.pyplot as plt\n",
        "plt.rcParams['figure.figsize'] = [10, 10]\n",
        "\n",
        "import scipy.stats as st\n",
        "import numpy as np\n",
        "import scipy.integrate as si"
      ],
      "execution_count": 2,
      "outputs": []
    },
    {
      "cell_type": "code",
      "metadata": {
        "id": "o4uofoyQbfqI",
        "outputId": "8b9c2f57-2fbe-40ec-d8d2-a10363e6677f",
        "colab": {
          "base_uri": "https://localhost:8080/",
          "height": 626
        }
      },
      "source": [
        "### Let's draw a homoscedastic (iid) sample of {x_i} from a Gaussian and see what happens with L\n",
        "# first generate a sample of N points drawn from N(mu,sigma):\n",
        "import scipy.stats as stats\n",
        "\n",
        "np.random.seed(42)\n",
        "sampleSize=100\n",
        "mu = 1.0\n",
        "sigma = 0.2 \n",
        "sample = st.norm(mu, sigma).rvs(sampleSize) \n",
        "\n",
        "# now compute likelihoods for each point using true mu \n",
        "muGrid = np.linspace(0,2,1000)\n",
        "likelihood = np.ones(len(muGrid))\n",
        "\n",
        "# what's the total likelihood and where is the maximum likelihood?\n",
        "for i in sample:\n",
        "    likelihood*= st.norm(i,sigma).pdf(muGrid)\n",
        "    # YOUR CODE HERE\n",
        "\n",
        "\n",
        "# renormalize the total area\n",
        "likelihood/=np.sum(likelihood)\n",
        "\n",
        "print(np.amax(likelihood), muGrid[np.argmax(likelihood)])\n",
        "\n",
        "# plot the likelihood  \n",
        "plt.plot(muGrid,likelihood)\n",
        "#plt.show()\n",
        "\n",
        "# plot the truth for comparison\n",
        "#gndtruth = stats.norm.pdf(muGrid, mu, sigma)\n",
        "gndtruth = st.norm.pdf(muGrid,mu,sigma)\n",
        "plt.plot(muGrid, gndtruth/np.amax(gndtruth))\n",
        "\n",
        "# you should be able to change the sample size in the above cell \n",
        "# and see the total likelihood get sharper as the sample size increases\n",
        "# you can even verify that the standard deviation scales as sqrt(N)\n",
        "\n"
      ],
      "execution_count": 28,
      "outputs": [
        {
          "output_type": "stream",
          "text": [
            "0.03993099945603811 0.978978978978979\n"
          ],
          "name": "stdout"
        },
        {
          "output_type": "execute_result",
          "data": {
            "text/plain": [
              "[<matplotlib.lines.Line2D at 0x7f4da895b3c8>]"
            ]
          },
          "metadata": {
            "tags": []
          },
          "execution_count": 28
        },
        {
          "output_type": "display_data",
          "data": {
            "image/png": "[encoded data removed]",
            "text/plain": [
              "<Figure size 720x720 with 1 Axes>"
            ]
          },
          "metadata": {
            "tags": [],
            "needs_background": "light"
          }
        }
      ]
    },
    {
      "cell_type": "code",
      "metadata": {
        "id": "PNFvTSjlbfqI"
      },
      "source": [
        "# now what happens if I tell you that mu>=0.99?\n",
        "muMin = 0.99\n",
        "\n",
        "# draw sample as before\n",
        "np.random.seed(42)\n",
        "sampleSize=10\n",
        "mu = 1.0\n",
        "sigma = 0.2 \n",
        "sample = st.norm(mu, sigma).rvs(sampleSize)\n",
        "\n",
        "# lets clip samples to be greater than 0.99 (suggest to use np.clip)\n",
        "# YOUR CODE HERE\n",
        "\n",
        "likelihood = np.ones(len(muGrid))\n",
        "# what's the total likelihood and where is the maximum likelihood?\n",
        "for i in sample:\n",
        "    pass\n",
        "    # YOUR CODE HERE\n",
        "\n",
        "# renormalize the total area\n",
        "\n",
        "# plot the likelihood  \n",
        "    \n",
        "# plot the truth for comparison\n",
        "# you should be able to change the sample size in the above cell \n",
        "# and see the total likelihood get sharper as the sample size increases\n",
        "# you can even verify that the standard deviation scales as sqrt(N)\n"
      ],
      "execution_count": null,
      "outputs": []
    },
    {
      "cell_type": "code",
      "metadata": {
        "id": "0wx-LdjCbfqJ"
      },
      "source": [
        ""
      ],
      "execution_count": null,
      "outputs": []
    }
  ]
}